{
 "cells": [
  {
   "cell_type": "markdown",
   "id": "640bd3f7",
   "metadata": {},
   "source": [
    "## Initial Setup"
   ]
  },
  {
   "cell_type": "code",
   "execution_count": 1,
   "id": "04ed2518",
   "metadata": {
    "scrolled": false
   },
   "outputs": [
    {
     "data": {
      "application/vnd.jupyter.widget-view+json": {
       "model_id": "e3445ce84fb846c2b544c815d4e5282c",
       "version_major": 2,
       "version_minor": 0
      },
      "text/plain": [
       "VBox()"
      ]
     },
     "metadata": {},
     "output_type": "display_data"
    },
    {
     "name": "stdout",
     "output_type": "stream",
     "text": [
      "Starting Spark application\n"
     ]
    },
    {
     "data": {
      "text/html": [
       "<table>\n",
       "<tr><th>ID</th><th>YARN Application ID</th><th>Kind</th><th>State</th><th>Spark UI</th><th>Driver log</th><th>Current session?</th></tr><tr><td>7</td><td>application_1663453062035_0008</td><td>pyspark</td><td>idle</td><td><a target=\"_blank\" href=\"http://ip-172-31-18-36.ec2.internal:20888/proxy/application_1663453062035_0008/\" class=\"emr-proxy-link\" emr-resource=\"j-1AAQUWTPRC8XQ\n",
       "\" application-id=\"application_1663453062035_0008\">Link</a></td><td><a target=\"_blank\" href=\"http://ip-172-31-24-141.ec2.internal:8042/node/containerlogs/container_1663453062035_0008_01_000001/livy\" >Link</a></td><td>✔</td></tr></table>"
      ],
      "text/plain": [
       "<IPython.core.display.HTML object>"
      ]
     },
     "metadata": {},
     "output_type": "display_data"
    },
    {
     "data": {
      "application/vnd.jupyter.widget-view+json": {
       "model_id": "",
       "version_major": 2,
       "version_minor": 0
      },
      "text/plain": [
       "FloatProgress(value=0.0, bar_style='info', description='Progress:', layout=Layout(height='25px', width='50%'),…"
      ]
     },
     "metadata": {},
     "output_type": "display_data"
    },
    {
     "name": "stdout",
     "output_type": "stream",
     "text": [
      "SparkSession available as 'spark'.\n"
     ]
    },
    {
     "data": {
      "application/vnd.jupyter.widget-view+json": {
       "model_id": "",
       "version_major": 2,
       "version_minor": 0
      },
      "text/plain": [
       "FloatProgress(value=0.0, bar_style='info', description='Progress:', layout=Layout(height='25px', width='50%'),…"
      ]
     },
     "metadata": {},
     "output_type": "display_data"
    }
   ],
   "source": [
    "from pyspark.sql import SparkSession"
   ]
  },
  {
   "cell_type": "code",
   "execution_count": 2,
   "id": "494d9d27",
   "metadata": {
    "scrolled": true
   },
   "outputs": [
    {
     "data": {
      "application/vnd.jupyter.widget-view+json": {
       "model_id": "7d6c042c123143eab8dc844a167c54a4",
       "version_major": 2,
       "version_minor": 0
      },
      "text/plain": [
       "VBox()"
      ]
     },
     "metadata": {},
     "output_type": "display_data"
    },
    {
     "data": {
      "application/vnd.jupyter.widget-view+json": {
       "model_id": "",
       "version_major": 2,
       "version_minor": 0
      },
      "text/plain": [
       "FloatProgress(value=0.0, bar_style='info', description='Progress:', layout=Layout(height='25px', width='50%'),…"
      ]
     },
     "metadata": {},
     "output_type": "display_data"
    }
   ],
   "source": [
    "from pyspark.sql import SparkSession\n",
    "spark = SparkSession.builder.appName(\"Basics\").getOrCreate()"
   ]
  },
  {
   "cell_type": "code",
   "execution_count": 3,
   "id": "5a3d6550",
   "metadata": {
    "scrolled": true
   },
   "outputs": [
    {
     "data": {
      "application/vnd.jupyter.widget-view+json": {
       "model_id": "1a02cc8bf8874028b5141688f180c76a",
       "version_major": 2,
       "version_minor": 0
      },
      "text/plain": [
       "VBox()"
      ]
     },
     "metadata": {},
     "output_type": "display_data"
    },
    {
     "data": {
      "application/vnd.jupyter.widget-view+json": {
       "model_id": "",
       "version_major": 2,
       "version_minor": 0
      },
      "text/plain": [
       "FloatProgress(value=0.0, bar_style='info', description='Progress:', layout=Layout(height='25px', width='50%'),…"
      ]
     },
     "metadata": {},
     "output_type": "display_data"
    },
    {
     "name": "stdout",
     "output_type": "stream",
     "text": [
      "<pyspark.sql.session.SparkSession object at 0x7f8ff34e5490>"
     ]
    }
   ],
   "source": [
    "spark"
   ]
  },
  {
   "cell_type": "code",
   "execution_count": null,
   "id": "9c6c0247",
   "metadata": {},
   "outputs": [],
   "source": [
    "#spark.sparkContext.getConf().get('spark.driver.memory')\n"
   ]
  },
  {
   "cell_type": "markdown",
   "id": "7149a568",
   "metadata": {},
   "source": [
    "### Run this cell only to increase memory on spark memory"
   ]
  },
  {
   "cell_type": "code",
   "execution_count": null,
   "id": "04d037d2",
   "metadata": {},
   "outputs": [],
   "source": [
    "#%%configure -f \n",
    "#{\"driverMemory\": \"6000M\"}"
   ]
  },
  {
   "cell_type": "code",
   "execution_count": null,
   "id": "45175dc0",
   "metadata": {},
   "outputs": [],
   "source": [
    "#spark.sparkContext.getConf().get('spark.driver.memory')\n"
   ]
  },
  {
   "cell_type": "code",
   "execution_count": 4,
   "id": "fc5e0bec",
   "metadata": {},
   "outputs": [
    {
     "data": {
      "application/vnd.jupyter.widget-view+json": {
       "model_id": "4a10b355f7904d5fbcad65ba1a5242ae",
       "version_major": 2,
       "version_minor": 0
      },
      "text/plain": [
       "VBox()"
      ]
     },
     "metadata": {},
     "output_type": "display_data"
    },
    {
     "data": {
      "application/vnd.jupyter.widget-view+json": {
       "model_id": "",
       "version_major": 2,
       "version_minor": 0
      },
      "text/plain": [
       "FloatProgress(value=0.0, bar_style='info', description='Progress:', layout=Layout(height='25px', width='50%'),…"
      ]
     },
     "metadata": {},
     "output_type": "display_data"
    },
    {
     "name": "stdout",
     "output_type": "stream",
     "text": [
      "Collecting plotly==5.5.0\n",
      "  Using cached https://files.pythonhosted.org/packages/b3/f4/23d4a698db9fe772f7fdf40ac17b743c4b0d80274732c59db5bd45acb3be/plotly-5.5.0-py2.py3-none-any.whl\n",
      "Requirement already satisfied: six in /usr/local/lib/python3.7/site-packages (from plotly==5.5.0)\n",
      "Collecting tenacity>=6.2.0 (from plotly==5.5.0)\n",
      "  Using cached https://files.pythonhosted.org/packages/f2/a5/f86bc8d67c979020438c8559cc70cfe3a1643fd160d35e09c9cca6a09189/tenacity-8.0.1-py3-none-any.whl\n",
      "Installing collected packages: tenacity, plotly\n",
      "Successfully installed plotly-5.5.0 tenacity-8.0.1\n",
      "\n",
      "Collecting pandas==0.25.1\n",
      "  Using cached https://files.pythonhosted.org/packages/7e/ab/ea76361f9d3e732e114adcd801d2820d5319c23d0ac5482fa3b412db217e/pandas-0.25.1-cp37-cp37m-manylinux1_x86_64.whl\n",
      "Requirement already satisfied: pytz>=2017.2 in /usr/local/lib/python3.7/site-packages (from pandas==0.25.1)\n",
      "Requirement already satisfied: numpy>=1.13.3 in /usr/local/lib64/python3.7/site-packages (from pandas==0.25.1)\n",
      "Collecting python-dateutil>=2.6.1 (from pandas==0.25.1)\n",
      "  Using cached https://files.pythonhosted.org/packages/36/7a/87837f39d0296e723bb9b62bbb257d0355c7f6128853c78955f57342a56d/python_dateutil-2.8.2-py2.py3-none-any.whl\n",
      "Requirement already satisfied: six>=1.5 in /usr/local/lib/python3.7/site-packages (from python-dateutil>=2.6.1->pandas==0.25.1)\n",
      "Installing collected packages: python-dateutil, pandas\n",
      "Successfully installed pandas-0.25.1 python-dateutil-2.8.2\n",
      "\n",
      "Collecting numpy==1.14.5\n",
      "  Using cached https://files.pythonhosted.org/packages/3f/e7/7f24ef402a5766c677683e313c5595137d754cb9eb1c99627803280e79d5/numpy-1.14.5-cp37-cp37m-manylinux1_x86_64.whl\n",
      "Installing collected packages: numpy\n",
      "  Found existing installation: numpy 1.16.5\n",
      "    Not uninstalling numpy at /usr/local/lib64/python3.7/site-packages, outside environment /tmp/1663458587571-0\n",
      "Successfully installed numpy-1.14.5\n",
      "\n",
      "Collecting matplotlib==3.1.1\n",
      "  Using cached https://files.pythonhosted.org/packages/19/7a/60bd79c5d79559150f8bba866dd7d434f0a170312e4d15e8aefa5faba294/matplotlib-3.1.1-cp37-cp37m-manylinux1_x86_64.whl\n",
      "Requirement already satisfied: python-dateutil>=2.1 in /mnt/tmp/1663458587571-0/lib/python3.7/site-packages (from matplotlib==3.1.1)\n",
      "Collecting pyparsing!=2.0.4,!=2.1.2,!=2.1.6,>=2.0.1 (from matplotlib==3.1.1)\n",
      "  Using cached https://files.pythonhosted.org/packages/6c/10/a7d0fa5baea8fe7b50f448ab742f26f52b80bfca85ac2be9d35cdd9a3246/pyparsing-3.0.9-py3-none-any.whl\n",
      "Collecting cycler>=0.10 (from matplotlib==3.1.1)\n",
      "  Using cached https://files.pythonhosted.org/packages/5c/f9/695d6bedebd747e5eb0fe8fad57b72fdf25411273a39791cde838d5a8f51/cycler-0.11.0-py3-none-any.whl\n",
      "Requirement already satisfied: numpy>=1.11 in /mnt/tmp/1663458587571-0/lib/python3.7/site-packages (from matplotlib==3.1.1)\n",
      "Collecting kiwisolver>=1.0.1 (from matplotlib==3.1.1)\n",
      "  Using cached https://files.pythonhosted.org/packages/ab/8f/8dbe2d4efc4c0b08ec67d6efb7cc31fbfd688c80afad85f65980633b0d37/kiwisolver-1.4.4-cp37-cp37m-manylinux_2_5_x86_64.manylinux1_x86_64.whl\n",
      "Requirement already satisfied: six>=1.5 in /usr/local/lib/python3.7/site-packages (from python-dateutil>=2.1->matplotlib==3.1.1)\n",
      "Collecting typing-extensions; python_version < \"3.8\" (from kiwisolver>=1.0.1->matplotlib==3.1.1)\n",
      "  Using cached https://files.pythonhosted.org/packages/ed/d6/2afc375a8d55b8be879d6b4986d4f69f01115e795e36827fd3a40166028b/typing_extensions-4.3.0-py3-none-any.whl\n",
      "Installing collected packages: pyparsing, cycler, typing-extensions, kiwisolver, matplotlib\n",
      "Successfully installed cycler-0.11.0 kiwisolver-1.4.4 matplotlib-3.1.1 pyparsing-3.0.9 typing-extensions-4.3.0\n",
      "\n",
      "You are using pip version 9.0.1, however version 22.2.2 is available.\n",
      "You should consider upgrading via the 'pip install --upgrade pip' command.\n",
      "\n",
      "You are using pip version 9.0.1, however version 22.2.2 is available.\n",
      "You should consider upgrading via the 'pip install --upgrade pip' command.\n",
      "\n",
      "You are using pip version 9.0.1, however version 22.2.2 is available.\n",
      "You should consider upgrading via the 'pip install --upgrade pip' command.\n",
      "\n",
      "You are using pip version 9.0.1, however version 22.2.2 is available.\n",
      "You should consider upgrading via the 'pip install --upgrade pip' command."
     ]
    }
   ],
   "source": [
    "# Run this everytime you create a new spark instance. \n",
    "\n",
    "spark.sparkContext.install_pypi_package(\"plotly==5.5.0\")\n",
    "spark.sparkContext.install_pypi_package(\"pandas==0.25.1\")\n",
    "spark.sparkContext.install_pypi_package(\"numpy==1.14.5\")\n",
    "spark.sparkContext.install_pypi_package(\"matplotlib==3.1.1\")"
   ]
  },
  {
   "cell_type": "code",
   "execution_count": 5,
   "id": "d956d7bf",
   "metadata": {},
   "outputs": [
    {
     "data": {
      "application/vnd.jupyter.widget-view+json": {
       "model_id": "cc706351b8814a63834d0bd2204ea420",
       "version_major": 2,
       "version_minor": 0
      },
      "text/plain": [
       "VBox()"
      ]
     },
     "metadata": {},
     "output_type": "display_data"
    },
    {
     "data": {
      "application/vnd.jupyter.widget-view+json": {
       "model_id": "",
       "version_major": 2,
       "version_minor": 0
      },
      "text/plain": [
       "FloatProgress(value=0.0, bar_style='info', description='Progress:', layout=Layout(height='25px', width='50%'),…"
      ]
     },
     "metadata": {},
     "output_type": "display_data"
    }
   ],
   "source": [
    "# Write all import commands here \n",
    "from pyspark.sql import functions as F\n",
    "from pyspark.sql.functions import mean as _mean, stddev as _stddev, stddev as _count, col\n",
    "from pyspark.ml.feature import Bucketizer\n",
    "import matplotlib.pyplot as plt\n",
    "import pandas as pd\n",
    "\n",
    "\n"
   ]
  },
  {
   "cell_type": "code",
   "execution_count": null,
   "id": "01ac19e1",
   "metadata": {},
   "outputs": [],
   "source": [
    "from platform import python_version\n",
    "print(python_version())"
   ]
  },
  {
   "cell_type": "code",
   "execution_count": null,
   "id": "35180225",
   "metadata": {},
   "outputs": [],
   "source": [
    "#%matplot inline\n",
    "x = list(range(1,10))\n",
    "y = list(range(1,10))\n",
    "plt.plot(x,y)"
   ]
  },
  {
   "cell_type": "code",
   "execution_count": null,
   "id": "374fdf82",
   "metadata": {},
   "outputs": [],
   "source": [
    "#%matplot plt"
   ]
  },
  {
   "cell_type": "code",
   "execution_count": 6,
   "id": "395e4efe",
   "metadata": {},
   "outputs": [
    {
     "data": {
      "application/vnd.jupyter.widget-view+json": {
       "model_id": "6dbfcda66fc340a3a9707ea1cf340392",
       "version_major": 2,
       "version_minor": 0
      },
      "text/plain": [
       "VBox()"
      ]
     },
     "metadata": {},
     "output_type": "display_data"
    },
    {
     "data": {
      "application/vnd.jupyter.widget-view+json": {
       "model_id": "",
       "version_major": 2,
       "version_minor": 0
      },
      "text/plain": [
       "FloatProgress(value=0.0, bar_style='info', description='Progress:', layout=Layout(height='25px', width='50%'),…"
      ]
     },
     "metadata": {},
     "output_type": "display_data"
    }
   ],
   "source": [
    "def get_quantiles(df, col_name, quantiles_list=[0.01, 0.25, 0.5, 0.75, 0.99]):\n",
    "    \"\"\"\n",
    "    Takes a numerical column and returns column values at requested quantiles\n",
    "\n",
    "    Inputs \n",
    "    Argument 1: Dataframe\n",
    "    Argument 2: Name of the column\n",
    "    Argument 3: A list of quantiles you want to find. Default value [0.01, 0.25, 0.5, 0.75, 0.99]\n",
    "\n",
    "    Output \n",
    "    Returns a dictionary with quantiles as keys and column quantile values as values \n",
    "    \"\"\"\n",
    "    # Get min, max and quantile values for given column\n",
    "    zero = df.approxQuantile(col_name,[0.0] , 0.2)[0]\n",
    "    quant_vals = df.approxQuantile(col_name, quantiles_list, 0.2)\n",
    "    one = df.approxQuantile(col_name,[1.0] , 0.2)[0]\n",
    "\n",
    "    # Store min, quantiles and max in output dict, sequentially\n",
    "    quantiles_dict = {0.0:int(zero)}\n",
    "    for i in range(0,len(quantiles_list)):\n",
    "        quantiles_dict[quantiles_list[i]]=quant_vals[i]\n",
    "    quantiles_dict[1.0]=int(one)\n",
    "\n",
    "    return(quantiles_dict)"
   ]
  },
  {
   "cell_type": "markdown",
   "id": "e7c41efa",
   "metadata": {},
   "source": [
    "## Defining Custom Functions "
   ]
  },
  {
   "cell_type": "code",
   "execution_count": 7,
   "id": "12cc5cc7",
   "metadata": {},
   "outputs": [
    {
     "data": {
      "application/vnd.jupyter.widget-view+json": {
       "model_id": "f22ce2032eb34da989a310f4d28a4623",
       "version_major": 2,
       "version_minor": 0
      },
      "text/plain": [
       "VBox()"
      ]
     },
     "metadata": {},
     "output_type": "display_data"
    },
    {
     "data": {
      "application/vnd.jupyter.widget-view+json": {
       "model_id": "",
       "version_major": 2,
       "version_minor": 0
      },
      "text/plain": [
       "FloatProgress(value=0.0, bar_style='info', description='Progress:', layout=Layout(height='25px', width='50%'),…"
      ]
     },
     "metadata": {},
     "output_type": "display_data"
    }
   ],
   "source": [
    "# Code check cell\n",
    "# Do not edit cells with assert commands\n",
    "# If an error is shown after running this cell, please recheck your code.  \n",
    "\n",
    "Test_data = [[25, 23, 21, 30, 11, 6, 1, 3, 5, 28, 4, 24, 24, 14, 25, 29, 15, 2, 27, 9, 11, 22, 11, 11, 11, 14, 1, 25, 8, 18, 20, 26, 13, 1, 4, 23, 20, 17, 9, 27, 4, 23, 26, 14, 13, 1, 27, 18, 19, 19],\n",
    "             [21, 21, 16, 17, 8, 26, 16, 11, 9, 30, 25, 24, 5, 12, 26, 17, 11, 15, 5, 12, 3, 1, 10, 9, 15, 2, 5, 17, 4, 3, 12, 20, 21, 23, 23, 21, 26, 21, 14, 13, 16, 29, 26, 6, 14, 25, 14, 5, 18, 2],\n",
    "             [18, 24, 26, 10, 28, 12, 1, 11, 30, 10, 1, 24, 5, 1, 3, 29, 2, 27, 5, 15, 23, 26, 14, 13, 6, 9, 28, 2, 27, 9, 26, 1, 28, 10, 27, 23, 12, 25, 28, 25, 8, 15, 11, 10, 11, 5, 14, 4, 3, 3],\n",
    "             [15, 4, 15, 8, 1, 1, 28, 13, 26, 5, 27, 15, 11, 13, 29, 1, 5, 15, 12, 29, 9, 17, 20, 19, 7, 15, 26, 28, 5, 7, 8, 21, 14, 20, 15, 4, 5, 18, 6, 29, 12, 20, 18, 7, 18, 25, 27, 19, 6, 21]]\n",
    "\n",
    "columns = [\"Test_col_1\", \"Test_col_2\", \"Test_col_3\", \"Test_col_4\"]\n",
    "\n",
    "quantiles_test_df = spark.createDataFrame(Test_data, columns)\n",
    "\n",
    "assert get_quantiles(quantiles_test_df, \"Test_col_1\", quantiles_list = [0.5]) == {0.0: 15, 0.5: 18.0, 1.0: 25}, \"Recheck the get_quantiles function\"\n",
    "assert get_quantiles(quantiles_test_df, \"Test_col_2\", quantiles_list = [0.6]) == {0.0: 4, 0.6: 23.0, 1.0: 24}, \"Recheck the get_quantiles function\"\n",
    "assert get_quantiles(quantiles_test_df, \"Test_col_3\", quantiles_list = [0.25]) == {0.0: 15, 0.25: 15.0, 1.0: 26}, \"Recheck the get_quantiles function\"\n",
    "assert get_quantiles(quantiles_test_df, \"Test_col_4\") == {0.0: 8, 0.01: 8.0, 0.25: 8.0, 0.5: 10.0, 0.75: 17.0, 0.99: 30.0, 1.0: 30}, \"Recheck the get_quantiles function\""
   ]
  },
  {
   "cell_type": "code",
   "execution_count": 8,
   "id": "da0aa680",
   "metadata": {},
   "outputs": [
    {
     "data": {
      "application/vnd.jupyter.widget-view+json": {
       "model_id": "681f262bdf234c7eb4eb13c5a7f036b2",
       "version_major": 2,
       "version_minor": 0
      },
      "text/plain": [
       "VBox()"
      ]
     },
     "metadata": {},
     "output_type": "display_data"
    },
    {
     "data": {
      "application/vnd.jupyter.widget-view+json": {
       "model_id": "",
       "version_major": 2,
       "version_minor": 0
      },
      "text/plain": [
       "FloatProgress(value=0.0, bar_style='info', description='Progress:', layout=Layout(height='25px', width='50%'),…"
      ]
     },
     "metadata": {},
     "output_type": "display_data"
    }
   ],
   "source": [
    "\n",
    "def plot_bucketwise_statistics (summary, bucketizer):\n",
    "    \"\"\"\n",
    "    Takes in a dataframe and a bucketizer object and plots the summary statistics for each bucket in the dataframe. \n",
    "  \n",
    "    Inputs\n",
    "    Argument 1: Pandas dataframe obtained from bucket_col_print_summary function \n",
    "    Argument 2: Bucketizer object obtained from bucket_col_print_summary function\n",
    "  \n",
    "    Output\n",
    "    Displays a plot of bucketwise average ratings nunber of ratings of a parameter.   \n",
    "    \"\"\"\n",
    "    # Creating bucket labels from splits\n",
    "    classlist = bucketizer.getSplits()\n",
    "    number_of_classes = len(classlist) - 1\n",
    "\n",
    "    class_labels = []\n",
    "    hover_labels = []\n",
    "    for i in range (number_of_classes):\n",
    "        hover_labels.append(str(classlist[i])+\"-\"+str(classlist[i+1]) +\" (Bucket name: \"+ str(int(i)) +\")\"  )\n",
    "        class_labels.append(str(classlist[i])+\"-\"+str(classlist[i+1]) )\n",
    "  \n",
    "    summary[\"Scaled_number\"] = (summary[\"n_ratings\"]-summary[\"n_ratings\"].min())/(summary[\"n_ratings\"].max()-summary[\"n_ratings\"].min()) + 1.5\n",
    "    summary['Bucket_Names'] = class_labels\n",
    "  \n",
    "    # making plot\n",
    "    x = summary[\"Bucket_Names\"]\n",
    "    y1 = summary[\"avg_rating\"]\n",
    "    y2 = summary[\"n_ratings\"]\n",
    "    err = summary[\"stddev_rating\"]  \n",
    "\n",
    "    # Plot scatter here\n",
    "    plt.rcParams[\"figure.figsize\"] = [summary.shape[0]+2, 6.0]\n",
    "    plt.rcParams[\"figure.autolayout\"] = True\n",
    "    fig, ax1 = plt.subplots()\n",
    "\n",
    "    bar = ax1.bar(x, y1, color = \"#262261\")\n",
    "    ax1.errorbar(x, y1, yerr=err, fmt=\"o\", color=\"#EE4036\")\n",
    "    ax1.set(ylim=(0, 7))\n",
    "  \n",
    "    #ax1.bar_label(bar , fmt='%.2f', label_type='edge')  \n",
    "    def barlabel(x_list,y_list):\n",
    "        for i in range(len(x_list)):\n",
    "            ax1.text(i,y_list[i] + 0.2,y_list[i], ha = 'center',\n",
    "  \t\t\t         fontdict=dict(size=10),\n",
    "  \t\t\t         bbox=dict(facecolor='#262261', alpha=0.2)         \n",
    "  \t\t\t        )\n",
    "    barlabel(summary[\"Bucket_Names\"].tolist() ,summary[\"avg_rating\"].round(2).tolist())\n",
    "  \n",
    "    ax2 = ax1.twinx()\n",
    "    ax2.scatter(x, y2, s=summary[\"Scaled_number\"]*500, c = '#FAAF40')  \n",
    "    ax2.set(ylim=(0, summary[\"n_ratings\"].max()*1.15))\n",
    "    def scatterlabel(x_list,y_list):\n",
    "  \t    for i in range(len(x_list)):\n",
    "  \t\t    ax2.text(i,y_list[i] + 15000,y_list[i], ha = 'center',\n",
    "  \t\t\t\t\t fontdict=dict(size=10),\n",
    "                     bbox=dict(facecolor='#FAAF40', alpha=0.5)\n",
    "  \t\t\t\t\t)\n",
    "    scatterlabel(summary[\"Bucket_Names\"].tolist() ,summary[\"n_ratings\"].tolist())\n",
    "  \n",
    "    # giving labels to the axises\n",
    "    ax1.set_xlabel(bucketizer.getOutputCol(), fontdict=dict(size=14)) \n",
    "    ax1.set_ylabel(\"Average Ratings\",fontdict=dict(size=14))\n",
    "  \n",
    "    # secondary y-axis label\n",
    "    ax2.set_ylabel('Number of Ratings',fontdict=dict(size=14))\n",
    "  \n",
    "    #plot Title\n",
    "    plt.title('Bucketwise average ratings and number of ratings for \\n'+bucketizer.getInputCol(), \n",
    "              fontdict=dict(size=14))  "
   ]
  },
  {
   "cell_type": "code",
   "execution_count": 9,
   "id": "32067450",
   "metadata": {},
   "outputs": [
    {
     "data": {
      "application/vnd.jupyter.widget-view+json": {
       "model_id": "131785e68eba414d97ee3ad429d2c1ad",
       "version_major": 2,
       "version_minor": 0
      },
      "text/plain": [
       "VBox()"
      ]
     },
     "metadata": {},
     "output_type": "display_data"
    },
    {
     "data": {
      "application/vnd.jupyter.widget-view+json": {
       "model_id": "",
       "version_major": 2,
       "version_minor": 0
      },
      "text/plain": [
       "FloatProgress(value=0.0, bar_style='info', description='Progress:', layout=Layout(height='25px', width='50%'),…"
      ]
     },
     "metadata": {},
     "output_type": "display_data"
    }
   ],
   "source": [
    "def bucket_col_print_summary(df, splits, inputCol, outputCol):\n",
    "    \"\"\"\n",
    "    Given a numerical column in a data frame, adds a bucketized version of the column to the data frame, according to splits provided.\n",
    "    Also prints a summary of ratings seen in each bucket made.\n",
    "\n",
    "    Inputs \n",
    "    Argument 1: Data Frame \n",
    "    Argument 2: Values at which the column will be split\n",
    "    Argument 3: Name of the input column (numerical column)\n",
    "    Argument 4: Name of the output column (bucketized numerical column)\n",
    "\n",
    "    Output: \n",
    "    1) New dataframe with the output column added\n",
    "    2) Bucketizer object trained from the input column \n",
    "    3) Pandas dataframe with summary statistics for ratings seen in buckets of the output column\n",
    "    Also plots summary statistics for ratings seen in buckets of the output column\n",
    "    \"\"\"\n",
    "\n",
    "    # Dropping bucket if it already exists\n",
    "\n",
    "    # Training bucketizer\n",
    "    # bucketizer is an inbuilt feature transformer in SparkML \n",
    "    # use the bucketizer to create buckets and transfrom features\n",
    "    bucket = Bucketizer(splits=splits, inputCol=inputCol, outputCol=outputCol)\n",
    "    bucketizer = bucket.transform(df)\n",
    "    \n",
    "    # Printing meta information on buckets created\n",
    "    print(\"Added bucketized column {}\".format(outputCol))\n",
    "    print(\"\")\n",
    "    print(\"Bucketing done for split definition: {}\".format(splits))\n",
    "    print(\"\")  \n",
    "    print(\"Printing summary statistics for ratings in buckets below:\")\n",
    "    \n",
    "   \n",
    "    # Creating a summary statistics dataframe and passing it to the plotting function\n",
    "    # Write code to create a summary data frame. Ensure the summary df is pandas df. \n",
    "    # The data frame must have average ratings per bucket, standard deviation per bucket, number of ratings per bucket\n",
    "    summary_df = bucketizer.groupBy(outputCol).agg(\n",
    "        F.avg(\"rating\").alias(\"avg_rating\"),\n",
    "        F.stddev(\"rating\").alias(\"stddev_rating\"),\n",
    "        F.count(\"rating\").alias(\"n_ratings\"),\n",
    "        )\n",
    "    summary = summary_df.withColumnRenamed(outputCol,\"Bucket_Names\").toPandas()\n",
    "    \n",
    "    # uncomment the line below after you ensure this function is wokring correctly.  \n",
    "    plot_bucketwise_statistics(summary,bucket)\n",
    "  \n",
    "    return df, bucketizer, summary"
   ]
  },
  {
   "cell_type": "code",
   "execution_count": 10,
   "id": "2844741f",
   "metadata": {},
   "outputs": [
    {
     "data": {
      "application/vnd.jupyter.widget-view+json": {
       "model_id": "6577897742f743f9b82fe6f069b4ef8d",
       "version_major": 2,
       "version_minor": 0
      },
      "text/plain": [
       "VBox()"
      ]
     },
     "metadata": {},
     "output_type": "display_data"
    },
    {
     "data": {
      "application/vnd.jupyter.widget-view+json": {
       "model_id": "",
       "version_major": 2,
       "version_minor": 0
      },
      "text/plain": [
       "FloatProgress(value=0.0, bar_style='info', description='Progress:', layout=Layout(height='25px', width='50%'),…"
      ]
     },
     "metadata": {},
     "output_type": "display_data"
    }
   ],
   "source": [
    "def get_column_distribution_summary(df, col_name):\n",
    "    \"\"\"\n",
    "    Takes a column in a data frame and prints the summary statistics (average, standard deviation, count and distinct count) \n",
    "    for all unique values in that column.\n",
    "  \n",
    "    Inputs \n",
    "    Argument 1: Dataframe \n",
    "    Argument 2: Name of the column\n",
    "  \n",
    "    Output\n",
    "    Returns nothing \n",
    "    Prints a Dataframe with summary statistics\n",
    "    \"\"\"\n",
    "    \n",
    "    print(\n",
    "          # add code here \n",
    "          df.groupBy(\"n_steps\").agg(\n",
    "              F.avg(\"rating\").alias(\"avg_rating\"),\n",
    "              F.stddev(\"rating\").alias(\"stddev_rating\"),\n",
    "              F.count(\"rating\").alias(\"n_ratings\"),\n",
    "              F.countDistinct(\"recipe_id\").alias(\"n_recipes\")\n",
    "              ).sort(\"n_steps\").show()\n",
    "          )\n"
   ]
  },
  {
   "cell_type": "code",
   "execution_count": 11,
   "id": "9e4067ed",
   "metadata": {},
   "outputs": [
    {
     "data": {
      "application/vnd.jupyter.widget-view+json": {
       "model_id": "93255446c5cc4545bf8abfe585b3607e",
       "version_major": 2,
       "version_minor": 0
      },
      "text/plain": [
       "VBox()"
      ]
     },
     "metadata": {},
     "output_type": "display_data"
    },
    {
     "data": {
      "application/vnd.jupyter.widget-view+json": {
       "model_id": "",
       "version_major": 2,
       "version_minor": 0
      },
      "text/plain": [
       "FloatProgress(value=0.0, bar_style='info', description='Progress:', layout=Layout(height='25px', width='50%'),…"
      ]
     },
     "metadata": {},
     "output_type": "display_data"
    }
   ],
   "source": [
    "def get_n_items_satisfying_condition (df, condition, aggregation_level = \"recipe\"):\n",
    "    \"\"\"\n",
    "    Given a condition, find the number of recipes / reviews that match the condition.\n",
    "    Also calculates the percentage of such recipes / reviews as a percentage of all recipes / reviews.\n",
    "  \n",
    "    Inputs \n",
    "    Argument 1: Dataframe \n",
    "    Argument 2: Logical expression describing a condition, string type. eg: \"minutes == 0\"\n",
    "    Argument 3: Aggregation level for determining \"items\", either  \"recipe\" or \"review\". Default value == \"recipe\"\n",
    "  \n",
    "    Output: Returns no object.\n",
    "    Prints the following:\n",
    "    1) Number of recipes / reviews that satisfy the condition\n",
    "    2) Total number of recipes / reviews in the dataframe\n",
    "    3) Percentage of recipes / reviews that satisfy the condition\n",
    "    \"\"\"\n",
    "    # Find out num rows satisfying the condition\n",
    "    if aggregation_level == \"recipe\": \n",
    "        number_of_rows_satisfying_condition = (df\n",
    "                                             .filter(condition)\n",
    "                                             .agg(F.countDistinct(\"id\"))).first()[0]\n",
    "      \n",
    "        n_rows_total = (df.agg(F.countDistinct(\"id\"))).first()[0]\n",
    "    if aggregation_level == \"review\":\n",
    "        number_of_rows_satisfying_condition = (df\n",
    "                                             .filter(condition)\n",
    "                                             .agg(F.countDistinct(\"id\",\"user_id\"))).first()[0]\n",
    "        n_rows_total = (df.agg(F.countDistinct(\"id\",\"user_id\"))).first()[0]\n",
    "  \n",
    "    # Find out % rows satisfying the conditon and print a properly formatted output\n",
    "    perc_rows = round(number_of_rows_satisfying_condition * 100/ n_rows_total, 2)\n",
    "    print('Condition String                   : \"{}\"'.format(condition))\n",
    "    print(\"Num {}s Satisfying Condition   : {} [{}%]\".format(aggregation_level.title(), number_of_rows_satisfying_condition, perc_rows))\n",
    "    print(\"Total Num {}s                  : {}\".format(aggregation_level.title(), n_rows_total))"
   ]
  },
  {
   "cell_type": "markdown",
   "id": "eefe5257",
   "metadata": {},
   "source": [
    "## Read the data"
   ]
  },
  {
   "cell_type": "markdown",
   "id": "4ca2574e",
   "metadata": {},
   "source": [
    "- Read ```interaction_level_df_processed```"
   ]
  },
  {
   "cell_type": "code",
   "execution_count": 12,
   "id": "701e66a5",
   "metadata": {},
   "outputs": [
    {
     "data": {
      "application/vnd.jupyter.widget-view+json": {
       "model_id": "cdc116f3a25548459e8c2ad9d0f581d7",
       "version_major": 2,
       "version_minor": 0
      },
      "text/plain": [
       "VBox()"
      ]
     },
     "metadata": {},
     "output_type": "display_data"
    },
    {
     "data": {
      "application/vnd.jupyter.widget-view+json": {
       "model_id": "",
       "version_major": 2,
       "version_minor": 0
      },
      "text/plain": [
       "FloatProgress(value=0.0, bar_style='info', description='Progress:', layout=Layout(height='25px', width='50%'),…"
      ]
     },
     "metadata": {},
     "output_type": "display_data"
    }
   ],
   "source": [
    "interaction_level_df = spark.read.parquet(\n",
    "                                          # add code here\n",
    "                                          \"s3://sparkml/receiperecommender/interaction_level_df.parquet/\"\n",
    "                                          )"
   ]
  },
  {
   "cell_type": "code",
   "execution_count": 13,
   "id": "7acf36fb",
   "metadata": {},
   "outputs": [
    {
     "data": {
      "application/vnd.jupyter.widget-view+json": {
       "model_id": "23af9c458f5d4a758148432a49e9c71a",
       "version_major": 2,
       "version_minor": 0
      },
      "text/plain": [
       "VBox()"
      ]
     },
     "metadata": {},
     "output_type": "display_data"
    },
    {
     "data": {
      "application/vnd.jupyter.widget-view+json": {
       "model_id": "",
       "version_major": 2,
       "version_minor": 0
      },
      "text/plain": [
       "FloatProgress(value=0.0, bar_style='info', description='Progress:', layout=Layout(height='25px', width='50%'),…"
      ]
     },
     "metadata": {},
     "output_type": "display_data"
    }
   ],
   "source": [
    "# Code check cell\n",
    "# Do not edit cells with assert commands\n",
    "# If an error is shown after running this cell, please recheck your code.  \n",
    "\n",
    "assert interaction_level_df.count() == 1132367, \"There is a mistake in reading the data.\"\n",
    "assert len(interaction_level_df.columns) == 33, \"There is a mistake in reading the data.\""
   ]
  },
  {
   "cell_type": "code",
   "execution_count": null,
   "id": "6ff3ae16",
   "metadata": {},
   "outputs": [],
   "source": [
    "interaction_level_df.show(5)"
   ]
  },
  {
   "cell_type": "markdown",
   "id": "eb8336fb",
   "metadata": {},
   "source": [
    "## Bucketing and Cleaning Numerical Features"
   ]
  },
  {
   "cell_type": "markdown",
   "id": "a259fc10",
   "metadata": {},
   "source": [
    "#### **1. `years_since_submission_on_review_date`** \n",
    "[Review Time Since Submission]\n",
    "- Recipes more than 6 years old are rated low"
   ]
  },
  {
   "cell_type": "code",
   "execution_count": 14,
   "id": "9739318a",
   "metadata": {},
   "outputs": [
    {
     "data": {
      "application/vnd.jupyter.widget-view+json": {
       "model_id": "af61a2949fa040abbe9759e36706a5bc",
       "version_major": 2,
       "version_minor": 0
      },
      "text/plain": [
       "VBox()"
      ]
     },
     "metadata": {},
     "output_type": "display_data"
    },
    {
     "data": {
      "application/vnd.jupyter.widget-view+json": {
       "model_id": "",
       "version_major": 2,
       "version_minor": 0
      },
      "text/plain": [
       "FloatProgress(value=0.0, bar_style='info', description='Progress:', layout=Layout(height='25px', width='50%'),…"
      ]
     },
     "metadata": {},
     "output_type": "display_data"
    },
    {
     "name": "stdout",
     "output_type": "stream",
     "text": [
      "{0.0: -4, 0.01: -4.833333333333333, 0.25: 0.7177419358333333, 0.5: 2.7123655916666665, 0.75: 4.4247311824999995, 0.99: 19.284946236666666, 1.0: 19}"
     ]
    }
   ],
   "source": [
    "get_quantiles(df = interaction_level_df,\n",
    "              col_name = \"years_since_submission_on_review_date\")"
   ]
  },
  {
   "cell_type": "code",
   "execution_count": 15,
   "id": "1c5d0a1a",
   "metadata": {},
   "outputs": [
    {
     "data": {
      "application/vnd.jupyter.widget-view+json": {
       "model_id": "ccd732e45f95465e923c2fbf8281d067",
       "version_major": 2,
       "version_minor": 0
      },
      "text/plain": [
       "VBox()"
      ]
     },
     "metadata": {},
     "output_type": "display_data"
    },
    {
     "data": {
      "application/vnd.jupyter.widget-view+json": {
       "model_id": "",
       "version_major": 2,
       "version_minor": 0
      },
      "text/plain": [
       "FloatProgress(value=0.0, bar_style='info', description='Progress:', layout=Layout(height='25px', width='50%'),…"
      ]
     },
     "metadata": {},
     "output_type": "display_data"
    },
    {
     "name": "stdout",
     "output_type": "stream",
     "text": [
      "Condition String                   : \"years_since_submission_on_review_date < 0\"\n",
      "Num Reviews Satisfying Condition   : 1246 [0.11%]\n",
      "Total Num Reviews                  : 1132367"
     ]
    }
   ],
   "source": [
    "get_n_items_satisfying_condition(df = interaction_level_df,\n",
    "                                 condition= 'years_since_submission_on_review_date < 0',\n",
    "                                 aggregation_level= \"review\")"
   ]
  },
  {
   "cell_type": "code",
   "execution_count": 16,
   "id": "8015a401",
   "metadata": {},
   "outputs": [
    {
     "data": {
      "application/vnd.jupyter.widget-view+json": {
       "model_id": "1f9c5f53a17946dfb83a3c4622306a87",
       "version_major": 2,
       "version_minor": 0
      },
      "text/plain": [
       "VBox()"
      ]
     },
     "metadata": {},
     "output_type": "display_data"
    },
    {
     "data": {
      "application/vnd.jupyter.widget-view+json": {
       "model_id": "",
       "version_major": 2,
       "version_minor": 0
      },
      "text/plain": [
       "FloatProgress(value=0.0, bar_style='info', description='Progress:', layout=Layout(height='25px', width='50%'),…"
      ]
     },
     "metadata": {},
     "output_type": "display_data"
    }
   ],
   "source": [
    "# Only keep interactions with review dates >= recipe submission date\n",
    "\n",
    "interaction_level_df = (interaction_level_df\n",
    "                        .filter('years_since_submission_on_review_date >= 0'))"
   ]
  },
  {
   "cell_type": "code",
   "execution_count": 17,
   "id": "7cd92e5e",
   "metadata": {
    "scrolled": true
   },
   "outputs": [
    {
     "data": {
      "application/vnd.jupyter.widget-view+json": {
       "model_id": "07bc3429e5254805813520cf6dfae494",
       "version_major": 2,
       "version_minor": 0
      },
      "text/plain": [
       "VBox()"
      ]
     },
     "metadata": {},
     "output_type": "display_data"
    },
    {
     "data": {
      "application/vnd.jupyter.widget-view+json": {
       "model_id": "",
       "version_major": 2,
       "version_minor": 0
      },
      "text/plain": [
       "FloatProgress(value=0.0, bar_style='info', description='Progress:', layout=Layout(height='25px', width='50%'),…"
      ]
     },
     "metadata": {},
     "output_type": "display_data"
    },
    {
     "name": "stdout",
     "output_type": "stream",
     "text": [
      "Added bucketized column years_since_submission_on_review_date_bucket\n",
      "\n",
      "Bucketing done for split definition: [0, 1, 3, 6, inf]\n",
      "\n",
      "Printing summary statistics for ratings in buckets below:"
     ]
    }
   ],
   "source": [
    "splits = [ 0, 1, 3, 6, float('Inf')]\n",
    "inputCol  = \"years_since_submission_on_review_date\"\n",
    "outputCol = \"years_since_submission_on_review_date_bucket\"\n",
    "\n",
    "(interaction_level_df, submission_time_bucketizer, submission_time_pandas_df) = bucket_col_print_summary(df = interaction_level_df,\n",
    "                                                                              splits = splits,\n",
    "                                                                              inputCol  = inputCol,\n",
    "                                                                              outputCol = outputCol)"
   ]
  },
  {
   "cell_type": "code",
   "execution_count": null,
   "id": "5a64c92e",
   "metadata": {},
   "outputs": [],
   "source": [
    "interaction_level_df.columns"
   ]
  },
  {
   "cell_type": "code",
   "execution_count": null,
   "id": "14661203",
   "metadata": {},
   "outputs": [],
   "source": [
    "submission_time_bucketizer.columns"
   ]
  },
  {
   "cell_type": "code",
   "execution_count": null,
   "id": "320a7c12",
   "metadata": {},
   "outputs": [],
   "source": [
    "submission_time_bucketizer.show(5)"
   ]
  },
  {
   "cell_type": "code",
   "execution_count": null,
   "id": "2395619f",
   "metadata": {},
   "outputs": [],
   "source": [
    "%matplot plt"
   ]
  },
  {
   "cell_type": "markdown",
   "id": "7ee68eb7",
   "metadata": {},
   "source": [
    "#### **2. `minutes`** \n",
    "\n",
    "[prep time]\n",
    "- Somewhat relevant\n",
    "- Low prep time is preferred"
   ]
  },
  {
   "cell_type": "code",
   "execution_count": 18,
   "id": "c2038a3f",
   "metadata": {},
   "outputs": [
    {
     "data": {
      "application/vnd.jupyter.widget-view+json": {
       "model_id": "eaf632df4dfe4e5182d2539effcf42d1",
       "version_major": 2,
       "version_minor": 0
      },
      "text/plain": [
       "VBox()"
      ]
     },
     "metadata": {},
     "output_type": "display_data"
    },
    {
     "data": {
      "application/vnd.jupyter.widget-view+json": {
       "model_id": "",
       "version_major": 2,
       "version_minor": 0
      },
      "text/plain": [
       "FloatProgress(value=0.0, bar_style='info', description='Progress:', layout=Layout(height='25px', width='50%'),…"
      ]
     },
     "metadata": {},
     "output_type": "display_data"
    },
    {
     "name": "stdout",
     "output_type": "stream",
     "text": [
      "{0.0: 0, 0.01: 0.0, 0.25: 20.0, 0.5: 35.0, 0.75: 55.0, 0.99: 2147483647.0, 1.0: 2147483647}"
     ]
    }
   ],
   "source": [
    "get_quantiles(df = submission_time_bucketizer,\n",
    "              col_name = \"minutes\")"
   ]
  },
  {
   "cell_type": "code",
   "execution_count": 19,
   "id": "49e1b9d1",
   "metadata": {},
   "outputs": [
    {
     "data": {
      "application/vnd.jupyter.widget-view+json": {
       "model_id": "f316d741703d4c68ab6b7ee11f9fe5b7",
       "version_major": 2,
       "version_minor": 0
      },
      "text/plain": [
       "VBox()"
      ]
     },
     "metadata": {},
     "output_type": "display_data"
    },
    {
     "data": {
      "application/vnd.jupyter.widget-view+json": {
       "model_id": "",
       "version_major": 2,
       "version_minor": 0
      },
      "text/plain": [
       "FloatProgress(value=0.0, bar_style='info', description='Progress:', layout=Layout(height='25px', width='50%'),…"
      ]
     },
     "metadata": {},
     "output_type": "display_data"
    },
    {
     "name": "stdout",
     "output_type": "stream",
     "text": [
      "Condition String                   : \"minutes <= 930\"\n",
      "Num Recipes Satisfying Condition   : 229205 [99.01%]\n",
      "Total Num Recipes                  : 231501"
     ]
    }
   ],
   "source": [
    "# Capping prep time at 930 minutes\n",
    "get_n_items_satisfying_condition(df = submission_time_bucketizer,\n",
    "                                 condition= 'minutes <= 930',\n",
    "                                 aggregation_level= \"recipe\")\n"
   ]
  },
  {
   "cell_type": "code",
   "execution_count": 20,
   "id": "1049aa1c",
   "metadata": {},
   "outputs": [
    {
     "data": {
      "application/vnd.jupyter.widget-view+json": {
       "model_id": "318c00d0e9b3491e86349a9ee167b663",
       "version_major": 2,
       "version_minor": 0
      },
      "text/plain": [
       "VBox()"
      ]
     },
     "metadata": {},
     "output_type": "display_data"
    },
    {
     "data": {
      "application/vnd.jupyter.widget-view+json": {
       "model_id": "",
       "version_major": 2,
       "version_minor": 0
      },
      "text/plain": [
       "FloatProgress(value=0.0, bar_style='info', description='Progress:', layout=Layout(height='25px', width='50%'),…"
      ]
     },
     "metadata": {},
     "output_type": "display_data"
    }
   ],
   "source": [
    "# Only keep interactions with  prep time less than equal to 930 minutes\n",
    "\n",
    "interaction_level_df = (submission_time_bucketizer\n",
    "                        .filter('minutes <= 930'))"
   ]
  },
  {
   "cell_type": "code",
   "execution_count": 21,
   "id": "f7d655b9",
   "metadata": {},
   "outputs": [
    {
     "data": {
      "application/vnd.jupyter.widget-view+json": {
       "model_id": "090070116c5947f7b528d0fc5db467bd",
       "version_major": 2,
       "version_minor": 0
      },
      "text/plain": [
       "VBox()"
      ]
     },
     "metadata": {},
     "output_type": "display_data"
    },
    {
     "data": {
      "application/vnd.jupyter.widget-view+json": {
       "model_id": "",
       "version_major": 2,
       "version_minor": 0
      },
      "text/plain": [
       "FloatProgress(value=0.0, bar_style='info', description='Progress:', layout=Layout(height='25px', width='50%'),…"
      ]
     },
     "metadata": {},
     "output_type": "display_data"
    },
    {
     "name": "stdout",
     "output_type": "stream",
     "text": [
      "+-------+------+-------+\n",
      "|minutes|rating|n_steps|\n",
      "+-------+------+-------+\n",
      "|265    |4     |22     |\n",
      "|35     |5     |7      |\n",
      "|35     |5     |7      |\n",
      "|35     |4     |7      |\n",
      "|35     |4     |7      |\n",
      "+-------+------+-------+\n",
      "only showing top 5 rows"
     ]
    }
   ],
   "source": [
    "submission_time_bucketizer.select('minutes', 'rating','n_steps').show(5, truncate=False)"
   ]
  },
  {
   "cell_type": "code",
   "execution_count": 22,
   "id": "a9efcda9",
   "metadata": {},
   "outputs": [
    {
     "data": {
      "application/vnd.jupyter.widget-view+json": {
       "model_id": "66b9e903e23948d3b21d3b8c8c76916a",
       "version_major": 2,
       "version_minor": 0
      },
      "text/plain": [
       "VBox()"
      ]
     },
     "metadata": {},
     "output_type": "display_data"
    },
    {
     "data": {
      "application/vnd.jupyter.widget-view+json": {
       "model_id": "",
       "version_major": 2,
       "version_minor": 0
      },
      "text/plain": [
       "FloatProgress(value=0.0, bar_style='info', description='Progress:', layout=Layout(height='25px', width='50%'),…"
      ]
     },
     "metadata": {},
     "output_type": "display_data"
    },
    {
     "name": "stdout",
     "output_type": "stream",
     "text": [
      "+-------+------------------+------------------+---------+---------+\n",
      "|n_steps|        avg_rating|     stddev_rating|n_ratings|n_recipes|\n",
      "+-------+------------------+------------------+---------+---------+\n",
      "|      1|              4.24|1.0908712114635715|       25|       12|\n",
      "|      2|4.4423076923076925|  1.08678668673504|      104|       28|\n",
      "|      3| 3.989130434782609|1.5750414356065066|      184|       44|\n",
      "|      4|  4.30635838150289|1.3867374413641127|      173|       57|\n",
      "|      5| 4.231788079470198| 1.356386192466306|      302|       90|\n",
      "|      6|       4.470703125| 1.146389334652367|      512|      102|\n",
      "|      7|4.3447432762836184|   1.2875641979464|      409|       92|\n",
      "|      8| 4.381995133819951|1.2774085466671241|      411|       92|\n",
      "|      9| 4.076190476190476|1.5270088873176948|      315|       86|\n",
      "|     10| 4.303398058252427|1.3500249999653713|      412|       77|\n",
      "|     11|4.3226744186046515|1.3216995194200645|      344|       60|\n",
      "|     12| 4.258536585365854|1.3308142151970859|      205|       58|\n",
      "|     13| 4.198952879581152|1.3067432208113428|      191|       53|\n",
      "|     14| 4.135338345864661|1.3914345926287408|      133|       42|\n",
      "|     15| 4.420560747663552|1.3106053849456336|      107|       37|\n",
      "|     16|3.8333333333333335| 1.718801118842926|      114|       26|\n",
      "|     17| 4.209677419354839|1.4442157888242397|      124|       27|\n",
      "|     18| 4.147058823529412|1.4029463961837383|      102|       22|\n",
      "|     19| 4.514705882352941|1.1394244037693682|       68|       18|\n",
      "|     20|              4.64|0.8602325267042628|       25|        6|\n",
      "+-------+------------------+------------------+---------+---------+\n",
      "only showing top 20 rows\n",
      "\n",
      "None"
     ]
    }
   ],
   "source": [
    "# investigating recipes with minutes = 0 -> Look at n_steps for such recipes.\n",
    "\n",
    "get_column_distribution_summary(\n",
    "# add code here \n",
    "    submission_time_bucketizer.filter('minutes=0'), ['n_steps','rating','recipe_id']\n",
    ")\n",
    "\n"
   ]
  },
  {
   "cell_type": "code",
   "execution_count": 23,
   "id": "509cf653",
   "metadata": {
    "scrolled": true
   },
   "outputs": [
    {
     "data": {
      "application/vnd.jupyter.widget-view+json": {
       "model_id": "46df1987e9644fd6aa6c39882922cc0b",
       "version_major": 2,
       "version_minor": 0
      },
      "text/plain": [
       "VBox()"
      ]
     },
     "metadata": {},
     "output_type": "display_data"
    },
    {
     "data": {
      "application/vnd.jupyter.widget-view+json": {
       "model_id": "",
       "version_major": 2,
       "version_minor": 0
      },
      "text/plain": [
       "FloatProgress(value=0.0, bar_style='info', description='Progress:', layout=Layout(height='25px', width='50%'),…"
      ]
     },
     "metadata": {},
     "output_type": "display_data"
    },
    {
     "name": "stdout",
     "output_type": "stream",
     "text": [
      "+-------+---------+------+----------------------------------------------------------------------------------------------------------------------------------------------------------------------------------------------------------------------------------------------------------------------------------------------------------------------------------------------------------------------------------------------------------------------------------------------------------------------------------------------------------------------------------------------------------------------------------------------------------------------------------------+-----------+---------------+---+-------+--------------+----------+-----------------------------------------------------------------------------------------------------------------------------------------------------------------------------------------------------------------------------------------------------------------------------------------+------------------------------------------+-------+-------------------------------------------------------------------------+----------------------------------------------------------+-------------------------------------------------------------------------------------------------+-------------+--------+-------------+---------+----------+-----------+-----------------+-----------------+---------------------+-----------------+------------------+-------------------+-------------------------+-------------------------+------------------------------------+--------------------------------------+-------------------------------------+--------------------------------------------+\n",
      "|user_id|recipe_id|rating|review                                                                                                                                                                                                                                                                                                                                                                                                                                                                                                                                                                                                                                  |review_date|name           |id |minutes|contributor_id|submitted |tags                                                                                                                                                                                                                                                                                     |nutrition                                 |n_steps|steps                                                                    |description                                               |ingredients                                                                                      |n_ingredients|calories|total_fat_PDV|sugar_PDV|sodium_PDV|protein_PDV|saturated_fat_PDV|carbohydrates_PDV|total_fat_per_100_cal|sugar_per_100_cal|sodium_per_100_cal|protein_per_100_cal|saturated_fat_per_100_cal|carbohydrates_per_100_cal|days_since_submission_on_review_date|months_since_submission_on_review_date|years_since_submission_on_review_date|years_since_submission_on_review_date_bucket|\n",
      "+-------+---------+------+----------------------------------------------------------------------------------------------------------------------------------------------------------------------------------------------------------------------------------------------------------------------------------------------------------------------------------------------------------------------------------------------------------------------------------------------------------------------------------------------------------------------------------------------------------------------------------------------------------------------------------------+-----------+---------------+---+-------+--------------+----------+-----------------------------------------------------------------------------------------------------------------------------------------------------------------------------------------------------------------------------------------------------------------------------------------+------------------------------------------+-------+-------------------------------------------------------------------------+----------------------------------------------------------+-------------------------------------------------------------------------------------------------+-------------+--------+-------------+---------+----------+-----------+-----------------+-----------------+---------------------+-----------------+------------------+-------------------+-------------------------+-------------------------+------------------------------------+--------------------------------------+-------------------------------------+--------------------------------------------+\n",
      "|14433  |754      |5     |This is a good substitute for regular mayo. Find it has a little less body then the reular stuff but it tastes good in any dish that I use mayo in.                                                                                                                                                                                                                                                                                                                                                                                                                                                                                     |2003-08-20 |tofu mayonnaise|754|10     |1530          |1999-08-14|[15-minutes-or-less, time-to-make, course, main-ingredient, preparation, occasion, for-large-groups, condiments-etc, beans, easy, vegan, vegetarian, dietary, gluten-free, low-cholesterol, low-carb, soy-tofu, free-of-something, low-in-something, number-of-servings, 3-steps-or-less]|[47.4,  6.0,  4.0,  3.0,  2.0,  2.0,  0.0]|1      |['combine all ingredients in a blender and beat until smooth and creamy']|a wonderful vegan substitute for all the vegans out there.|['silken tofu', 'oil', 'lemon juice', 'sugar', 'prepared mustard', 'apple cider vinegar', 'salt']|7            |47.4    |6.0          |4.0      |3.0       |2.0        |2.0              |0.0              |12.658227440613453   |8.438818293742303|6.329113720306727 |4.219409146871151  |4.219409146871151        |0.0                      |1467                                |48.19354839                           |4.016129032499999                    |2.0                                         |\n",
      "|216051 |754      |5     |I absolutely loved this! I used extra firm lite tofu for half the calories and it made it have a thicker consistancy. I had a family member try it without him knowing what it was (he thinks tofu is a bunch of hippie stuff lol) and he loved it  he couldnt believe how great it tasted! 5 star rating! Thanks for a great alternative to fattening ole mayo                                                                                                                                                                                                                                                                         |2005-06-10 |tofu mayonnaise|754|10     |1530          |1999-08-14|[15-minutes-or-less, time-to-make, course, main-ingredient, preparation, occasion, for-large-groups, condiments-etc, beans, easy, vegan, vegetarian, dietary, gluten-free, low-cholesterol, low-carb, soy-tofu, free-of-something, low-in-something, number-of-servings, 3-steps-or-less]|[47.4,  6.0,  4.0,  3.0,  2.0,  2.0,  0.0]|1      |['combine all ingredients in a blender and beat until smooth and creamy']|a wonderful vegan substitute for all the vegans out there.|['silken tofu', 'oil', 'lemon juice', 'sugar', 'prepared mustard', 'apple cider vinegar', 'salt']|7            |47.4    |6.0          |4.0      |3.0       |2.0        |2.0              |0.0              |12.658227440613453   |8.438818293742303|6.329113720306727 |4.219409146871151  |4.219409146871151        |0.0                      |2127                                |69.87096774                           |5.8225806449999995                   |2.0                                         |\n",
      "|209948 |754      |5     |Wonderful! A little more on the Miracle Whip side of the mayo spectrum  but just fantastic for veganizing my recipes. I blended it for forever in the food processor and the texture is spot-on. Thank you!                                                                                                                                                                                                                                                                                                                                                                                                                             |2006-06-25 |tofu mayonnaise|754|10     |1530          |1999-08-14|[15-minutes-or-less, time-to-make, course, main-ingredient, preparation, occasion, for-large-groups, condiments-etc, beans, easy, vegan, vegetarian, dietary, gluten-free, low-cholesterol, low-carb, soy-tofu, free-of-something, low-in-something, number-of-servings, 3-steps-or-less]|[47.4,  6.0,  4.0,  3.0,  2.0,  2.0,  0.0]|1      |['combine all ingredients in a blender and beat until smooth and creamy']|a wonderful vegan substitute for all the vegans out there.|['silken tofu', 'oil', 'lemon juice', 'sugar', 'prepared mustard', 'apple cider vinegar', 'salt']|7            |47.4    |6.0          |4.0      |3.0       |2.0        |2.0              |0.0              |12.658227440613453   |8.438818293742303|6.329113720306727 |4.219409146871151  |4.219409146871151        |0.0                      |2507                                |82.35483871                           |6.862903225833333                    |3.0                                         |\n",
      "|366995 |754      |5     |I made some small changes. Olive oil instead of canola and apple juice concentrate instead of sugar. It is great! My husband laughs about this mayonnaise being filled with vitamins and minerals. I use this recipe all the time. My son-in-law who claims to hate tofu  devours this. Thanks so much for posting.                                                                                                                                                                                                                                                                                                                     |2006-12-04 |tofu mayonnaise|754|10     |1530          |1999-08-14|[15-minutes-or-less, time-to-make, course, main-ingredient, preparation, occasion, for-large-groups, condiments-etc, beans, easy, vegan, vegetarian, dietary, gluten-free, low-cholesterol, low-carb, soy-tofu, free-of-something, low-in-something, number-of-servings, 3-steps-or-less]|[47.4,  6.0,  4.0,  3.0,  2.0,  2.0,  0.0]|1      |['combine all ingredients in a blender and beat until smooth and creamy']|a wonderful vegan substitute for all the vegans out there.|['silken tofu', 'oil', 'lemon juice', 'sugar', 'prepared mustard', 'apple cider vinegar', 'salt']|7            |47.4    |6.0          |4.0      |3.0       |2.0        |2.0              |0.0              |12.658227440613453   |8.438818293742303|6.329113720306727 |4.219409146871151  |4.219409146871151        |0.0                      |2669                                |87.67741935                           |7.306451612499999                    |3.0                                         |\n",
      "|96436  |754      |5     |Mmmm...  Just made this as posted subbing corn oil for canola (all I had) and Splenda and a few drops of honey in place of sugar.  Really good for a healthy substitute for mayo.  Plain it tastes like mayo w/ a little mustard.  I mixed it in some canned salmon and it is delicious!  Thanks for sharing!!!   :)  Update:  Made again with olive oil  added some dill pickle juice  used regular mustard  brown spicy mustard  and dijon mustard equal parts.  Used Splenda and honey in place of sugar and ground in black pepper - Tastes like delicious Honey Mustard Dressing!  Still great on sandwich with spinach or lettuce!|2007-02-06 |tofu mayonnaise|754|10     |1530          |1999-08-14|[15-minutes-or-less, time-to-make, course, main-ingredient, preparation, occasion, for-large-groups, condiments-etc, beans, easy, vegan, vegetarian, dietary, gluten-free, low-cholesterol, low-carb, soy-tofu, free-of-something, low-in-something, number-of-servings, 3-steps-or-less]|[47.4,  6.0,  4.0,  3.0,  2.0,  2.0,  0.0]|1      |['combine all ingredients in a blender and beat until smooth and creamy']|a wonderful vegan substitute for all the vegans out there.|['silken tofu', 'oil', 'lemon juice', 'sugar', 'prepared mustard', 'apple cider vinegar', 'salt']|7            |47.4    |6.0          |4.0      |3.0       |2.0        |2.0              |0.0              |12.658227440613453   |8.438818293742303|6.329113720306727 |4.219409146871151  |4.219409146871151        |0.0                      |2733                                |89.74193548                           |7.478494623333333                    |3.0                                         |\n",
      "+-------+---------+------+----------------------------------------------------------------------------------------------------------------------------------------------------------------------------------------------------------------------------------------------------------------------------------------------------------------------------------------------------------------------------------------------------------------------------------------------------------------------------------------------------------------------------------------------------------------------------------------------------------------------------------------+-----------+---------------+---+-------+--------------+----------+-----------------------------------------------------------------------------------------------------------------------------------------------------------------------------------------------------------------------------------------------------------------------------------------+------------------------------------------+-------+-------------------------------------------------------------------------+----------------------------------------------------------+-------------------------------------------------------------------------------------------------+-------------+--------+-------------+---------+----------+-----------+-----------------+-----------------+---------------------+-----------------+------------------+-------------------+-------------------------+-------------------------+------------------------------------+--------------------------------------+-------------------------------------+--------------------------------------------+\n",
      "only showing top 5 rows"
     ]
    }
   ],
   "source": [
    "# let's look at some examples with 1 step only to see if this makes sense\n",
    "submission_time_bucketizer.filter('n_steps=1').show(5, truncate=False)\n"
   ]
  },
  {
   "cell_type": "code",
   "execution_count": 24,
   "id": "c3e488f6",
   "metadata": {},
   "outputs": [
    {
     "data": {
      "application/vnd.jupyter.widget-view+json": {
       "model_id": "dbc855c80d3240afa1f811b9c5b15c38",
       "version_major": 2,
       "version_minor": 0
      },
      "text/plain": [
       "VBox()"
      ]
     },
     "metadata": {},
     "output_type": "display_data"
    },
    {
     "data": {
      "application/vnd.jupyter.widget-view+json": {
       "model_id": "",
       "version_major": 2,
       "version_minor": 0
      },
      "text/plain": [
       "FloatProgress(value=0.0, bar_style='info', description='Progress:', layout=Layout(height='25px', width='50%'),…"
      ]
     },
     "metadata": {},
     "output_type": "display_data"
    },
    {
     "name": "stdout",
     "output_type": "stream",
     "text": [
      "+-------+------+-------+\n",
      "|minutes|rating|n_steps|\n",
      "+-------+------+-------+\n",
      "|265    |4     |22     |\n",
      "|35     |5     |7      |\n",
      "|35     |5     |7      |\n",
      "|35     |4     |7      |\n",
      "|35     |4     |7      |\n",
      "+-------+------+-------+\n",
      "only showing top 5 rows"
     ]
    }
   ],
   "source": [
    "submission_time_bucketizer.select('minutes', 'rating','n_steps').show(5, truncate=False)"
   ]
  },
  {
   "cell_type": "code",
   "execution_count": 25,
   "id": "bd0656d2",
   "metadata": {},
   "outputs": [
    {
     "data": {
      "application/vnd.jupyter.widget-view+json": {
       "model_id": "fd0497cb2bd64090909a7296cb1bb7a5",
       "version_major": 2,
       "version_minor": 0
      },
      "text/plain": [
       "VBox()"
      ]
     },
     "metadata": {},
     "output_type": "display_data"
    },
    {
     "data": {
      "application/vnd.jupyter.widget-view+json": {
       "model_id": "",
       "version_major": 2,
       "version_minor": 0
      },
      "text/plain": [
       "FloatProgress(value=0.0, bar_style='info', description='Progress:', layout=Layout(height='25px', width='50%'),…"
      ]
     },
     "metadata": {},
     "output_type": "display_data"
    },
    {
     "name": "stdout",
     "output_type": "stream",
     "text": [
      "Condition String                   : \"minutes == 0\"\n",
      "Num Recipes Satisfying Condition   : 1094 [0.47%]\n",
      "Total Num Recipes                  : 231501"
     ]
    }
   ],
   "source": [
    "get_n_items_satisfying_condition(df = submission_time_bucketizer,\n",
    "                                 condition= 'minutes == 0',\n",
    "                                 aggregation_level= \"recipe\")\n",
    "#\n",
    "#'''\n",
    "#Expected Results : \n",
    "#Condition String                   : \"minutes == 0\"\n",
    "#Num Recipes Satisfying Condition   : 1094 [0.47%]\n",
    "#Total Num Recipes                  : 231501"
   ]
  },
  {
   "cell_type": "code",
   "execution_count": null,
   "id": "11027a30",
   "metadata": {},
   "outputs": [],
   "source": [
    "submission_time_bucketizer.select('minutes', 'rating','n_steps').show(5, truncate=False)"
   ]
  },
  {
   "cell_type": "code",
   "execution_count": 26,
   "id": "03e3fd59",
   "metadata": {},
   "outputs": [
    {
     "data": {
      "application/vnd.jupyter.widget-view+json": {
       "model_id": "5588c641089d411b8818e2481a928da5",
       "version_major": 2,
       "version_minor": 0
      },
      "text/plain": [
       "VBox()"
      ]
     },
     "metadata": {},
     "output_type": "display_data"
    },
    {
     "data": {
      "application/vnd.jupyter.widget-view+json": {
       "model_id": "",
       "version_major": 2,
       "version_minor": 0
      },
      "text/plain": [
       "FloatProgress(value=0.0, bar_style='info', description='Progress:', layout=Layout(height='25px', width='50%'),…"
      ]
     },
     "metadata": {},
     "output_type": "display_data"
    }
   ],
   "source": [
    "# Remove recipes with cook time zero\n",
    "interaction_level_df = (submission_time_bucketizer\n",
    "                        .filter('minutes > 0'))"
   ]
  },
  {
   "cell_type": "code",
   "execution_count": null,
   "id": "f991dadf",
   "metadata": {},
   "outputs": [],
   "source": [
    "interaction_level_df.select('minutes', 'rating','n_steps').show(5, truncate=False)"
   ]
  },
  {
   "cell_type": "code",
   "execution_count": 27,
   "id": "ab2a63ce",
   "metadata": {},
   "outputs": [
    {
     "data": {
      "application/vnd.jupyter.widget-view+json": {
       "model_id": "adb8b26f01fe436eb360c6b3bb7053aa",
       "version_major": 2,
       "version_minor": 0
      },
      "text/plain": [
       "VBox()"
      ]
     },
     "metadata": {},
     "output_type": "display_data"
    },
    {
     "data": {
      "application/vnd.jupyter.widget-view+json": {
       "model_id": "",
       "version_major": 2,
       "version_minor": 0
      },
      "text/plain": [
       "FloatProgress(value=0.0, bar_style='info', description='Progress:', layout=Layout(height='25px', width='50%'),…"
      ]
     },
     "metadata": {},
     "output_type": "display_data"
    }
   ],
   "source": [
    "inputCol  = \"minutes\"\n",
    "outputCol = \"prep_time_bucket\"\n",
    "splits = [ 0, 5, 15, 30, 60, 300, 900, float('Inf')]\n",
    "bucket = Bucketizer(splits=splits, inputCol=inputCol, outputCol=outputCol)\n",
    "bucketizer = bucket.transform(interaction_level_df)\n"
   ]
  },
  {
   "cell_type": "code",
   "execution_count": 28,
   "id": "85a5cd19",
   "metadata": {},
   "outputs": [
    {
     "data": {
      "application/vnd.jupyter.widget-view+json": {
       "model_id": "7d5996d979104806ae8da15296fe78bf",
       "version_major": 2,
       "version_minor": 0
      },
      "text/plain": [
       "VBox()"
      ]
     },
     "metadata": {},
     "output_type": "display_data"
    },
    {
     "data": {
      "application/vnd.jupyter.widget-view+json": {
       "model_id": "",
       "version_major": 2,
       "version_minor": 0
      },
      "text/plain": [
       "FloatProgress(value=0.0, bar_style='info', description='Progress:', layout=Layout(height='25px', width='50%'),…"
      ]
     },
     "metadata": {},
     "output_type": "display_data"
    },
    {
     "name": "stdout",
     "output_type": "stream",
     "text": [
      "+----------------+------+\n",
      "|prep_time_bucket| count|\n",
      "+----------------+------+\n",
      "|             1.0|122052|\n",
      "|             6.0| 11715|\n",
      "|             5.0| 46566|\n",
      "|             2.0|237323|\n",
      "|             4.0|312083|\n",
      "|             0.0| 17981|\n",
      "|             3.0|378891|\n",
      "+----------------+------+"
     ]
    }
   ],
   "source": [
    "bucketizer.groupby(outputCol).count().show()"
   ]
  },
  {
   "cell_type": "code",
   "execution_count": null,
   "id": "572685eb",
   "metadata": {},
   "outputs": [],
   "source": [
    "bucketizer.groupby(outputCol).mean('rating').show()"
   ]
  },
  {
   "cell_type": "code",
   "execution_count": null,
   "id": "2a766ab1",
   "metadata": {},
   "outputs": [],
   "source": [
    "interaction_level_df.columns"
   ]
  },
  {
   "cell_type": "code",
   "execution_count": 29,
   "id": "603439c8",
   "metadata": {},
   "outputs": [
    {
     "data": {
      "application/vnd.jupyter.widget-view+json": {
       "model_id": "307d8a3c19a247aa94e10dbe81f58521",
       "version_major": 2,
       "version_minor": 0
      },
      "text/plain": [
       "VBox()"
      ]
     },
     "metadata": {},
     "output_type": "display_data"
    },
    {
     "data": {
      "application/vnd.jupyter.widget-view+json": {
       "model_id": "",
       "version_major": 2,
       "version_minor": 0
      },
      "text/plain": [
       "FloatProgress(value=0.0, bar_style='info', description='Progress:', layout=Layout(height='25px', width='50%'),…"
      ]
     },
     "metadata": {},
     "output_type": "display_data"
    },
    {
     "name": "stdout",
     "output_type": "stream",
     "text": [
      "Added bucketized column prep_time_bucket\n",
      "\n",
      "Bucketing done for split definition: [0, 5, 15, 30, 60, 300, 900, inf]\n",
      "\n",
      "Printing summary statistics for ratings in buckets below:"
     ]
    }
   ],
   "source": [
    "splits = [ 0, 5, 15, 30, 60, 300, 900, float('Inf')]\n",
    "inputCol  = \"minutes\"\n",
    "outputCol = \"prep_time_bucket\"\n",
    "\n",
    "(interaction_level_df, prep_time_bucketizer, submission_time_pandas_df) = bucket_col_print_summary(df = interaction_level_df,\n",
    "                                                                              splits = splits,\n",
    "                                                                              inputCol  = inputCol,\n",
    "                                                                              outputCol = outputCol)"
   ]
  },
  {
   "cell_type": "code",
   "execution_count": null,
   "id": "3162416c",
   "metadata": {},
   "outputs": [],
   "source": [
    "prep_time_bucketizer.columns"
   ]
  },
  {
   "cell_type": "code",
   "execution_count": null,
   "id": "5d040184",
   "metadata": {},
   "outputs": [],
   "source": [
    "# this will display the plot \n",
    "%matplot plt"
   ]
  },
  {
   "cell_type": "markdown",
   "id": "f3cb6116",
   "metadata": {},
   "source": [
    "**3. `n_steps`**\n",
    "\n",
    "- Clearly relevant\n",
    "- Recipes with less than 2 steps are rated high\n",
    "- Recipes with more than 29 steps are rated very low"
   ]
  },
  {
   "cell_type": "code",
   "execution_count": 30,
   "id": "653f7324",
   "metadata": {},
   "outputs": [
    {
     "data": {
      "application/vnd.jupyter.widget-view+json": {
       "model_id": "e3a3c23d9746442b9b37c10c14b1a764",
       "version_major": 2,
       "version_minor": 0
      },
      "text/plain": [
       "VBox()"
      ]
     },
     "metadata": {},
     "output_type": "display_data"
    },
    {
     "data": {
      "application/vnd.jupyter.widget-view+json": {
       "model_id": "",
       "version_major": 2,
       "version_minor": 0
      },
      "text/plain": [
       "FloatProgress(value=0.0, bar_style='info', description='Progress:', layout=Layout(height='25px', width='50%'),…"
      ]
     },
     "metadata": {},
     "output_type": "display_data"
    },
    {
     "name": "stdout",
     "output_type": "stream",
     "text": [
      "{0.0: 0, 0.01: 0.0, 0.25: 5.0, 0.5: 8.0, 0.75: 10.0, 0.99: 145.0, 1.0: 145}"
     ]
    }
   ],
   "source": [
    "get_quantiles(df = prep_time_bucketizer,\n",
    "              col_name = \"n_steps\")"
   ]
  },
  {
   "cell_type": "code",
   "execution_count": 31,
   "id": "2f4acf93",
   "metadata": {},
   "outputs": [
    {
     "data": {
      "application/vnd.jupyter.widget-view+json": {
       "model_id": "9dd6c61343544c07814a1cb5a7fdf3d0",
       "version_major": 2,
       "version_minor": 0
      },
      "text/plain": [
       "VBox()"
      ]
     },
     "metadata": {},
     "output_type": "display_data"
    },
    {
     "data": {
      "application/vnd.jupyter.widget-view+json": {
       "model_id": "",
       "version_major": 2,
       "version_minor": 0
      },
      "text/plain": [
       "FloatProgress(value=0.0, bar_style='info', description='Progress:', layout=Layout(height='25px', width='50%'),…"
      ]
     },
     "metadata": {},
     "output_type": "display_data"
    },
    {
     "name": "stdout",
     "output_type": "stream",
     "text": [
      "Condition String                   : \"n_steps < 0\"\n",
      "Num Reviews Satisfying Condition   : 0 [0.0%]\n",
      "Total Num Reviews                  : 1126611"
     ]
    }
   ],
   "source": [
    "get_n_items_satisfying_condition(df = prep_time_bucketizer,\n",
    "                                 condition= 'n_steps < 0',\n",
    "                                 aggregation_level= \"review\")"
   ]
  },
  {
   "cell_type": "code",
   "execution_count": 32,
   "id": "de44d004",
   "metadata": {},
   "outputs": [
    {
     "data": {
      "application/vnd.jupyter.widget-view+json": {
       "model_id": "fb276595bbb84b1882ab5c0af297e0c2",
       "version_major": 2,
       "version_minor": 0
      },
      "text/plain": [
       "VBox()"
      ]
     },
     "metadata": {},
     "output_type": "display_data"
    },
    {
     "data": {
      "application/vnd.jupyter.widget-view+json": {
       "model_id": "",
       "version_major": 2,
       "version_minor": 0
      },
      "text/plain": [
       "FloatProgress(value=0.0, bar_style='info', description='Progress:', layout=Layout(height='25px', width='50%'),…"
      ]
     },
     "metadata": {},
     "output_type": "display_data"
    }
   ],
   "source": [
    "# Remove recipes with n_steps zero\n",
    "\n",
    "interaction_level_df = (prep_time_bucketizer\n",
    "                        .filter('n_steps > 0'))\n",
    "\n"
   ]
  },
  {
   "cell_type": "code",
   "execution_count": null,
   "id": "df340d09",
   "metadata": {},
   "outputs": [],
   "source": [
    "interaction_level_df.count()"
   ]
  },
  {
   "cell_type": "code",
   "execution_count": null,
   "id": "d01c40bf",
   "metadata": {},
   "outputs": [],
   "source": [
    "interaction_level_df.select('n_steps').distinct().collect()"
   ]
  },
  {
   "cell_type": "code",
   "execution_count": 33,
   "id": "9afb3052",
   "metadata": {},
   "outputs": [
    {
     "data": {
      "application/vnd.jupyter.widget-view+json": {
       "model_id": "53ac407ff7ff406897345675ff4b3c2a",
       "version_major": 2,
       "version_minor": 0
      },
      "text/plain": [
       "VBox()"
      ]
     },
     "metadata": {},
     "output_type": "display_data"
    },
    {
     "data": {
      "application/vnd.jupyter.widget-view+json": {
       "model_id": "",
       "version_major": 2,
       "version_minor": 0
      },
      "text/plain": [
       "FloatProgress(value=0.0, bar_style='info', description='Progress:', layout=Layout(height='25px', width='50%'),…"
      ]
     },
     "metadata": {},
     "output_type": "display_data"
    },
    {
     "name": "stdout",
     "output_type": "stream",
     "text": [
      "Added bucketized column n_steps_bucket\n",
      "\n",
      "Bucketing done for split definition: [0, 2, 4, 6, 8, 10, inf]\n",
      "\n",
      "Printing summary statistics for ratings in buckets below:"
     ]
    }
   ],
   "source": [
    "splits = [ 0, 2, 4, 6, 8, 10, float('Inf')]\n",
    "inputCol  = \"n_steps\"\n",
    "outputCol = \"n_steps_bucket\"\n",
    "\n",
    "(interaction_level_df, n_steps_bucketizer, submission_time_pandas_df) = bucket_col_print_summary(df = interaction_level_df,\n",
    "                                                                              splits = splits,\n",
    "                                                                              inputCol  = inputCol,\n",
    "                                                                              outputCol = outputCol)"
   ]
  },
  {
   "cell_type": "code",
   "execution_count": null,
   "id": "14ded29c",
   "metadata": {},
   "outputs": [],
   "source": [
    "# this will display the plot \n",
    "%matplot plt"
   ]
  },
  {
   "cell_type": "markdown",
   "id": "6332e3c3",
   "metadata": {},
   "source": [
    "**4. `n_ingredients`**\n",
    "- Not relevant"
   ]
  },
  {
   "cell_type": "code",
   "execution_count": 34,
   "id": "ce8e1030",
   "metadata": {},
   "outputs": [
    {
     "data": {
      "application/vnd.jupyter.widget-view+json": {
       "model_id": "fcf9e66ab5ba4dc2aecb2d8b72575454",
       "version_major": 2,
       "version_minor": 0
      },
      "text/plain": [
       "VBox()"
      ]
     },
     "metadata": {},
     "output_type": "display_data"
    },
    {
     "data": {
      "application/vnd.jupyter.widget-view+json": {
       "model_id": "",
       "version_major": 2,
       "version_minor": 0
      },
      "text/plain": [
       "FloatProgress(value=0.0, bar_style='info', description='Progress:', layout=Layout(height='25px', width='50%'),…"
      ]
     },
     "metadata": {},
     "output_type": "display_data"
    },
    {
     "name": "stdout",
     "output_type": "stream",
     "text": [
      "{0.0: 1, 0.01: 1.0, 0.25: 6.0, 0.5: 8.0, 0.75: 10.0, 0.99: 43.0, 1.0: 43}"
     ]
    }
   ],
   "source": [
    "get_quantiles(df = n_steps_bucketizer,\n",
    "              col_name = \"n_ingredients\")"
   ]
  },
  {
   "cell_type": "code",
   "execution_count": 35,
   "id": "d7ed08af",
   "metadata": {},
   "outputs": [
    {
     "data": {
      "application/vnd.jupyter.widget-view+json": {
       "model_id": "8f613775dad545208a26944b38c2d8cd",
       "version_major": 2,
       "version_minor": 0
      },
      "text/plain": [
       "VBox()"
      ]
     },
     "metadata": {},
     "output_type": "display_data"
    },
    {
     "data": {
      "application/vnd.jupyter.widget-view+json": {
       "model_id": "",
       "version_major": 2,
       "version_minor": 0
      },
      "text/plain": [
       "FloatProgress(value=0.0, bar_style='info', description='Progress:', layout=Layout(height='25px', width='50%'),…"
      ]
     },
     "metadata": {},
     "output_type": "display_data"
    },
    {
     "name": "stdout",
     "output_type": "stream",
     "text": [
      "Condition String                   : \"n_ingredients >= 0\"\n",
      "Num Reviews Satisfying Condition   : 1126609 [100.0%]\n",
      "Total Num Reviews                  : 1126609"
     ]
    }
   ],
   "source": [
    "get_n_items_satisfying_condition(df = n_steps_bucketizer,\n",
    "                                 condition= 'n_ingredients >= 0',\n",
    "                                 aggregation_level= \"review\")"
   ]
  },
  {
   "cell_type": "code",
   "execution_count": 36,
   "id": "8093d177",
   "metadata": {},
   "outputs": [
    {
     "data": {
      "application/vnd.jupyter.widget-view+json": {
       "model_id": "e4a5ddc48e1845b1a903d56656ee2728",
       "version_major": 2,
       "version_minor": 0
      },
      "text/plain": [
       "VBox()"
      ]
     },
     "metadata": {},
     "output_type": "display_data"
    },
    {
     "data": {
      "application/vnd.jupyter.widget-view+json": {
       "model_id": "",
       "version_major": 2,
       "version_minor": 0
      },
      "text/plain": [
       "FloatProgress(value=0.0, bar_style='info', description='Progress:', layout=Layout(height='25px', width='50%'),…"
      ]
     },
     "metadata": {},
     "output_type": "display_data"
    }
   ],
   "source": [
    "interaction_level_df = n_steps_bucketizer"
   ]
  },
  {
   "cell_type": "code",
   "execution_count": 37,
   "id": "62e12311",
   "metadata": {},
   "outputs": [
    {
     "data": {
      "application/vnd.jupyter.widget-view+json": {
       "model_id": "007634ceacbb40a4b5a553cbb0f1f50f",
       "version_major": 2,
       "version_minor": 0
      },
      "text/plain": [
       "VBox()"
      ]
     },
     "metadata": {},
     "output_type": "display_data"
    },
    {
     "data": {
      "application/vnd.jupyter.widget-view+json": {
       "model_id": "",
       "version_major": 2,
       "version_minor": 0
      },
      "text/plain": [
       "FloatProgress(value=0.0, bar_style='info', description='Progress:', layout=Layout(height='25px', width='50%'),…"
      ]
     },
     "metadata": {},
     "output_type": "display_data"
    },
    {
     "name": "stdout",
     "output_type": "stream",
     "text": [
      "Added bucketized column n_ingredients_bucket\n",
      "\n",
      "Bucketing done for split definition: [0, 5, 10, 20, inf]\n",
      "\n",
      "Printing summary statistics for ratings in buckets below:"
     ]
    }
   ],
   "source": [
    "splits = [ 0, 5, 10, 20, float('Inf')]\n",
    "inputCol  = \"n_ingredients\"\n",
    "outputCol = \"n_ingredients_bucket\"\n",
    "\n",
    "(interaction_level_df, n_ingredients_bucketizer, submission_time_pandas_df) = bucket_col_print_summary(df = interaction_level_df,\n",
    "                                                                              splits = splits,\n",
    "                                                                              inputCol  = inputCol,\n",
    "                                                                              outputCol = outputCol)"
   ]
  },
  {
   "cell_type": "code",
   "execution_count": null,
   "id": "a5dc708c",
   "metadata": {},
   "outputs": [],
   "source": [
    "# this will display the plot \n",
    "%matplot plt"
   ]
  },
  {
   "cell_type": "markdown",
   "id": "a4dadbbf",
   "metadata": {},
   "source": [
    "**5. `nutrition` columns**"
   ]
  },
  {
   "cell_type": "markdown",
   "id": "46ec0b11",
   "metadata": {},
   "source": [
    "- `calories` - Calories per serving seems irrelevant\n",
    "- `fat (per 100 cal)` - Calories per serving seems irrelevant\n",
    "- `sugar (per 100 cal)` - Calories per serving seems irrelevant\n",
    "- `sodium (per 100 cal)` - Calories per serving seems irrelevant\n",
    "- `protein (per 100 cal)` - Calories per serving seems irrelevant\n",
    "- `sat. fat (per 100 cal)` - Calories per serving seems irrelevant\n",
    "- `carbs (per 100 cal)` - Calories per serving seems irrelevant"
   ]
  },
  {
   "cell_type": "code",
   "execution_count": 38,
   "id": "177938af",
   "metadata": {},
   "outputs": [
    {
     "data": {
      "application/vnd.jupyter.widget-view+json": {
       "model_id": "9ee1d5e4b9544f90915f27bb4bd4e1de",
       "version_major": 2,
       "version_minor": 0
      },
      "text/plain": [
       "VBox()"
      ]
     },
     "metadata": {},
     "output_type": "display_data"
    },
    {
     "data": {
      "application/vnd.jupyter.widget-view+json": {
       "model_id": "",
       "version_major": 2,
       "version_minor": 0
      },
      "text/plain": [
       "FloatProgress(value=0.0, bar_style='info', description='Progress:', layout=Layout(height='25px', width='50%'),…"
      ]
     },
     "metadata": {},
     "output_type": "display_data"
    }
   ],
   "source": [
    "interaction_level_df = n_ingredients_bucketizer\n"
   ]
  },
  {
   "cell_type": "code",
   "execution_count": null,
   "id": "fbfc899d",
   "metadata": {},
   "outputs": [],
   "source": [
    "interaction_level_df.select('minutes', 'rating','n_steps').show(5, truncate=False)"
   ]
  },
  {
   "cell_type": "code",
   "execution_count": null,
   "id": "598ed869",
   "metadata": {},
   "outputs": [],
   "source": [
    "interaction_level_df.columns"
   ]
  },
  {
   "cell_type": "code",
   "execution_count": 39,
   "id": "f5403a11",
   "metadata": {},
   "outputs": [
    {
     "data": {
      "application/vnd.jupyter.widget-view+json": {
       "model_id": "7958015a22e649639349fd21cf749455",
       "version_major": 2,
       "version_minor": 0
      },
      "text/plain": [
       "VBox()"
      ]
     },
     "metadata": {},
     "output_type": "display_data"
    },
    {
     "data": {
      "application/vnd.jupyter.widget-view+json": {
       "model_id": "",
       "version_major": 2,
       "version_minor": 0
      },
      "text/plain": [
       "FloatProgress(value=0.0, bar_style='info', description='Progress:', layout=Layout(height='25px', width='50%'),…"
      ]
     },
     "metadata": {},
     "output_type": "display_data"
    }
   ],
   "source": [
    "nutrition_cols = ['calories', \n",
    "                  'total_fat_PDV', \n",
    "                  'sugar_PDV', \n",
    "                  'sodium_PDV', \n",
    "                  'protein_PDV', \n",
    "                  'saturated_fat_PDV', \n",
    "                  'carbohydrates_PDV', \n",
    "                  'total_fat_per_100_cal', \n",
    "                  'sugar_per_100_cal', \n",
    "                  'sodium_per_100_cal', \n",
    "                  'protein_per_100_cal', \n",
    "                  'saturated_fat_per_100_cal', \n",
    "                  'carbohydrates_per_100_cal']\n",
    "\n"
   ]
  },
  {
   "cell_type": "code",
   "execution_count": null,
   "id": "c222a1ae",
   "metadata": {},
   "outputs": [],
   "source": [
    "from pyspark.sql.functions import col,isnan,when,count\n",
    "#check if there is any null values in the nutrition columns\n",
    "interaction_level_df.select([count(when(isnan(c) | col(c).isNull(), c)).alias(c) for c in nutrition_cols]\n",
    "   ).show()"
   ]
  },
  {
   "cell_type": "code",
   "execution_count": null,
   "id": "1acf8f6a",
   "metadata": {},
   "outputs": [],
   "source": []
  },
  {
   "cell_type": "code",
   "execution_count": 40,
   "id": "ea51b34e",
   "metadata": {},
   "outputs": [
    {
     "data": {
      "application/vnd.jupyter.widget-view+json": {
       "model_id": "43b2d219971c406f96ee42ff48449a98",
       "version_major": 2,
       "version_minor": 0
      },
      "text/plain": [
       "VBox()"
      ]
     },
     "metadata": {},
     "output_type": "display_data"
    },
    {
     "data": {
      "application/vnd.jupyter.widget-view+json": {
       "model_id": "",
       "version_major": 2,
       "version_minor": 0
      },
      "text/plain": [
       "FloatProgress(value=0.0, bar_style='info', description='Progress:', layout=Layout(height='25px', width='50%'),…"
      ]
     },
     "metadata": {},
     "output_type": "display_data"
    }
   ],
   "source": [
    "# Write code to find the quantile distribution of all the above columns\n",
    "nutrition_cols_quantile_dict = {}\n",
    "for col in nutrition_cols:\n",
    "    # add code here \n",
    "    quant_dict = get_quantiles(df = interaction_level_df, col_name = col,quantiles_list = [0.25, 0.5, 0.75, 0.95])\n",
    "    lst_quantile = []\n",
    "    for quant in quant_dict.values():\n",
    "        if(int(quant) not in lst_quantile):\n",
    "            lst_quantile.append(int(quant))\n",
    "    lst_quantile.append(float('Inf'))\n",
    "    nutrition_cols_quantile_dict[col]=lst_quantile\n",
    "    "
   ]
  },
  {
   "cell_type": "code",
   "execution_count": 44,
   "id": "d1ba8c2a",
   "metadata": {},
   "outputs": [
    {
     "data": {
      "application/vnd.jupyter.widget-view+json": {
       "model_id": "8e6e570d9ae042d5a8b95bd7421a2ae0",
       "version_major": 2,
       "version_minor": 0
      },
      "text/plain": [
       "VBox()"
      ]
     },
     "metadata": {},
     "output_type": "display_data"
    },
    {
     "data": {
      "application/vnd.jupyter.widget-view+json": {
       "model_id": "",
       "version_major": 2,
       "version_minor": 0
      },
      "text/plain": [
       "FloatProgress(value=0.0, bar_style='info', description='Progress:', layout=Layout(height='25px', width='50%'),…"
      ]
     },
     "metadata": {},
     "output_type": "display_data"
    },
    {
     "name": "stdout",
     "output_type": "stream",
     "text": [
      "{'calories': [0, 163, 365, 377, 434360, inf], 'total_fat_PDV': [0, 7, 26, 28, 17183, inf], 'sugar_PDV': [0, 7, 18, 39, 362729, inf], 'sodium_PDV': [0, 5, 21, 24, 29338, inf], 'protein_PDV': [0, 6, 13, 30, 6552, inf], 'saturated_fat_PDV': [0, 6, 31, 35, 10395, inf], 'carbohydrates_PDV': [0, 3, 7, 12, 36098, inf], 'total_fat_per_100_cal': [0, 3, 6, 7, 18, inf], 'sugar_per_100_cal': [0, 2, 6, 18, 108, inf], 'sodium_per_100_cal': [0, 1, 5, 6, 199909, inf], 'protein_per_100_cal': [0, 2, 7, 8, 50, inf], 'saturated_fat_per_100_cal': [0, 3, 6, 10, 50, inf], 'carbohydrates_per_100_cal': [0, 1, 3, 4, 16, inf]}"
     ]
    }
   ],
   "source": [
    "nutrition_cols_quantile_dict"
   ]
  },
  {
   "cell_type": "code",
   "execution_count": null,
   "id": "a6dce8af",
   "metadata": {},
   "outputs": [],
   "source": [
    "nutrition_cols_quantile_dict['calories']"
   ]
  },
  {
   "cell_type": "code",
   "execution_count": 41,
   "id": "905bc218",
   "metadata": {},
   "outputs": [
    {
     "data": {
      "application/vnd.jupyter.widget-view+json": {
       "model_id": "3df5272d9a9942e1a949abf0380640a7",
       "version_major": 2,
       "version_minor": 0
      },
      "text/plain": [
       "VBox()"
      ]
     },
     "metadata": {},
     "output_type": "display_data"
    },
    {
     "data": {
      "application/vnd.jupyter.widget-view+json": {
       "model_id": "",
       "version_major": 2,
       "version_minor": 0
      },
      "text/plain": [
       "FloatProgress(value=0.0, bar_style='info', description='Progress:', layout=Layout(height='25px', width='50%'),…"
      ]
     },
     "metadata": {},
     "output_type": "display_data"
    }
   ],
   "source": [
    "#nutrition_col_quantile_summary = # set index for the dataframe \n",
    "for col in nutrition_cols:\n",
    "    \n",
    "    # programatically diclare the arguments of Bucketizer\n",
    "    #print('col',col)\n",
    "    splits = nutrition_cols_quantile_dict[col]\n",
    "    inputCol  = col\n",
    "    outputCol = col+'_bucket'\n",
    "    \n",
    "    # drop column if it already exsists \n",
    "    if outputCol in interaction_level_df.columns:\n",
    "        interaction_level_df = interaction_level_df.drop(outputCol)\n",
    "        bucketizer_df = bucketizer_df.drop(outputCol)\n",
    "\n",
    "\n",
    "\n",
    "    # Training bucketizer\n",
    "    bucket = Bucketizer(splits = splits,inputCol  = inputCol,outputCol = outputCol)\n",
    "   \n",
    "    # apply the bucketizer\n",
    "    bucketizer_df = bucket.transform(interaction_level_df)\n",
    "    \n",
    "    # create the summary df   \n",
    "    # the output in the cells below is in the form of pandas but you can keep your result in pyspark as well. \n",
    "    interaction_level_df = bucketizer_df"
   ]
  },
  {
   "cell_type": "code",
   "execution_count": 42,
   "id": "10ea621d",
   "metadata": {},
   "outputs": [
    {
     "data": {
      "application/vnd.jupyter.widget-view+json": {
       "model_id": "25521103885343d28c06e6d6cf8ca1af",
       "version_major": 2,
       "version_minor": 0
      },
      "text/plain": [
       "VBox()"
      ]
     },
     "metadata": {},
     "output_type": "display_data"
    },
    {
     "data": {
      "application/vnd.jupyter.widget-view+json": {
       "model_id": "",
       "version_major": 2,
       "version_minor": 0
      },
      "text/plain": [
       "FloatProgress(value=0.0, bar_style='info', description='Progress:', layout=Layout(height='25px', width='50%'),…"
      ]
     },
     "metadata": {},
     "output_type": "display_data"
    }
   ],
   "source": [
    "# set the max columns to none\n",
    "pd.set_option('display.max_columns', None)"
   ]
  },
  {
   "cell_type": "code",
   "execution_count": null,
   "id": "19d2bd55",
   "metadata": {},
   "outputs": [],
   "source": [
    "#nutrition_col_quantile_summary"
   ]
  },
  {
   "cell_type": "code",
   "execution_count": 43,
   "id": "8eab7800",
   "metadata": {},
   "outputs": [
    {
     "data": {
      "application/vnd.jupyter.widget-view+json": {
       "model_id": "389af67922df41099ed437915149fa16",
       "version_major": 2,
       "version_minor": 0
      },
      "text/plain": [
       "VBox()"
      ]
     },
     "metadata": {},
     "output_type": "display_data"
    },
    {
     "data": {
      "application/vnd.jupyter.widget-view+json": {
       "model_id": "",
       "version_major": 2,
       "version_minor": 0
      },
      "text/plain": [
       "FloatProgress(value=0.0, bar_style='info', description='Progress:', layout=Layout(height='25px', width='50%'),…"
      ]
     },
     "metadata": {},
     "output_type": "display_data"
    }
   ],
   "source": [
    "## Writing the modified data to S3 \n",
    "\n",
    "interaction_level_df.write.mode('overwrite').parquet(\n",
    "                                                        \"s3://sparkml/EDA02/interaction_level_df.parquet\"\n",
    "                                                    )"
   ]
  }
 ],
 "metadata": {
  "kernelspec": {
   "display_name": "PySpark",
   "language": "",
   "name": "pysparkkernel"
  },
  "language_info": {
   "codemirror_mode": {
    "name": "python",
    "version": 3
   },
   "mimetype": "text/x-python",
   "name": "pyspark",
   "pygments_lexer": "python3"
  }
 },
 "nbformat": 4,
 "nbformat_minor": 5
}
