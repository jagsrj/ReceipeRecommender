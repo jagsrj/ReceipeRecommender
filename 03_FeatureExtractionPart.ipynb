{
 "cells": [
  {
   "cell_type": "markdown",
   "id": "6e71f2dc",
   "metadata": {},
   "source": [
    "## Initial Setup"
   ]
  },
  {
   "cell_type": "code",
   "execution_count": 1,
   "id": "7a40ad05",
   "metadata": {},
   "outputs": [
    {
     "data": {
      "application/vnd.jupyter.widget-view+json": {
       "model_id": "5c389b4928fa42e5aa6980ef68693889",
       "version_major": 2,
       "version_minor": 0
      },
      "text/plain": [
       "VBox()"
      ]
     },
     "metadata": {},
     "output_type": "display_data"
    },
    {
     "name": "stdout",
     "output_type": "stream",
     "text": [
      "Starting Spark application\n"
     ]
    },
    {
     "data": {
      "text/html": [
       "<table>\n",
       "<tr><th>ID</th><th>YARN Application ID</th><th>Kind</th><th>State</th><th>Spark UI</th><th>Driver log</th><th>Current session?</th></tr><tr><td>0</td><td>application_1663564264150_0001</td><td>pyspark</td><td>idle</td><td><a target=\"_blank\" href=\"http://ip-172-31-16-49.ec2.internal:20888/proxy/application_1663564264150_0001/\" class=\"emr-proxy-link\" emr-resource=\"j-13R87QSJPUORF\n",
       "\" application-id=\"application_1663564264150_0001\">Link</a></td><td><a target=\"_blank\" href=\"http://ip-172-31-23-25.ec2.internal:8042/node/containerlogs/container_1663564264150_0001_01_000001/livy\" >Link</a></td><td>✔</td></tr></table>"
      ],
      "text/plain": [
       "<IPython.core.display.HTML object>"
      ]
     },
     "metadata": {},
     "output_type": "display_data"
    },
    {
     "data": {
      "application/vnd.jupyter.widget-view+json": {
       "model_id": "",
       "version_major": 2,
       "version_minor": 0
      },
      "text/plain": [
       "FloatProgress(value=0.0, bar_style='info', description='Progress:', layout=Layout(height='25px', width='50%'),…"
      ]
     },
     "metadata": {},
     "output_type": "display_data"
    },
    {
     "name": "stdout",
     "output_type": "stream",
     "text": [
      "SparkSession available as 'spark'.\n"
     ]
    },
    {
     "data": {
      "application/vnd.jupyter.widget-view+json": {
       "model_id": "",
       "version_major": 2,
       "version_minor": 0
      },
      "text/plain": [
       "FloatProgress(value=0.0, bar_style='info', description='Progress:', layout=Layout(height='25px', width='50%'),…"
      ]
     },
     "metadata": {},
     "output_type": "display_data"
    }
   ],
   "source": [
    "from pyspark.sql import SparkSession"
   ]
  },
  {
   "cell_type": "code",
   "execution_count": 2,
   "id": "2e6d1f73",
   "metadata": {},
   "outputs": [
    {
     "data": {
      "application/vnd.jupyter.widget-view+json": {
       "model_id": "faf437842b3c46c3a7bd0ff47c0321d2",
       "version_major": 2,
       "version_minor": 0
      },
      "text/plain": [
       "VBox()"
      ]
     },
     "metadata": {},
     "output_type": "display_data"
    },
    {
     "data": {
      "application/vnd.jupyter.widget-view+json": {
       "model_id": "",
       "version_major": 2,
       "version_minor": 0
      },
      "text/plain": [
       "FloatProgress(value=0.0, bar_style='info', description='Progress:', layout=Layout(height='25px', width='50%'),…"
      ]
     },
     "metadata": {},
     "output_type": "display_data"
    }
   ],
   "source": [
    "from pyspark.sql import SparkSession\n",
    "spark = SparkSession.builder.appName(\"Basics\").getOrCreate()"
   ]
  },
  {
   "cell_type": "code",
   "execution_count": 3,
   "id": "b16e5a14",
   "metadata": {},
   "outputs": [
    {
     "data": {
      "application/vnd.jupyter.widget-view+json": {
       "model_id": "39130419290748fe9bf98fcd1905253a",
       "version_major": 2,
       "version_minor": 0
      },
      "text/plain": [
       "VBox()"
      ]
     },
     "metadata": {},
     "output_type": "display_data"
    },
    {
     "data": {
      "application/vnd.jupyter.widget-view+json": {
       "model_id": "",
       "version_major": 2,
       "version_minor": 0
      },
      "text/plain": [
       "FloatProgress(value=0.0, bar_style='info', description='Progress:', layout=Layout(height='25px', width='50%'),…"
      ]
     },
     "metadata": {},
     "output_type": "display_data"
    },
    {
     "name": "stdout",
     "output_type": "stream",
     "text": [
      "<pyspark.sql.session.SparkSession object at 0x7fda12e7b210>"
     ]
    }
   ],
   "source": [
    "spark"
   ]
  },
  {
   "cell_type": "code",
   "execution_count": 3,
   "id": "ccbec7ee",
   "metadata": {},
   "outputs": [
    {
     "data": {
      "application/vnd.jupyter.widget-view+json": {
       "model_id": "6b477f34f2714318bd036c57c66cc205",
       "version_major": 2,
       "version_minor": 0
      },
      "text/plain": [
       "VBox()"
      ]
     },
     "metadata": {},
     "output_type": "display_data"
    },
    {
     "data": {
      "application/vnd.jupyter.widget-view+json": {
       "model_id": "",
       "version_major": 2,
       "version_minor": 0
      },
      "text/plain": [
       "FloatProgress(value=0.0, bar_style='info', description='Progress:', layout=Layout(height='25px', width='50%'),…"
      ]
     },
     "metadata": {},
     "output_type": "display_data"
    },
    {
     "name": "stdout",
     "output_type": "stream",
     "text": [
      "Collecting plotly==5.5.0\n",
      "  Downloading https://files.pythonhosted.org/packages/b3/f4/23d4a698db9fe772f7fdf40ac17b743c4b0d80274732c59db5bd45acb3be/plotly-5.5.0-py2.py3-none-any.whl (26.5MB)\n",
      "Requirement already satisfied: six in /usr/local/lib/python3.7/site-packages (from plotly==5.5.0)\n",
      "Collecting tenacity>=6.2.0 (from plotly==5.5.0)\n",
      "  Downloading https://files.pythonhosted.org/packages/f2/a5/f86bc8d67c979020438c8559cc70cfe3a1643fd160d35e09c9cca6a09189/tenacity-8.0.1-py3-none-any.whl\n",
      "Installing collected packages: tenacity, plotly\n",
      "Successfully installed plotly-5.5.0 tenacity-8.0.1\n",
      "\n",
      "Collecting pandas==0.25.1\n",
      "  Downloading https://files.pythonhosted.org/packages/7e/ab/ea76361f9d3e732e114adcd801d2820d5319c23d0ac5482fa3b412db217e/pandas-0.25.1-cp37-cp37m-manylinux1_x86_64.whl (10.4MB)\n",
      "Requirement already satisfied: pytz>=2017.2 in /usr/local/lib/python3.7/site-packages (from pandas==0.25.1)\n",
      "Requirement already satisfied: numpy>=1.13.3 in /usr/local/lib64/python3.7/site-packages (from pandas==0.25.1)\n",
      "Collecting python-dateutil>=2.6.1 (from pandas==0.25.1)\n",
      "  Downloading https://files.pythonhosted.org/packages/36/7a/87837f39d0296e723bb9b62bbb257d0355c7f6128853c78955f57342a56d/python_dateutil-2.8.2-py2.py3-none-any.whl (247kB)\n",
      "Requirement already satisfied: six>=1.5 in /usr/local/lib/python3.7/site-packages (from python-dateutil>=2.6.1->pandas==0.25.1)\n",
      "Installing collected packages: python-dateutil, pandas\n",
      "Successfully installed pandas-0.25.1 python-dateutil-2.8.2\n",
      "\n",
      "Collecting numpy==1.14.5\n",
      "  Downloading https://files.pythonhosted.org/packages/3f/e7/7f24ef402a5766c677683e313c5595137d754cb9eb1c99627803280e79d5/numpy-1.14.5-cp37-cp37m-manylinux1_x86_64.whl (12.2MB)\n",
      "Installing collected packages: numpy\n",
      "  Found existing installation: numpy 1.16.5\n",
      "    Not uninstalling numpy at /usr/local/lib64/python3.7/site-packages, outside environment /tmp/1663564450526-0\n",
      "Successfully installed numpy-1.14.5\n",
      "\n",
      "Collecting matplotlib==3.1.1\n",
      "  Downloading https://files.pythonhosted.org/packages/19/7a/60bd79c5d79559150f8bba866dd7d434f0a170312e4d15e8aefa5faba294/matplotlib-3.1.1-cp37-cp37m-manylinux1_x86_64.whl (13.1MB)\n",
      "Requirement already satisfied: python-dateutil>=2.1 in /mnt/tmp/1663564450526-0/lib/python3.7/site-packages (from matplotlib==3.1.1)\n",
      "Collecting pyparsing!=2.0.4,!=2.1.2,!=2.1.6,>=2.0.1 (from matplotlib==3.1.1)\n",
      "  Downloading https://files.pythonhosted.org/packages/6c/10/a7d0fa5baea8fe7b50f448ab742f26f52b80bfca85ac2be9d35cdd9a3246/pyparsing-3.0.9-py3-none-any.whl (98kB)\n",
      "Collecting cycler>=0.10 (from matplotlib==3.1.1)\n",
      "  Downloading https://files.pythonhosted.org/packages/5c/f9/695d6bedebd747e5eb0fe8fad57b72fdf25411273a39791cde838d5a8f51/cycler-0.11.0-py3-none-any.whl\n",
      "Requirement already satisfied: numpy>=1.11 in /mnt/tmp/1663564450526-0/lib/python3.7/site-packages (from matplotlib==3.1.1)\n",
      "Collecting kiwisolver>=1.0.1 (from matplotlib==3.1.1)\n",
      "  Downloading https://files.pythonhosted.org/packages/ab/8f/8dbe2d4efc4c0b08ec67d6efb7cc31fbfd688c80afad85f65980633b0d37/kiwisolver-1.4.4-cp37-cp37m-manylinux_2_5_x86_64.manylinux1_x86_64.whl (1.1MB)\n",
      "Requirement already satisfied: six>=1.5 in /usr/local/lib/python3.7/site-packages (from python-dateutil>=2.1->matplotlib==3.1.1)\n",
      "Collecting typing-extensions; python_version < \"3.8\" (from kiwisolver>=1.0.1->matplotlib==3.1.1)\n",
      "  Downloading https://files.pythonhosted.org/packages/ed/d6/2afc375a8d55b8be879d6b4986d4f69f01115e795e36827fd3a40166028b/typing_extensions-4.3.0-py3-none-any.whl\n",
      "Installing collected packages: pyparsing, cycler, typing-extensions, kiwisolver, matplotlib\n",
      "Successfully installed cycler-0.11.0 kiwisolver-1.4.4 matplotlib-3.1.1 pyparsing-3.0.9 typing-extensions-4.3.0\n",
      "\n",
      "You are using pip version 9.0.1, however version 22.2.2 is available.\n",
      "You should consider upgrading via the 'pip install --upgrade pip' command.\n",
      "\n",
      "You are using pip version 9.0.1, however version 22.2.2 is available.\n",
      "You should consider upgrading via the 'pip install --upgrade pip' command.\n",
      "\n",
      "You are using pip version 9.0.1, however version 22.2.2 is available.\n",
      "You should consider upgrading via the 'pip install --upgrade pip' command.\n",
      "\n",
      "You are using pip version 9.0.1, however version 22.2.2 is available.\n",
      "You should consider upgrading via the 'pip install --upgrade pip' command."
     ]
    }
   ],
   "source": [
    "# Run this everytime you create a new spark instance. \n",
    "\n",
    "spark.sparkContext.install_pypi_package(\"plotly==5.5.0\")\n",
    "spark.sparkContext.install_pypi_package(\"pandas==0.25.1\")\n",
    "spark.sparkContext.install_pypi_package(\"numpy==1.14.5\")\n",
    "spark.sparkContext.install_pypi_package(\"matplotlib==3.1.1\")"
   ]
  },
  {
   "cell_type": "code",
   "execution_count": 113,
   "id": "cea1e671",
   "metadata": {},
   "outputs": [
    {
     "data": {
      "application/vnd.jupyter.widget-view+json": {
       "model_id": "2bce3a23baea44b88138370c7e15d525",
       "version_major": 2,
       "version_minor": 0
      },
      "text/plain": [
       "VBox()"
      ]
     },
     "metadata": {},
     "output_type": "display_data"
    },
    {
     "data": {
      "application/vnd.jupyter.widget-view+json": {
       "model_id": "",
       "version_major": 2,
       "version_minor": 0
      },
      "text/plain": [
       "FloatProgress(value=0.0, bar_style='info', description='Progress:', layout=Layout(height='25px', width='50%'),…"
      ]
     },
     "metadata": {},
     "output_type": "display_data"
    }
   ],
   "source": [
    "# Write all import commands here \n",
    "# importing window from pyspark.sql.window\n",
    "from pyspark.sql.window import Window\n",
    "from pyspark.sql.functions import col,avg,sum,min,max,row_number, count, when, isnan\n",
    "from pyspark.sql import functions as F\n",
    "import sys\n",
    "from pyspark.ml.feature import StringIndexer"
   ]
  },
  {
   "cell_type": "code",
   "execution_count": 5,
   "id": "2c033ab8",
   "metadata": {},
   "outputs": [
    {
     "data": {
      "application/vnd.jupyter.widget-view+json": {
       "model_id": "8f634f19a1b8470193efffd22c4dfe27",
       "version_major": 2,
       "version_minor": 0
      },
      "text/plain": [
       "VBox()"
      ]
     },
     "metadata": {},
     "output_type": "display_data"
    },
    {
     "data": {
      "application/vnd.jupyter.widget-view+json": {
       "model_id": "",
       "version_major": 2,
       "version_minor": 0
      },
      "text/plain": [
       "FloatProgress(value=0.0, bar_style='info', description='Progress:', layout=Layout(height='25px', width='50%'),…"
      ]
     },
     "metadata": {},
     "output_type": "display_data"
    }
   ],
   "source": [
    "df = sqlContext.createDataFrame( [(1,2,\"a\"),(3,2,\"a\"),(1,3,\"b\"),(2,2,\"a\"),(2,3,\"b\")], \n",
    "                                 [\"time\", \"value\", \"class\"] )"
   ]
  },
  {
   "cell_type": "code",
   "execution_count": 6,
   "id": "844ec2fa",
   "metadata": {},
   "outputs": [
    {
     "data": {
      "application/vnd.jupyter.widget-view+json": {
       "model_id": "4dbc64b33276468caffac857be718133",
       "version_major": 2,
       "version_minor": 0
      },
      "text/plain": [
       "VBox()"
      ]
     },
     "metadata": {},
     "output_type": "display_data"
    },
    {
     "data": {
      "application/vnd.jupyter.widget-view+json": {
       "model_id": "",
       "version_major": 2,
       "version_minor": 0
      },
      "text/plain": [
       "FloatProgress(value=0.0, bar_style='info', description='Progress:', layout=Layout(height='25px', width='50%'),…"
      ]
     },
     "metadata": {},
     "output_type": "display_data"
    },
    {
     "name": "stdout",
     "output_type": "stream",
     "text": [
      "+----+-----+-----+-------+\n",
      "|time|value|class|cum_sum|\n",
      "+----+-----+-----+-------+\n",
      "|   1|    2|    a|      2|\n",
      "|   2|    2|    a|      4|\n",
      "|   3|    2|    a|      6|\n",
      "|   1|    3|    b|      3|\n",
      "|   2|    3|    b|      6|\n",
      "+----+-----+-----+-------+"
     ]
    }
   ],
   "source": [
    "from pyspark.sql import Window\n",
    "from pyspark.sql import functions as F\n",
    "\n",
    "windowval = (Window.partitionBy('class').orderBy('time')\n",
    "             .rangeBetween(Window.unboundedPreceding, 0))\n",
    "df_w_cumsum = df.withColumn('cum_sum', F.sum('value').over(windowval))\n",
    "df_w_cumsum.show()"
   ]
  },
  {
   "cell_type": "code",
   "execution_count": 10,
   "id": "6c40218d",
   "metadata": {},
   "outputs": [
    {
     "data": {
      "application/vnd.jupyter.widget-view+json": {
       "model_id": "7d942fbfcd5048e5a70045e24bbe01cf",
       "version_major": 2,
       "version_minor": 0
      },
      "text/plain": [
       "VBox()"
      ]
     },
     "metadata": {},
     "output_type": "display_data"
    },
    {
     "data": {
      "application/vnd.jupyter.widget-view+json": {
       "model_id": "",
       "version_major": 2,
       "version_minor": 0
      },
      "text/plain": [
       "FloatProgress(value=0.0, bar_style='info', description='Progress:', layout=Layout(height='25px', width='50%'),…"
      ]
     },
     "metadata": {},
     "output_type": "display_data"
    },
    {
     "name": "stdout",
     "output_type": "stream",
     "text": [
      "+----+-----+-----+-------+\n",
      "|time|value|class|cum_sum|\n",
      "+----+-----+-----+-------+\n",
      "|   2|    2|    a|      4|\n",
      "|   3|    2|    a|      6|\n",
      "|   2|    3|    b|      6|\n",
      "+----+-----+-----+-------+"
     ]
    }
   ],
   "source": [
    "df_w_cumsum.filter('cum_sum > 3').show()"
   ]
  },
  {
   "cell_type": "code",
   "execution_count": 6,
   "id": "e3b42de5",
   "metadata": {},
   "outputs": [
    {
     "data": {
      "application/vnd.jupyter.widget-view+json": {
       "model_id": "4a0c5bf02500466fa741fbee837c9931",
       "version_major": 2,
       "version_minor": 0
      },
      "text/plain": [
       "VBox()"
      ]
     },
     "metadata": {},
     "output_type": "display_data"
    },
    {
     "data": {
      "application/vnd.jupyter.widget-view+json": {
       "model_id": "",
       "version_major": 2,
       "version_minor": 0
      },
      "text/plain": [
       "FloatProgress(value=0.0, bar_style='info', description='Progress:', layout=Layout(height='25px', width='50%'),…"
      ]
     },
     "metadata": {},
     "output_type": "display_data"
    },
    {
     "name": "stdout",
     "output_type": "stream",
     "text": [
      "xpoints are -  [1 8]"
     ]
    }
   ],
   "source": [
    "import matplotlib.pyplot as plt\n",
    "import numpy as np\n",
    "\n",
    "xpoints = np.array([1, 8])\n",
    "ypoints = np.array([3, 10])\n",
    "print('xpoints are - ', xpoints)\n",
    "\n",
    "plt.plot(xpoints, ypoints)\n",
    "plt.show()"
   ]
  },
  {
   "cell_type": "markdown",
   "id": "37b75577",
   "metadata": {},
   "source": [
    "## Defining Custom Functions "
   ]
  },
  {
   "cell_type": "code",
   "execution_count": 11,
   "id": "515ff4f8",
   "metadata": {},
   "outputs": [
    {
     "data": {
      "application/vnd.jupyter.widget-view+json": {
       "model_id": "2ef0dafb0e754bfaa38d9b0df8c96107",
       "version_major": 2,
       "version_minor": 0
      },
      "text/plain": [
       "VBox()"
      ]
     },
     "metadata": {},
     "output_type": "display_data"
    },
    {
     "data": {
      "application/vnd.jupyter.widget-view+json": {
       "model_id": "",
       "version_major": 2,
       "version_minor": 0
      },
      "text/plain": [
       "FloatProgress(value=0.0, bar_style='info', description='Progress:', layout=Layout(height='25px', width='50%'),…"
      ]
     },
     "metadata": {},
     "output_type": "display_data"
    }
   ],
   "source": [
    "def get_quantiles(df, col_name, quantiles_list=[0.01, 0.25, 0.5, 0.75, 0.99]):\n",
    "    \"\"\"\n",
    "    Takes a numerical column and returns column values at requested quantiles\n",
    "\n",
    "    Inputs \n",
    "    Argument 1: Dataframe\n",
    "    Argument 2: Name of the column\n",
    "    Argument 3: A list of quantiles you want to find. Default value [0.01, 0.25, 0.5, 0.75, 0.99]\n",
    "\n",
    "    Output \n",
    "    Returns a dictionary with quantiles as keys and column quantile values as values \n",
    "    \"\"\"\n",
    "    # Get min, max and quantile values for given column\n",
    "    zero = df.approxQuantile(col_name,[0.0] , 0.2)[0]\n",
    "    quant_vals = df.approxQuantile(col_name, quantiles_list, 0.2)\n",
    "    one = df.approxQuantile(col_name,[1.0] , 0.2)[0]\n",
    "\n",
    "    # Store min, quantiles and max in output dict, sequentially\n",
    "    quantiles_dict = {0.0:int(zero)}\n",
    "    for i in range(0,len(quantiles_list)):\n",
    "        quantiles_dict[quantiles_list[i]]=quant_vals[i]\n",
    "    quantiles_dict[1.0]=int(one)\n",
    "\n",
    "    return(quantiles_dict)"
   ]
  },
  {
   "cell_type": "code",
   "execution_count": 129,
   "id": "9ec89e88",
   "metadata": {},
   "outputs": [
    {
     "data": {
      "application/vnd.jupyter.widget-view+json": {
       "model_id": "8101f338c890454fbaaac00ebd6196b2",
       "version_major": 2,
       "version_minor": 0
      },
      "text/plain": [
       "VBox()"
      ]
     },
     "metadata": {},
     "output_type": "display_data"
    },
    {
     "data": {
      "application/vnd.jupyter.widget-view+json": {
       "model_id": "",
       "version_major": 2,
       "version_minor": 0
      },
      "text/plain": [
       "FloatProgress(value=0.0, bar_style='info', description='Progress:', layout=Layout(height='25px', width='50%'),…"
      ]
     },
     "metadata": {},
     "output_type": "display_data"
    }
   ],
   "source": [
    "def add_OHE_columns (df, n_name_list):\n",
    "    \"\"\"\n",
    "    Given a list of tags, creates one hot encoded columns for each tag. \n",
    "  \n",
    "    Input\n",
    "    Argument 1: Dataframe in which the function will add the new columns\n",
    "    Argument 2: list of tags\n",
    "  \n",
    "    Output\n",
    "    Prints the names of columns that have been added \n",
    "    Returns the modified dataframe \n",
    "    \"\"\"\n",
    "    # write code to create encoded columns \n",
    "    for name in n_name_list:\n",
    "        opt_col = name+'_numeric'\n",
    "        indexer = StringIndexer(inputCol=name, outputCol=opt_col)\n",
    "        df = indexer.fit(df).transform(df)\n",
    "        oht_opt_col = name+'_onehot'\n",
    "        encoder = OneHotEncoder(inputCols=['opt_col'], outputCols=[oht_opt_col])\n",
    "        df = encoder.fit(df).transform(df)\n",
    "        df = df.select('*', vector_to_array('oht_opt_col').alias('col_onehot'))        \n",
    "        print (\"added column: has_tag_\"+name)\n",
    "\n",
    "    return df"
   ]
  },
  {
   "cell_type": "code",
   "execution_count": 130,
   "id": "03f06b42",
   "metadata": {},
   "outputs": [
    {
     "data": {
      "application/vnd.jupyter.widget-view+json": {
       "model_id": "070d86ec820d4b88acb5c40501e5fdc9",
       "version_major": 2,
       "version_minor": 0
      },
      "text/plain": [
       "VBox()"
      ]
     },
     "metadata": {},
     "output_type": "display_data"
    },
    {
     "data": {
      "application/vnd.jupyter.widget-view+json": {
       "model_id": "",
       "version_major": 2,
       "version_minor": 0
      },
      "text/plain": [
       "FloatProgress(value=0.0, bar_style='info', description='Progress:', layout=Layout(height='25px', width='50%'),…"
      ]
     },
     "metadata": {},
     "output_type": "display_data"
    },
    {
     "name": "stderr",
     "output_type": "stream",
     "text": [
      "An error was encountered:\n",
      "An error occurred while calling o1317.fit.\n",
      ": org.apache.spark.SparkException: Input column easy does not exist.\n",
      "\tat org.apache.spark.ml.feature.StringIndexerBase.$anonfun$validateAndTransformSchema$2(StringIndexer.scala:128)\n",
      "\tat scala.collection.TraversableLike.$anonfun$flatMap$1(TraversableLike.scala:245)\n",
      "\tat scala.collection.IndexedSeqOptimized.foreach(IndexedSeqOptimized.scala:36)\n",
      "\tat scala.collection.IndexedSeqOptimized.foreach$(IndexedSeqOptimized.scala:33)\n",
      "\tat scala.collection.mutable.ArrayOps$ofRef.foreach(ArrayOps.scala:198)\n",
      "\tat scala.collection.TraversableLike.flatMap(TraversableLike.scala:245)\n",
      "\tat scala.collection.TraversableLike.flatMap$(TraversableLike.scala:242)\n",
      "\tat scala.collection.mutable.ArrayOps$ofRef.flatMap(ArrayOps.scala:198)\n",
      "\tat org.apache.spark.ml.feature.StringIndexerBase.validateAndTransformSchema(StringIndexer.scala:123)\n",
      "\tat org.apache.spark.ml.feature.StringIndexerBase.validateAndTransformSchema$(StringIndexer.scala:115)\n",
      "\tat org.apache.spark.ml.feature.StringIndexer.validateAndTransformSchema(StringIndexer.scala:145)\n",
      "\tat org.apache.spark.ml.feature.StringIndexer.transformSchema(StringIndexer.scala:252)\n",
      "\tat org.apache.spark.ml.PipelineStage.transformSchema(Pipeline.scala:71)\n",
      "\tat org.apache.spark.ml.feature.StringIndexer.fit(StringIndexer.scala:237)\n",
      "\tat sun.reflect.NativeMethodAccessorImpl.invoke0(Native Method)\n",
      "\tat sun.reflect.NativeMethodAccessorImpl.invoke(NativeMethodAccessorImpl.java:62)\n",
      "\tat sun.reflect.DelegatingMethodAccessorImpl.invoke(DelegatingMethodAccessorImpl.java:43)\n",
      "\tat java.lang.reflect.Method.invoke(Method.java:498)\n",
      "\tat py4j.reflection.MethodInvoker.invoke(MethodInvoker.java:244)\n",
      "\tat py4j.reflection.ReflectionEngine.invoke(ReflectionEngine.java:357)\n",
      "\tat py4j.Gateway.invoke(Gateway.java:282)\n",
      "\tat py4j.commands.AbstractCommand.invokeMethod(AbstractCommand.java:132)\n",
      "\tat py4j.commands.CallCommand.execute(CallCommand.java:79)\n",
      "\tat py4j.GatewayConnection.run(GatewayConnection.java:238)\n",
      "\tat java.lang.Thread.run(Thread.java:750)\n",
      "\n",
      "Traceback (most recent call last):\n",
      "  File \"<stdin>\", line 17, in add_OHE_columns\n",
      "  File \"/usr/lib/spark/python/lib/pyspark.zip/pyspark/ml/base.py\", line 161, in fit\n",
      "    return self._fit(dataset)\n",
      "  File \"/usr/lib/spark/python/lib/pyspark.zip/pyspark/ml/wrapper.py\", line 335, in _fit\n",
      "    java_model = self._fit_java(dataset)\n",
      "  File \"/usr/lib/spark/python/lib/pyspark.zip/pyspark/ml/wrapper.py\", line 332, in _fit_java\n",
      "    return self._java_obj.fit(dataset._jdf)\n",
      "  File \"/usr/lib/spark/python/lib/py4j-0.10.9-src.zip/py4j/java_gateway.py\", line 1305, in __call__\n",
      "    answer, self.gateway_client, self.target_id, self.name)\n",
      "  File \"/usr/lib/spark/python/lib/pyspark.zip/pyspark/sql/utils.py\", line 111, in deco\n",
      "    return f(*a, **kw)\n",
      "  File \"/usr/lib/spark/python/lib/py4j-0.10.9-src.zip/py4j/protocol.py\", line 328, in get_return_value\n",
      "    format(target_id, \".\", name), value)\n",
      "py4j.protocol.Py4JJavaError: An error occurred while calling o1317.fit.\n",
      ": org.apache.spark.SparkException: Input column easy does not exist.\n",
      "\tat org.apache.spark.ml.feature.StringIndexerBase.$anonfun$validateAndTransformSchema$2(StringIndexer.scala:128)\n",
      "\tat scala.collection.TraversableLike.$anonfun$flatMap$1(TraversableLike.scala:245)\n",
      "\tat scala.collection.IndexedSeqOptimized.foreach(IndexedSeqOptimized.scala:36)\n",
      "\tat scala.collection.IndexedSeqOptimized.foreach$(IndexedSeqOptimized.scala:33)\n",
      "\tat scala.collection.mutable.ArrayOps$ofRef.foreach(ArrayOps.scala:198)\n",
      "\tat scala.collection.TraversableLike.flatMap(TraversableLike.scala:245)\n",
      "\tat scala.collection.TraversableLike.flatMap$(TraversableLike.scala:242)\n",
      "\tat scala.collection.mutable.ArrayOps$ofRef.flatMap(ArrayOps.scala:198)\n",
      "\tat org.apache.spark.ml.feature.StringIndexerBase.validateAndTransformSchema(StringIndexer.scala:123)\n",
      "\tat org.apache.spark.ml.feature.StringIndexerBase.validateAndTransformSchema$(StringIndexer.scala:115)\n",
      "\tat org.apache.spark.ml.feature.StringIndexer.validateAndTransformSchema(StringIndexer.scala:145)\n",
      "\tat org.apache.spark.ml.feature.StringIndexer.transformSchema(StringIndexer.scala:252)\n",
      "\tat org.apache.spark.ml.PipelineStage.transformSchema(Pipeline.scala:71)\n",
      "\tat org.apache.spark.ml.feature.StringIndexer.fit(StringIndexer.scala:237)\n",
      "\tat sun.reflect.NativeMethodAccessorImpl.invoke0(Native Method)\n",
      "\tat sun.reflect.NativeMethodAccessorImpl.invoke(NativeMethodAccessorImpl.java:62)\n",
      "\tat sun.reflect.DelegatingMethodAccessorImpl.invoke(DelegatingMethodAccessorImpl.java:43)\n",
      "\tat java.lang.reflect.Method.invoke(Method.java:498)\n",
      "\tat py4j.reflection.MethodInvoker.invoke(MethodInvoker.java:244)\n",
      "\tat py4j.reflection.ReflectionEngine.invoke(ReflectionEngine.java:357)\n",
      "\tat py4j.Gateway.invoke(Gateway.java:282)\n",
      "\tat py4j.commands.AbstractCommand.invokeMethod(AbstractCommand.java:132)\n",
      "\tat py4j.commands.CallCommand.execute(CallCommand.java:79)\n",
      "\tat py4j.GatewayConnection.run(GatewayConnection.java:238)\n",
      "\tat java.lang.Thread.run(Thread.java:750)\n",
      "\n",
      "\n"
     ]
    }
   ],
   "source": [
    "df = add_OHE_columns(interaction_level_df, top_frequent_tags_list)\n",
    "df.show()"
   ]
  },
  {
   "cell_type": "code",
   "execution_count": 116,
   "id": "4983791c",
   "metadata": {},
   "outputs": [
    {
     "data": {
      "application/vnd.jupyter.widget-view+json": {
       "model_id": "ca80c5b6393e4e1abd966c6b6ef062e9",
       "version_major": 2,
       "version_minor": 0
      },
      "text/plain": [
       "VBox()"
      ]
     },
     "metadata": {},
     "output_type": "display_data"
    },
    {
     "data": {
      "application/vnd.jupyter.widget-view+json": {
       "model_id": "",
       "version_major": 2,
       "version_minor": 0
      },
      "text/plain": [
       "FloatProgress(value=0.0, bar_style='info', description='Progress:', layout=Layout(height='25px', width='50%'),…"
      ]
     },
     "metadata": {},
     "output_type": "display_data"
    },
    {
     "name": "stdout",
     "output_type": "stream",
     "text": [
      "+-----+-----+\n",
      "| name|class|\n",
      "+-----+-----+\n",
      "| Alex|    B|\n",
      "|  Bob|    A|\n",
      "|Cathy|    B|\n",
      "| Dave|    C|\n",
      "| Eric|    D|\n",
      "+-----+-----+"
     ]
    }
   ],
   "source": [
    "#sample reference - https://www.skytowner.com/explore/one_hot_encoding_in_pyspark\n",
    "\n",
    "rows = [['Alex','B'], ['Bob','A'], ['Cathy','B'], ['Dave','C'], ['Eric','D']]\n",
    "df = spark.createDataFrame(rows, ['name','class'])\n",
    "df.show()"
   ]
  },
  {
   "cell_type": "code",
   "execution_count": 117,
   "id": "543bfa06",
   "metadata": {},
   "outputs": [
    {
     "data": {
      "application/vnd.jupyter.widget-view+json": {
       "model_id": "efeac37db4df4313be72058aeb977854",
       "version_major": 2,
       "version_minor": 0
      },
      "text/plain": [
       "VBox()"
      ]
     },
     "metadata": {},
     "output_type": "display_data"
    },
    {
     "data": {
      "application/vnd.jupyter.widget-view+json": {
       "model_id": "",
       "version_major": 2,
       "version_minor": 0
      },
      "text/plain": [
       "FloatProgress(value=0.0, bar_style='info', description='Progress:', layout=Layout(height='25px', width='50%'),…"
      ]
     },
     "metadata": {},
     "output_type": "display_data"
    },
    {
     "name": "stdout",
     "output_type": "stream",
     "text": [
      "+-----+-----+-------------+\n",
      "| name|class|class_numeric|\n",
      "+-----+-----+-------------+\n",
      "| Alex|    B|          0.0|\n",
      "|  Bob|    A|          1.0|\n",
      "|Cathy|    B|          0.0|\n",
      "| Dave|    C|          2.0|\n",
      "| Eric|    D|          3.0|\n",
      "+-----+-----+-------------+"
     ]
    }
   ],
   "source": [
    "from pyspark.ml.feature import StringIndexer\n",
    "indexer = StringIndexer(inputCol='class', outputCol='class_numeric')\n",
    "df_indexed = indexer.fit(df).transform(df)\n",
    "df_indexed.show()"
   ]
  },
  {
   "cell_type": "code",
   "execution_count": 120,
   "id": "42f9e061",
   "metadata": {},
   "outputs": [
    {
     "data": {
      "application/vnd.jupyter.widget-view+json": {
       "model_id": "61f3a6ab6d3040c4b74b75c4f2723da5",
       "version_major": 2,
       "version_minor": 0
      },
      "text/plain": [
       "VBox()"
      ]
     },
     "metadata": {},
     "output_type": "display_data"
    },
    {
     "data": {
      "application/vnd.jupyter.widget-view+json": {
       "model_id": "",
       "version_major": 2,
       "version_minor": 0
      },
      "text/plain": [
       "FloatProgress(value=0.0, bar_style='info', description='Progress:', layout=Layout(height='25px', width='50%'),…"
      ]
     },
     "metadata": {},
     "output_type": "display_data"
    },
    {
     "name": "stdout",
     "output_type": "stream",
     "text": [
      "+-----+-----+-------------+-------------+\n",
      "| name|class|class_numeric|  oht_opt_col|\n",
      "+-----+-----+-------------+-------------+\n",
      "| Alex|    B|          0.0|(3,[0],[1.0])|\n",
      "|  Bob|    A|          1.0|(3,[1],[1.0])|\n",
      "|Cathy|    B|          0.0|(3,[0],[1.0])|\n",
      "| Dave|    C|          2.0|(3,[2],[1.0])|\n",
      "| Eric|    D|          3.0|    (3,[],[])|\n",
      "+-----+-----+-------------+-------------+"
     ]
    }
   ],
   "source": [
    "from pyspark.ml.feature import OneHotEncoder\n",
    "encoder = OneHotEncoder(inputCols=['class_numeric'], outputCols=[\"oht_opt_col\"])\n",
    "df_onehot = encoder.fit(df_indexed).transform(df_indexed)\n",
    "df_onehot.show()"
   ]
  },
  {
   "cell_type": "code",
   "execution_count": 121,
   "id": "0233cd73",
   "metadata": {},
   "outputs": [
    {
     "data": {
      "application/vnd.jupyter.widget-view+json": {
       "model_id": "b6f3943d3ac340edb97c4420c42133ac",
       "version_major": 2,
       "version_minor": 0
      },
      "text/plain": [
       "VBox()"
      ]
     },
     "metadata": {},
     "output_type": "display_data"
    },
    {
     "data": {
      "application/vnd.jupyter.widget-view+json": {
       "model_id": "",
       "version_major": 2,
       "version_minor": 0
      },
      "text/plain": [
       "FloatProgress(value=0.0, bar_style='info', description='Progress:', layout=Layout(height='25px', width='50%'),…"
      ]
     },
     "metadata": {},
     "output_type": "display_data"
    },
    {
     "name": "stdout",
     "output_type": "stream",
     "text": [
      "+-----+-----+-------------+-------------+---------------+\n",
      "| name|class|class_numeric|  oht_opt_col|     col_onehot|\n",
      "+-----+-----+-------------+-------------+---------------+\n",
      "| Alex|    B|          0.0|(3,[0],[1.0])|[1.0, 0.0, 0.0]|\n",
      "|  Bob|    A|          1.0|(3,[1],[1.0])|[0.0, 1.0, 0.0]|\n",
      "|Cathy|    B|          0.0|(3,[0],[1.0])|[1.0, 0.0, 0.0]|\n",
      "| Dave|    C|          2.0|(3,[2],[1.0])|[0.0, 0.0, 1.0]|\n",
      "| Eric|    D|          3.0|    (3,[],[])|[0.0, 0.0, 0.0]|\n",
      "+-----+-----+-------------+-------------+---------------+"
     ]
    }
   ],
   "source": [
    "from pyspark.ml.functions import vector_to_array\n",
    "df_col_onehot = df_onehot.select('*', vector_to_array('oht_opt_col').alias('col_onehot'))\n",
    "df_col_onehot.show()"
   ]
  },
  {
   "cell_type": "markdown",
   "id": "4f974fc0",
   "metadata": {},
   "source": [
    "## Read the data"
   ]
  },
  {
   "cell_type": "code",
   "execution_count": 13,
   "id": "6716e7a1",
   "metadata": {},
   "outputs": [
    {
     "data": {
      "application/vnd.jupyter.widget-view+json": {
       "model_id": "c650dce11dd94a3c8f1dac04ca704cfc",
       "version_major": 2,
       "version_minor": 0
      },
      "text/plain": [
       "VBox()"
      ]
     },
     "metadata": {},
     "output_type": "display_data"
    },
    {
     "data": {
      "application/vnd.jupyter.widget-view+json": {
       "model_id": "",
       "version_major": 2,
       "version_minor": 0
      },
      "text/plain": [
       "FloatProgress(value=0.0, bar_style='info', description='Progress:', layout=Layout(height='25px', width='50%'),…"
      ]
     },
     "metadata": {},
     "output_type": "display_data"
    }
   ],
   "source": [
    "interaction_level_df = spark.read.parquet(\n",
    "                                            # add code here \n",
    "                                            \"s3://sparkml/EDA02/interaction_level_df.parquet\"\n",
    "                                        )"
   ]
  },
  {
   "cell_type": "markdown",
   "id": "48ba87c0",
   "metadata": {},
   "source": [
    "## Adding user level average features"
   ]
  },
  {
   "cell_type": "markdown",
   "id": "ae32ab44",
   "metadata": {},
   "source": [
    "1. user_avg_rating\n",
    "2. user_n_ratings\n",
    "3. user_avg_years_betwn_review_and_submission\n",
    "4. user_avg_prep_time_recipes_reviewed\n",
    "5. user_avg_n_steps_recipes_reviewed\n",
    "6. user_avg_n_ingredients_recipes_reviewed"
   ]
  },
  {
   "cell_type": "code",
   "execution_count": 14,
   "id": "bd38ade9",
   "metadata": {},
   "outputs": [
    {
     "data": {
      "application/vnd.jupyter.widget-view+json": {
       "model_id": "d2e74e31e1d8469291837caa0bf59686",
       "version_major": 2,
       "version_minor": 0
      },
      "text/plain": [
       "VBox()"
      ]
     },
     "metadata": {},
     "output_type": "display_data"
    },
    {
     "data": {
      "application/vnd.jupyter.widget-view+json": {
       "model_id": "",
       "version_major": 2,
       "version_minor": 0
      },
      "text/plain": [
       "FloatProgress(value=0.0, bar_style='info', description='Progress:', layout=Layout(height='25px', width='50%'),…"
      ]
     },
     "metadata": {},
     "output_type": "display_data"
    }
   ],
   "source": [
    "# creating a window partition of dataframe\n",
    "# for - 1. user_avg_rating\n",
    "userAvgRatingAgg  = Window.partitionBy(\"user_id\")\n",
    "\n",
    "# calculate average() of ratings per user\n",
    "interaction_level_df = interaction_level_df.withColumn(\"user_avg_rating\",\n",
    "               avg(col(\"rating\")).over(userAvgRatingAgg))\n",
    "\n",
    "# for - 2. user_n_ratings\n",
    "interaction_level_df = interaction_level_df.withColumn(\"user_n_ratings\",\n",
    "               count(col(\"rating\")).over(userAvgRatingAgg))\n",
    "\n",
    "# for - 3. user_avg_years_betwn_review_and_submission\n",
    "interaction_level_df = interaction_level_df.withColumn(\"user_avg_years_betwn_review_and_submission\",\n",
    "               avg(col(\"years_since_submission_on_review_date\")).over(userAvgRatingAgg))\n",
    "\n",
    "# for - 4. user_avg_prep_time_recipes_reviewed\n",
    "interaction_level_df = interaction_level_df.withColumn(\"user_avg_prep_time_recipes_reviewed\",\n",
    "               avg(col(\"minutes\")).over(userAvgRatingAgg))\n",
    "\n",
    "# for 5. user_avg_n_steps_recipes_reviewed\n",
    "interaction_level_df = interaction_level_df.withColumn(\"user_avg_n_steps_recipes_reviewed\",\n",
    "               avg(col(\"n_steps\")).over(userAvgRatingAgg))\n",
    "\n",
    "# for 6. user_avg_n_ingredients_recipes_reviewed\n",
    "interaction_level_df = interaction_level_df.withColumn(\"user_avg_n_ingredients_recipes_reviewed\",\n",
    "               avg(col(\"n_ingredients\")).over(userAvgRatingAgg))\n"
   ]
  },
  {
   "cell_type": "markdown",
   "id": "11020ccc",
   "metadata": {},
   "source": [
    "Add columns \n",
    "\n",
    "7. user_avg_calories\n",
    "\n",
    "8. user_avg_total_fat_per_100_cal_recipes_reviewed\n",
    "\n",
    "9. user_avg_sugar_per_100_cal_recipes_reviewed\n",
    "\n",
    "10. user_avg_sodium_per_100_cal_recipes_reviewed\n",
    "\n",
    "11. user_avg_protein_per_100_cal_recipes_reviewed\n",
    "\n",
    "12. user_avg_saturated_fat_per_100_cal_recipes_reviewed\n",
    "\n",
    "13. user_avg_carbohydrates_per_100_cal_recipes_reviewed"
   ]
  },
  {
   "cell_type": "code",
   "execution_count": 15,
   "id": "1ab88a49",
   "metadata": {},
   "outputs": [
    {
     "data": {
      "application/vnd.jupyter.widget-view+json": {
       "model_id": "b246719f7d2041d19eb249eda9519c48",
       "version_major": 2,
       "version_minor": 0
      },
      "text/plain": [
       "VBox()"
      ]
     },
     "metadata": {},
     "output_type": "display_data"
    },
    {
     "data": {
      "application/vnd.jupyter.widget-view+json": {
       "model_id": "",
       "version_major": 2,
       "version_minor": 0
      },
      "text/plain": [
       "FloatProgress(value=0.0, bar_style='info', description='Progress:', layout=Layout(height='25px', width='50%'),…"
      ]
     },
     "metadata": {},
     "output_type": "display_data"
    }
   ],
   "source": [
    "# for - 7. user_avg_calories\n",
    "interaction_level_df = interaction_level_df.withColumn(\"user_avg_calories\",\n",
    "               avg(col(\"calories\")).over(userAvgRatingAgg))\n",
    "\n",
    "\n",
    "#for 8. user_avg_total_fat_per_100_cal_recipes_reviewed\n",
    "interaction_level_df = interaction_level_df.withColumn(\"user_avg_total_fat_per_100_cal_recipes_reviewed\",\n",
    "               avg(col(\"total_fat_per_100_cal\")).over(userAvgRatingAgg))\n",
    "#round(interaction_level_df.filter('user_id == 233044').select('user_avg_total_fat_per_100_cal_recipes_reviewed').first()[0])\n",
    "\n",
    "#for - 9. user_avg_sugar_per_100_cal_recipes_reviewed\n",
    "interaction_level_df = interaction_level_df.withColumn(\"user_avg_sugar_per_100_cal_recipes_reviewed\",\n",
    "               avg(col(\"sugar_per_100_cal\")).over(userAvgRatingAgg))\n",
    "\n",
    "#for 10. user_avg_sodium_per_100_cal_recipes_reviewed\n",
    "interaction_level_df = interaction_level_df.withColumn(\"user_avg_sodium_per_100_cal_recipes_reviewed\",\n",
    "               avg(col(\"sodium_per_100_cal\")).over(userAvgRatingAgg))\n",
    "\n",
    "#for 11. user_avg_protein_per_100_cal_recipes_reviewed\n",
    "interaction_level_df = interaction_level_df.withColumn(\"user_avg_protein_per_100_cal_recipes_reviewed\",\n",
    "               avg(col(\"protein_per_100_cal\")).over(userAvgRatingAgg))\n",
    "\n",
    "#for 12. user_avg_saturated_fat_per_100_cal_recipes_reviewed\n",
    "interaction_level_df = interaction_level_df.withColumn(\"user_avg_saturated_fat_per_100_cal_recipes_reviewed\",\n",
    "               avg(col(\"saturated_fat_per_100_cal\")).over(userAvgRatingAgg))\n",
    "\n",
    "#for 13. user_avg_carbohydrates_per_100_cal_recipes_reviewed\n",
    "interaction_level_df = interaction_level_df.withColumn(\"user_avg_carbohydrates_per_100_cal_recipes_reviewed\",\n",
    "               avg(col(\"carbohydrates_per_100_cal\")).over(userAvgRatingAgg))"
   ]
  },
  {
   "cell_type": "code",
   "execution_count": 16,
   "id": "12589059",
   "metadata": {
    "scrolled": true
   },
   "outputs": [
    {
     "data": {
      "application/vnd.jupyter.widget-view+json": {
       "model_id": "cad27291f5bf4c438042d9b6f1d013d1",
       "version_major": 2,
       "version_minor": 0
      },
      "text/plain": [
       "VBox()"
      ]
     },
     "metadata": {},
     "output_type": "display_data"
    },
    {
     "data": {
      "application/vnd.jupyter.widget-view+json": {
       "model_id": "",
       "version_major": 2,
       "version_minor": 0
      },
      "text/plain": [
       "FloatProgress(value=0.0, bar_style='info', description='Progress:', layout=Layout(height='25px', width='50%'),…"
      ]
     },
     "metadata": {},
     "output_type": "display_data"
    }
   ],
   "source": [
    "# Code check cell\n",
    "# Do not edit cells with assert commands\n",
    "# If an error is shown after running this cell, please recheck your code. \n",
    "\n",
    "assert(round(interaction_level_df.filter('user_id == 601529').select('user_avg_rating').first()[0], 2) == 4.22)\n",
    "assert(interaction_level_df.filter('user_id == 601529').select('user_n_ratings').first()[0] == 27)\n",
    "assert(round(interaction_level_df.filter('user_id == 601529').select('user_avg_years_betwn_review_and_submission').first()[0], 2) == 3.51)\n",
    "assert(interaction_level_df.filter('user_id == 233044').select('user_avg_prep_time_recipes_reviewed').first()[0] == 50.3)\n",
    "assert(interaction_level_df.filter('user_id == 233044').select('user_avg_n_steps_recipes_reviewed').first()[0] == 8.8)\n",
    "assert(interaction_level_df.filter('user_id == 233044').select('user_avg_n_ingredients_recipes_reviewed').first()[0] == 8.2)\n",
    "assert(round(interaction_level_df.filter('user_id == 233044').select('user_avg_total_fat_per_100_cal_recipes_reviewed').first()[0]) == 6)"
   ]
  },
  {
   "cell_type": "markdown",
   "id": "7513b134",
   "metadata": {},
   "source": [
    "**More Features:**\n",
    "\n",
    "high_ratings = 5 rating\n",
    "\n",
    "- `user_avg_years_betwn_review_and_submission_high_ratings`\n",
    "- `user_avg_prep_time_recipes_reviewed_high_ratings`\n",
    "- `user_avg_n_steps_recipes_reviewed_high_ratings`\n",
    "- `user_avg_n_ingredients_recipes_reviewed_high_ratings`"
   ]
  },
  {
   "cell_type": "code",
   "execution_count": 17,
   "id": "fa15a2fb",
   "metadata": {},
   "outputs": [
    {
     "data": {
      "application/vnd.jupyter.widget-view+json": {
       "model_id": "af7bf38341da40ed854705b61358da85",
       "version_major": 2,
       "version_minor": 0
      },
      "text/plain": [
       "VBox()"
      ]
     },
     "metadata": {},
     "output_type": "display_data"
    },
    {
     "data": {
      "application/vnd.jupyter.widget-view+json": {
       "model_id": "",
       "version_major": 2,
       "version_minor": 0
      },
      "text/plain": [
       "FloatProgress(value=0.0, bar_style='info', description='Progress:', layout=Layout(height='25px', width='50%'),…"
      ]
     },
     "metadata": {},
     "output_type": "display_data"
    }
   ],
   "source": [
    "#from pyspark.sql.functions import when\n",
    "# Create indicator columns for highest ratings \n",
    "interaction_level_df = interaction_level_df.withColumn(\"ind_5_rating\",\n",
    "               when(col(\"rating\") ==5, \"1\").otherwise(\"0\"))\n",
    "\n"
   ]
  },
  {
   "cell_type": "code",
   "execution_count": 18,
   "id": "90f44d5f",
   "metadata": {},
   "outputs": [
    {
     "data": {
      "application/vnd.jupyter.widget-view+json": {
       "model_id": "be97356fc02d48bf88d299909937a960",
       "version_major": 2,
       "version_minor": 0
      },
      "text/plain": [
       "VBox()"
      ]
     },
     "metadata": {},
     "output_type": "display_data"
    },
    {
     "data": {
      "application/vnd.jupyter.widget-view+json": {
       "model_id": "",
       "version_major": 2,
       "version_minor": 0
      },
      "text/plain": [
       "FloatProgress(value=0.0, bar_style='info', description='Progress:', layout=Layout(height='25px', width='50%'),…"
      ]
     },
     "metadata": {},
     "output_type": "display_data"
    }
   ],
   "source": [
    "#user_n_5_ratings\n",
    "interaction_level_df = (\n",
    "                        interaction_level_df\n",
    "                        .withColumn(\"user_n_5_ratings\",\n",
    "                                    when(col(\"rating\") ==5, count(col(\"rating\")).over(userAvgRatingAgg)).otherwise(None))\n",
    "                       )"
   ]
  },
  {
   "cell_type": "code",
   "execution_count": 19,
   "id": "7227e607",
   "metadata": {},
   "outputs": [
    {
     "data": {
      "application/vnd.jupyter.widget-view+json": {
       "model_id": "604b8c33f2a2471cb6724a8fa8fd0256",
       "version_major": 2,
       "version_minor": 0
      },
      "text/plain": [
       "VBox()"
      ]
     },
     "metadata": {},
     "output_type": "display_data"
    },
    {
     "data": {
      "application/vnd.jupyter.widget-view+json": {
       "model_id": "",
       "version_major": 2,
       "version_minor": 0
      },
      "text/plain": [
       "FloatProgress(value=0.0, bar_style='info', description='Progress:', layout=Layout(height='25px', width='50%'),…"
      ]
     },
     "metadata": {},
     "output_type": "display_data"
    },
    {
     "name": "stdout",
     "output_type": "stream",
     "text": [
      "+-------+------+----------------+\n",
      "|user_id|rating|user_n_5_ratings|\n",
      "+-------+------+----------------+\n",
      "| 601529|     4|            null|\n",
      "| 601529|     5|              27|\n",
      "| 601529|     5|              27|\n",
      "| 601529|     3|            null|\n",
      "| 601529|     5|              27|\n",
      "+-------+------+----------------+\n",
      "only showing top 5 rows"
     ]
    }
   ],
   "source": [
    "interaction_level_df.filter('user_id == 601529').select('user_id',  'rating', 'user_n_5_ratings').show(5)"
   ]
  },
  {
   "cell_type": "code",
   "execution_count": 20,
   "id": "4daa41ba",
   "metadata": {},
   "outputs": [
    {
     "data": {
      "application/vnd.jupyter.widget-view+json": {
       "model_id": "59a15c1f5237435992f84edede001d41",
       "version_major": 2,
       "version_minor": 0
      },
      "text/plain": [
       "VBox()"
      ]
     },
     "metadata": {},
     "output_type": "display_data"
    },
    {
     "data": {
      "application/vnd.jupyter.widget-view+json": {
       "model_id": "",
       "version_major": 2,
       "version_minor": 0
      },
      "text/plain": [
       "FloatProgress(value=0.0, bar_style='info', description='Progress:', layout=Layout(height='25px', width='50%'),…"
      ]
     },
     "metadata": {},
     "output_type": "display_data"
    }
   ],
   "source": [
    "# Add columns mentioned above \n",
    "# hint explore window functions in pyspark.sql\n",
    "#user_avg_years_betwn_review_and_submission_5_ratings: double (nullable = true)\n",
    "interaction_level_df = (\n",
    "                        interaction_level_df\n",
    "                        .withColumn(\"user_avg_years_betwn_review_and_submission_5_ratings\",\n",
    "                        when(col(\"rating\") ==5, avg(col(\"years_since_submission_on_review_date\")).over(userAvgRatingAgg))\n",
    "                        .otherwise(None))\n",
    "                       )\n",
    "\n",
    "# `user_avg_prep_time_recipes_reviewed_high_ratings`\n",
    "#user_avg_prep_time_recipes_reviewed_5_ratings: double (nullable = true)\n",
    "interaction_level_df = (\n",
    "                        interaction_level_df\n",
    "                        .withColumn(\"user_avg_prep_time_recipes_reviewed_5_ratings\",\n",
    "                        when(col(\"rating\") ==5, avg(col(\"minutes\")).over(userAvgRatingAgg))\n",
    "                        .otherwise(None))\n",
    "                       )\n",
    "\n",
    "# user_avg_n_steps_recipes_reviewed: double (nullable = true)\n",
    "interaction_level_df = (\n",
    "                        interaction_level_df\n",
    "                        .withColumn(\"user_avg_n_steps_recipes_reviewed_5_ratings\",\n",
    "                        when(col(\"rating\") ==5, avg(col(\"n_steps\")).over(userAvgRatingAgg))\n",
    "                        .otherwise(None))\n",
    "                       )\n",
    "\n",
    "# user_avg_n_ingredients_recipes_reviewed: double (nullable = true)\n",
    "interaction_level_df = (\n",
    "                        interaction_level_df\n",
    "                        .withColumn(\"user_avg_n_ingredients_recipes_reviewed_5_ratings\",\n",
    "                        when(col(\"rating\") ==5, avg(col(\"n_ingredients\")).over(userAvgRatingAgg))\n",
    "                        .otherwise(None))\n",
    "                       )\n",
    "\n"
   ]
  },
  {
   "cell_type": "code",
   "execution_count": 21,
   "id": "67e879e1",
   "metadata": {},
   "outputs": [
    {
     "data": {
      "application/vnd.jupyter.widget-view+json": {
       "model_id": "597946ffef734306bff3280b8689f839",
       "version_major": 2,
       "version_minor": 0
      },
      "text/plain": [
       "VBox()"
      ]
     },
     "metadata": {},
     "output_type": "display_data"
    },
    {
     "data": {
      "application/vnd.jupyter.widget-view+json": {
       "model_id": "",
       "version_major": 2,
       "version_minor": 0
      },
      "text/plain": [
       "FloatProgress(value=0.0, bar_style='info', description='Progress:', layout=Layout(height='25px', width='50%'),…"
      ]
     },
     "metadata": {},
     "output_type": "display_data"
    }
   ],
   "source": [
    "#calories columns\n",
    "interaction_level_df = (\n",
    "                        interaction_level_df.\n",
    "                        withColumn(\"calories_5_ratings\",\n",
    "                                   when(col(\"rating\") ==5, col(\"calories\")).otherwise(None)\n",
    "                                  )\n",
    "                       )\n",
    "\n",
    "interaction_level_df = (\n",
    "                        interaction_level_df.\n",
    "                        withColumn(\"user_avg_calories_recipes_reviewed_5_ratings\",\n",
    "                                   when(col(\"rating\") ==5, avg(col(\"calories\")).over(userAvgRatingAgg)).otherwise(None)\n",
    "                                  )\n",
    "                       )\n",
    "#fat per 100 calories columns\n",
    "interaction_level_df = (\n",
    "                        interaction_level_df.\n",
    "                        withColumn(\"total_fat_per_100_cal_5_ratings\",\n",
    "                                   when(col(\"rating\") ==5, col(\"total_fat_per_100_cal\")).otherwise(None)\n",
    "                                  )\n",
    "                       )\n",
    "interaction_level_df = (\n",
    "                        interaction_level_df.\n",
    "                        withColumn(\"user_avg_total_fat_per_100_cal_recipes_reviewed_5_ratings\",\n",
    "                                   when(col(\"rating\") ==5, avg(col(\"total_fat_per_100_cal\"))\n",
    "                                        .over(userAvgRatingAgg)).otherwise(None)\n",
    "                                  )\n",
    "                       )\n",
    "\n",
    "# sugar per 100 calories columns\n",
    "interaction_level_df = (\n",
    "                        interaction_level_df.\n",
    "                        withColumn(\"sugar_per_100_cal_5_ratings\",\n",
    "                                   when(col(\"rating\") ==5, col(\"sugar_per_100_cal\")).otherwise(None)\n",
    "                                  )\n",
    "                       )\n",
    "interaction_level_df = (\n",
    "                        interaction_level_df.\n",
    "                        withColumn(\"user_avg_sugar_per_100_cal_recipes_reviewed_5_ratings\",\n",
    "                                   when(col(\"rating\") ==5, avg(col(\"sugar_per_100_cal\"))\n",
    "                                        .over(userAvgRatingAgg)).otherwise(None)\n",
    "                                  )\n",
    "                       )\n",
    "\n",
    "# sodium per 100 calories columns\n",
    "interaction_level_df = (\n",
    "                        interaction_level_df.\n",
    "                        withColumn(\"sodium_per_100_cal_5_ratings\",\n",
    "                                   when(col(\"rating\") ==5, col(\"sodium_per_100_cal\")).otherwise(None)\n",
    "                                  )\n",
    "                       )\n",
    "interaction_level_df = (\n",
    "                        interaction_level_df.\n",
    "                        withColumn(\"user_avg_sodium_per_100_cal_recipes_reviewed_5_ratings\",\n",
    "                                   when(col(\"rating\") ==5, avg(col(\"sodium_per_100_cal\"))\n",
    "                                        .over(userAvgRatingAgg)).otherwise(None)\n",
    "                                  )\n",
    "                       )\n",
    "\n",
    "# protein per 100 calories columns\n",
    "interaction_level_df = (\n",
    "                        interaction_level_df.\n",
    "                        withColumn(\"protein_per_100_cal_5_ratings\",\n",
    "                                   when(col(\"rating\") ==5, col(\"protein_per_100_cal\")).otherwise(None)\n",
    "                                  )\n",
    "                       )\n",
    "    \n",
    "    \n",
    "interaction_level_df = (\n",
    "                        interaction_level_df.\n",
    "                        withColumn(\"user_avg_protein_per_100_cal_recipes_reviewed_5_ratings\",\n",
    "                                   when(col(\"rating\") ==5, avg(col(\"protein_per_100_cal\"))\n",
    "                                        .over(userAvgRatingAgg)).otherwise(None)\n",
    "                                  )\n",
    "                       )\n",
    "\n",
    "# saturated_fat per 100 calories columns\n",
    "interaction_level_df = (\n",
    "                        interaction_level_df.\n",
    "                        withColumn(\"saturated_fat_per_100_cal_5_ratings\",\n",
    "                                   when(col(\"rating\") ==5, col(\"saturated_fat_per_100_cal\")).otherwise(None)\n",
    "                                  )\n",
    "                       )\n",
    "interaction_level_df = (\n",
    "                        interaction_level_df.\n",
    "                        withColumn(\"user_avg_saturated_fat_per_100_cal_recipes_reviewed_5_ratings\",\n",
    "                                   when(col(\"rating\") ==5, avg(col(\"saturated_fat_per_100_cal\"))\n",
    "                                        .over(userAvgRatingAgg)).otherwise(None)\n",
    "                                  )\n",
    "                       )\n",
    "\n",
    "# carbohydrates per 100 calories columns\n",
    "interaction_level_df = (\n",
    "                        interaction_level_df.\n",
    "                        withColumn(\"carbohydrates_per_100_cal_5_ratings\",\n",
    "                                   when(col(\"rating\") ==5, col(\"carbohydrates_per_100_cal\")).otherwise(None)\n",
    "                                  )\n",
    "                       )\n",
    "interaction_level_df = (\n",
    "                        interaction_level_df.\n",
    "                        withColumn(\"user_avg_carbohydrates_per_100_cal_recipes_reviewed_5_ratings\",\n",
    "                                   when(col(\"rating\") ==5, avg(col(\"carbohydrates_per_100_cal\"))\n",
    "                                        .over(userAvgRatingAgg)).otherwise(None)\n",
    "                                  )\n",
    "                       )"
   ]
  },
  {
   "cell_type": "code",
   "execution_count": 19,
   "id": "0e4ad430",
   "metadata": {},
   "outputs": [
    {
     "data": {
      "application/vnd.jupyter.widget-view+json": {
       "model_id": "b067d73fd9bf426098a529ceefd6f71e",
       "version_major": 2,
       "version_minor": 0
      },
      "text/plain": [
       "VBox()"
      ]
     },
     "metadata": {},
     "output_type": "display_data"
    },
    {
     "data": {
      "application/vnd.jupyter.widget-view+json": {
       "model_id": "",
       "version_major": 2,
       "version_minor": 0
      },
      "text/plain": [
       "FloatProgress(value=0.0, bar_style='info', description='Progress:', layout=Layout(height='25px', width='50%'),…"
      ]
     },
     "metadata": {},
     "output_type": "display_data"
    },
    {
     "name": "stdout",
     "output_type": "stream",
     "text": [
      "+-------+--------+------+------------------+\n",
      "|user_id|calories|rating|calories_5_ratings|\n",
      "+-------+--------+------+------------------+\n",
      "| 601529|   302.1|     4|              null|\n",
      "| 601529|   805.4|     5|             805.4|\n",
      "| 601529|   317.6|     5|             317.6|\n",
      "| 601529|   629.2|     3|              null|\n",
      "| 601529|    27.7|     5|              27.7|\n",
      "+-------+--------+------+------------------+\n",
      "only showing top 5 rows"
     ]
    }
   ],
   "source": [
    "interaction_level_df.filter('user_id == 601529').select('user_id', 'calories', 'rating', 'calories_5_ratings').show(5)"
   ]
  },
  {
   "cell_type": "code",
   "execution_count": 22,
   "id": "49be153d",
   "metadata": {},
   "outputs": [
    {
     "data": {
      "application/vnd.jupyter.widget-view+json": {
       "model_id": "c0d226478c7441cabf4550b7ad83157a",
       "version_major": 2,
       "version_minor": 0
      },
      "text/plain": [
       "VBox()"
      ]
     },
     "metadata": {},
     "output_type": "display_data"
    },
    {
     "data": {
      "application/vnd.jupyter.widget-view+json": {
       "model_id": "",
       "version_major": 2,
       "version_minor": 0
      },
      "text/plain": [
       "FloatProgress(value=0.0, bar_style='info', description='Progress:', layout=Layout(height='25px', width='50%'),…"
      ]
     },
     "metadata": {},
     "output_type": "display_data"
    },
    {
     "name": "stdout",
     "output_type": "stream",
     "text": [
      "1"
     ]
    }
   ],
   "source": [
    "# it is possible that you might have added null values in the dataframe as a result of this exercise. \n",
    "# Identify the null values and deal with them \n",
    "#from pyspark.sql.functions import col,isnan, when, count\n",
    "NewColumns = [\"user_n_5_ratings\", \n",
    "              \"user_avg_years_betwn_review_and_submission_5_ratings\",\n",
    "              \"user_avg_prep_time_recipes_reviewed_5_ratings\",\n",
    "              \"user_avg_n_steps_recipes_reviewed_5_ratings\",\n",
    "              \"user_avg_n_ingredients_recipes_reviewed_5_ratings\",\n",
    "              \"calories_5_ratings\",\n",
    "              \"user_avg_calories_recipes_reviewed_5_ratings\",\n",
    "              \"total_fat_per_100_cal_5_ratings\",\n",
    "              \"user_avg_total_fat_per_100_cal_recipes_reviewed_5_ratings\",\n",
    "              \"sugar_per_100_cal_5_ratings\",\n",
    "              \"user_avg_sugar_per_100_cal_recipes_reviewed_5_ratings\",\n",
    "              \"sodium_per_100_cal_5_ratings\",\n",
    "              \"user_avg_sodium_per_100_cal_recipes_reviewed_5_ratings\",\n",
    "              \"protein_per_100_cal_5_ratings\",\n",
    "              \"user_avg_protein_per_100_cal_recipes_reviewed_5_ratings\",\n",
    "              \"saturated_fat_per_100_cal_5_ratings\",\n",
    "              \"user_avg_saturated_fat_per_100_cal_recipes_reviewed_5_ratings\",\n",
    "              \"carbohydrates_per_100_cal_5_ratings\",\n",
    "              \"user_avg_carbohydrates_per_100_cal_recipes_reviewed_5_ratings\"\n",
    "             ]\n",
    "interaction_level_df.select([count(when(isnan(c) | col(c).isNull(), c)).alias(c) for c in NewColumns]\n",
    "   ).count()\n"
   ]
  },
  {
   "cell_type": "code",
   "execution_count": 23,
   "id": "07d753ab",
   "metadata": {},
   "outputs": [
    {
     "data": {
      "application/vnd.jupyter.widget-view+json": {
       "model_id": "23c7aef1cf0e40c7bd082de27aaba0a3",
       "version_major": 2,
       "version_minor": 0
      },
      "text/plain": [
       "VBox()"
      ]
     },
     "metadata": {},
     "output_type": "display_data"
    },
    {
     "data": {
      "application/vnd.jupyter.widget-view+json": {
       "model_id": "",
       "version_major": 2,
       "version_minor": 0
      },
      "text/plain": [
       "FloatProgress(value=0.0, bar_style='info', description='Progress:', layout=Layout(height='25px', width='50%'),…"
      ]
     },
     "metadata": {},
     "output_type": "display_data"
    }
   ],
   "source": [
    "#user_avg_5_ratings\n",
    "interaction_level_df = (\n",
    "                        interaction_level_df.\n",
    "                        withColumn(\"user_avg_5_ratings\",\n",
    "                                   when(col(\"rating\") ==5, avg(col(\"rating\"))\n",
    "                                        .over(userAvgRatingAgg))\n",
    "                                  )\n",
    "                       )"
   ]
  },
  {
   "cell_type": "code",
   "execution_count": 24,
   "id": "27ec5f9f",
   "metadata": {},
   "outputs": [
    {
     "data": {
      "application/vnd.jupyter.widget-view+json": {
       "model_id": "19aae4ca61e64caa9fa43656a934d35d",
       "version_major": 2,
       "version_minor": 0
      },
      "text/plain": [
       "VBox()"
      ]
     },
     "metadata": {},
     "output_type": "display_data"
    },
    {
     "data": {
      "application/vnd.jupyter.widget-view+json": {
       "model_id": "",
       "version_major": 2,
       "version_minor": 0
      },
      "text/plain": [
       "FloatProgress(value=0.0, bar_style='info', description='Progress:', layout=Layout(height='25px', width='50%'),…"
      ]
     },
     "metadata": {},
     "output_type": "display_data"
    },
    {
     "name": "stdout",
     "output_type": "stream",
     "text": [
      "313917"
     ]
    }
   ],
   "source": [
    "# Check - All rows with ratings should have non-null values in corresponding user_avg_5_ratings columns\n",
    "#interaction_level_df.filter(col(\"user_avg_5_ratings\").isNull()).select('rating','user_avg_5_ratings').show(5)\n",
    "interaction_level_df.filter(col(\"user_avg_5_ratings\").isNull()).count()\n"
   ]
  },
  {
   "cell_type": "code",
   "execution_count": 25,
   "id": "556a221d",
   "metadata": {},
   "outputs": [
    {
     "data": {
      "application/vnd.jupyter.widget-view+json": {
       "model_id": "69d14f37f77849ca975ab80dd1fe9f72",
       "version_major": 2,
       "version_minor": 0
      },
      "text/plain": [
       "VBox()"
      ]
     },
     "metadata": {},
     "output_type": "display_data"
    },
    {
     "data": {
      "application/vnd.jupyter.widget-view+json": {
       "model_id": "",
       "version_major": 2,
       "version_minor": 0
      },
      "text/plain": [
       "FloatProgress(value=0.0, bar_style='info', description='Progress:', layout=Layout(height='25px', width='50%'),…"
      ]
     },
     "metadata": {},
     "output_type": "display_data"
    },
    {
     "name": "stdout",
     "output_type": "stream",
     "text": [
      "+-------+------+------------------+\n",
      "|user_id|rating|user_avg_5_ratings|\n",
      "+-------+------+------------------+\n",
      "| 233044|     4|              null|\n",
      "| 233044|     5|               4.7|\n",
      "| 233044|     4|              null|\n",
      "| 233044|     5|               4.7|\n",
      "| 233044|     5|               4.7|\n",
      "| 233044|     5|               4.7|\n",
      "| 233044|     5|               4.7|\n",
      "| 233044|     4|              null|\n",
      "| 233044|     5|               4.7|\n",
      "| 233044|     5|               4.7|\n",
      "+-------+------+------------------+"
     ]
    }
   ],
   "source": [
    "interaction_level_df.filter('user_id == 233044').select('user_id', 'rating', 'user_avg_5_ratings').show()"
   ]
  },
  {
   "cell_type": "code",
   "execution_count": 31,
   "id": "94c6053f",
   "metadata": {},
   "outputs": [
    {
     "data": {
      "application/vnd.jupyter.widget-view+json": {
       "model_id": "daf441ceb586420392677dccc51c1b40",
       "version_major": 2,
       "version_minor": 0
      },
      "text/plain": [
       "VBox()"
      ]
     },
     "metadata": {},
     "output_type": "display_data"
    },
    {
     "data": {
      "application/vnd.jupyter.widget-view+json": {
       "model_id": "",
       "version_major": 2,
       "version_minor": 0
      },
      "text/plain": [
       "FloatProgress(value=0.0, bar_style='info', description='Progress:', layout=Layout(height='25px', width='50%'),…"
      ]
     },
     "metadata": {},
     "output_type": "display_data"
    },
    {
     "name": "stdout",
     "output_type": "stream",
     "text": [
      "10"
     ]
    }
   ],
   "source": [
    "interaction_level_df.filter('user_id == 233044').select('user_n_5_ratings').first()[0]"
   ]
  },
  {
   "cell_type": "code",
   "execution_count": 47,
   "id": "1e5ba964",
   "metadata": {},
   "outputs": [
    {
     "data": {
      "application/vnd.jupyter.widget-view+json": {
       "model_id": "2454e57395ce49fc9ec3219fadb06493",
       "version_major": 2,
       "version_minor": 0
      },
      "text/plain": [
       "VBox()"
      ]
     },
     "metadata": {},
     "output_type": "display_data"
    },
    {
     "data": {
      "application/vnd.jupyter.widget-view+json": {
       "model_id": "",
       "version_major": 2,
       "version_minor": 0
      },
      "text/plain": [
       "FloatProgress(value=0.0, bar_style='info', description='Progress:', layout=Layout(height='25px', width='50%'),…"
      ]
     },
     "metadata": {},
     "output_type": "display_data"
    },
    {
     "name": "stdout",
     "output_type": "stream",
     "text": [
      "+----------------+------+\n",
      "|user_n_5_ratings| count|\n",
      "+----------------+------+\n",
      "|              65|  1638|\n",
      "|             188|   426|\n",
      "|              94|   724|\n",
      "|             343|   279|\n",
      "|              25|  3605|\n",
      "|             124|   910|\n",
      "|             243|   831|\n",
      "|             385|   332|\n",
      "|             149|  1183|\n",
      "|             541|   930|\n",
      "|              77|  1133|\n",
      "|             181|   713|\n",
      "|             958|   618|\n",
      "|            1403|   728|\n",
      "|            1405|  1064|\n",
      "|             845|   710|\n",
      "|             902|   801|\n",
      "|             463|   371|\n",
      "|            2643|  1804|\n",
      "|             274|   341|\n",
      "|             474|   410|\n",
      "|            1174|   765|\n",
      "|            4623|  3713|\n",
      "|            1224|  1011|\n",
      "|            1452|   822|\n",
      "|             595|   445|\n",
      "|            null|313917|\n",
      "|              56|  1849|\n",
      "|             150|   805|\n",
      "|              79|   858|\n",
      "+----------------+------+\n",
      "only showing top 30 rows"
     ]
    }
   ],
   "source": [
    "interaction_level_df.groupby(\"user_n_5_ratings\").count().show(30)"
   ]
  },
  {
   "cell_type": "code",
   "execution_count": 54,
   "id": "9a586b3c",
   "metadata": {},
   "outputs": [
    {
     "data": {
      "application/vnd.jupyter.widget-view+json": {
       "model_id": "6c77660e8f8945f583c18514b3af73d6",
       "version_major": 2,
       "version_minor": 0
      },
      "text/plain": [
       "VBox()"
      ]
     },
     "metadata": {},
     "output_type": "display_data"
    },
    {
     "data": {
      "application/vnd.jupyter.widget-view+json": {
       "model_id": "",
       "version_major": 2,
       "version_minor": 0
      },
      "text/plain": [
       "FloatProgress(value=0.0, bar_style='info', description='Progress:', layout=Layout(height='25px', width='50%'),…"
      ]
     },
     "metadata": {},
     "output_type": "display_data"
    }
   ],
   "source": [
    "# taking a backup \n",
    "interaction_level_df_backup = interaction_level_df"
   ]
  },
  {
   "cell_type": "code",
   "execution_count": 55,
   "id": "42a2a1fa",
   "metadata": {},
   "outputs": [
    {
     "data": {
      "application/vnd.jupyter.widget-view+json": {
       "model_id": "307b035c74cb416c8e7077ca04400eb8",
       "version_major": 2,
       "version_minor": 0
      },
      "text/plain": [
       "VBox()"
      ]
     },
     "metadata": {},
     "output_type": "display_data"
    },
    {
     "data": {
      "application/vnd.jupyter.widget-view+json": {
       "model_id": "",
       "version_major": 2,
       "version_minor": 0
      },
      "text/plain": [
       "FloatProgress(value=0.0, bar_style='info', description='Progress:', layout=Layout(height='25px', width='50%'),…"
      ]
     },
     "metadata": {},
     "output_type": "display_data"
    }
   ],
   "source": [
    "interaction_level_df = interaction_level_df.filter(interaction_level_df.user_n_5_ratings.isNotNull())"
   ]
  },
  {
   "cell_type": "code",
   "execution_count": 56,
   "id": "f0d40fdd",
   "metadata": {},
   "outputs": [
    {
     "data": {
      "application/vnd.jupyter.widget-view+json": {
       "model_id": "633b7b9125c844e69327ed43446b0ded",
       "version_major": 2,
       "version_minor": 0
      },
      "text/plain": [
       "VBox()"
      ]
     },
     "metadata": {},
     "output_type": "display_data"
    },
    {
     "data": {
      "application/vnd.jupyter.widget-view+json": {
       "model_id": "",
       "version_major": 2,
       "version_minor": 0
      },
      "text/plain": [
       "FloatProgress(value=0.0, bar_style='info', description='Progress:', layout=Layout(height='25px', width='50%'),…"
      ]
     },
     "metadata": {},
     "output_type": "display_data"
    },
    {
     "name": "stdout",
     "output_type": "stream",
     "text": [
      "812692"
     ]
    }
   ],
   "source": [
    "interaction_level_df.count()"
   ]
  },
  {
   "cell_type": "code",
   "execution_count": 57,
   "id": "34bcdbfa",
   "metadata": {},
   "outputs": [
    {
     "data": {
      "application/vnd.jupyter.widget-view+json": {
       "model_id": "f6dad497757d48ee9891f348bd69127b",
       "version_major": 2,
       "version_minor": 0
      },
      "text/plain": [
       "VBox()"
      ]
     },
     "metadata": {},
     "output_type": "display_data"
    },
    {
     "data": {
      "application/vnd.jupyter.widget-view+json": {
       "model_id": "",
       "version_major": 2,
       "version_minor": 0
      },
      "text/plain": [
       "FloatProgress(value=0.0, bar_style='info', description='Progress:', layout=Layout(height='25px', width='50%'),…"
      ]
     },
     "metadata": {},
     "output_type": "display_data"
    },
    {
     "name": "stderr",
     "output_type": "stream",
     "text": [
      "An error was encountered:\n",
      "\n",
      "Traceback (most recent call last):\n",
      "AssertionError\n",
      "\n"
     ]
    }
   ],
   "source": [
    "# Check values for a given user id\n",
    "\n",
    "assert(interaction_level_df.filter('user_id == 233044').select('user_n_5_ratings').first()[0] == 7 )\n",
    "assert(round(interaction_level_df.filter('user_id == 233044').select('user_avg_years_betwn_review_and_submission_5_ratings').first()[0], 2) == 2.24 )\n",
    "assert(round(interaction_level_df.filter('user_id == 233044').select('user_avg_prep_time_recipes_reviewed_5_ratings').first()[0]) == 46)\n",
    "assert(round(interaction_level_df.filter('user_id == 233044').select('user_avg_n_steps_recipes_reviewed_5_ratings').first()[0], 2) == 7.29)\n",
    "assert(round(interaction_level_df.filter('user_id == 233044').select('user_avg_n_ingredients_recipes_reviewed_5_ratings').first()[0], 2) == 6.86)"
   ]
  },
  {
   "cell_type": "code",
   "execution_count": 52,
   "id": "fb9997d8",
   "metadata": {},
   "outputs": [
    {
     "data": {
      "application/vnd.jupyter.widget-view+json": {
       "model_id": "b8638c22f38445548a6ff31e5f47d0fd",
       "version_major": 2,
       "version_minor": 0
      },
      "text/plain": [
       "VBox()"
      ]
     },
     "metadata": {},
     "output_type": "display_data"
    },
    {
     "data": {
      "application/vnd.jupyter.widget-view+json": {
       "model_id": "",
       "version_major": 2,
       "version_minor": 0
      },
      "text/plain": [
       "FloatProgress(value=0.0, bar_style='info', description='Progress:', layout=Layout(height='25px', width='50%'),…"
      ]
     },
     "metadata": {},
     "output_type": "display_data"
    },
    {
     "name": "stdout",
     "output_type": "stream",
     "text": [
      "+----------------+\n",
      "|user_n_5_ratings|\n",
      "+----------------+\n",
      "|              10|\n",
      "|            null|\n",
      "|              10|\n",
      "|              10|\n",
      "|            null|\n",
      "|              10|\n",
      "|            null|\n",
      "|              10|\n",
      "|              10|\n",
      "|              10|\n",
      "+----------------+"
     ]
    }
   ],
   "source": [
    "interaction_level_df.filter('user_id == 233044').select('user_n_5_ratings').show()"
   ]
  },
  {
   "cell_type": "code",
   "execution_count": 38,
   "id": "db973493",
   "metadata": {},
   "outputs": [
    {
     "data": {
      "application/vnd.jupyter.widget-view+json": {
       "model_id": "588bb78069194de2b89cf9c8d206169c",
       "version_major": 2,
       "version_minor": 0
      },
      "text/plain": [
       "VBox()"
      ]
     },
     "metadata": {},
     "output_type": "display_data"
    },
    {
     "data": {
      "application/vnd.jupyter.widget-view+json": {
       "model_id": "",
       "version_major": 2,
       "version_minor": 0
      },
      "text/plain": [
       "FloatProgress(value=0.0, bar_style='info', description='Progress:', layout=Layout(height='25px', width='50%'),…"
      ]
     },
     "metadata": {},
     "output_type": "display_data"
    },
    {
     "name": "stdout",
     "output_type": "stream",
     "text": [
      "+----------------------------------------------------+\n",
      "|user_avg_years_betwn_review_and_submission_5_ratings|\n",
      "+----------------------------------------------------+\n",
      "|                                                null|\n",
      "|                                  1.7368279569999998|\n",
      "|                                  1.7368279569999998|\n",
      "|                                                null|\n",
      "|                                  1.7368279569999998|\n",
      "|                                  1.7368279569999998|\n",
      "|                                                null|\n",
      "|                                  1.7368279569999998|\n",
      "|                                  1.7368279569999998|\n",
      "|                                  1.7368279569999998|\n",
      "+----------------------------------------------------+"
     ]
    }
   ],
   "source": [
    "interaction_level_df.filter('user_id == 233044').select('user_avg_years_betwn_review_and_submission_5_ratings').show()"
   ]
  },
  {
   "cell_type": "code",
   "execution_count": 58,
   "id": "aeb206ba",
   "metadata": {},
   "outputs": [
    {
     "data": {
      "application/vnd.jupyter.widget-view+json": {
       "model_id": "a8b8e8eb4f864455ac1d8b63884c7bd0",
       "version_major": 2,
       "version_minor": 0
      },
      "text/plain": [
       "VBox()"
      ]
     },
     "metadata": {},
     "output_type": "display_data"
    },
    {
     "data": {
      "application/vnd.jupyter.widget-view+json": {
       "model_id": "",
       "version_major": 2,
       "version_minor": 0
      },
      "text/plain": [
       "FloatProgress(value=0.0, bar_style='info', description='Progress:', layout=Layout(height='25px', width='50%'),…"
      ]
     },
     "metadata": {},
     "output_type": "display_data"
    }
   ],
   "source": [
    "# years_since_submission_on_review_date_5_ratings\n",
    "interaction_level_df = (\n",
    "                        interaction_level_df.\n",
    "                        withColumn(\"years_since_submission_on_review_date_5_ratings\",\n",
    "                                   when(col(\"rating\") ==5, col(\"years_since_submission_on_review_date\")).otherwise(None)\n",
    "                                  )\n",
    "                       )\n",
    "#minutes_5_ratings\n",
    "interaction_level_df = (\n",
    "                        interaction_level_df.\n",
    "                        withColumn(\"minutes_5_ratings\",\n",
    "                                   when(col(\"rating\") ==5, col(\"minutes\")).otherwise(None)\n",
    "                                  )\n",
    "                       )\n",
    "\n",
    "#n_steps_5_ratings\n",
    "interaction_level_df = (\n",
    "                        interaction_level_df.\n",
    "                        withColumn(\"n_steps_5_ratings\",\n",
    "                                   when(col(\"rating\") ==5, col(\"n_steps\")).otherwise(None)\n",
    "                                  )\n",
    "                       )\n",
    "\n",
    "#n_ingredients_5_ratings\n",
    "interaction_level_df = (\n",
    "                        interaction_level_df.\n",
    "                        withColumn(\"n_ingredients_5_ratings\",\n",
    "                                   when(col(\"rating\") ==5, col(\"n_ingredients\")).otherwise(None)\n",
    "                                  )\n",
    "                       )"
   ]
  },
  {
   "cell_type": "code",
   "execution_count": 42,
   "id": "1b122a38",
   "metadata": {},
   "outputs": [
    {
     "data": {
      "application/vnd.jupyter.widget-view+json": {
       "model_id": "d60660df64d049e5ac8893b2ed04ae97",
       "version_major": 2,
       "version_minor": 0
      },
      "text/plain": [
       "VBox()"
      ]
     },
     "metadata": {},
     "output_type": "display_data"
    },
    {
     "data": {
      "application/vnd.jupyter.widget-view+json": {
       "model_id": "",
       "version_major": 2,
       "version_minor": 0
      },
      "text/plain": [
       "FloatProgress(value=0.0, bar_style='info', description='Progress:', layout=Layout(height='25px', width='50%'),…"
      ]
     },
     "metadata": {},
     "output_type": "display_data"
    },
    {
     "name": "stdout",
     "output_type": "stream",
     "text": [
      "root\n",
      " |-- user_id: integer (nullable = true)\n",
      " |-- recipe_id: integer (nullable = true)\n",
      " |-- rating: integer (nullable = true)\n",
      " |-- review: string (nullable = true)\n",
      " |-- review_date: date (nullable = true)\n",
      " |-- name: string (nullable = true)\n",
      " |-- id: integer (nullable = true)\n",
      " |-- minutes: integer (nullable = true)\n",
      " |-- contributor_id: integer (nullable = true)\n",
      " |-- submitted: date (nullable = true)\n",
      " |-- tags: array (nullable = true)\n",
      " |    |-- element: string (containsNull = true)\n",
      " |-- nutrition: array (nullable = true)\n",
      " |    |-- element: string (containsNull = true)\n",
      " |-- n_steps: integer (nullable = true)\n",
      " |-- steps: string (nullable = true)\n",
      " |-- description: string (nullable = true)\n",
      " |-- ingredients: string (nullable = true)\n",
      " |-- n_ingredients: integer (nullable = true)\n",
      " |-- calories: float (nullable = true)\n",
      " |-- total_fat_PDV: float (nullable = true)\n",
      " |-- sugar_PDV: float (nullable = true)\n",
      " |-- sodium_PDV: float (nullable = true)\n",
      " |-- protein_PDV: float (nullable = true)\n",
      " |-- saturated_fat_PDV: float (nullable = true)\n",
      " |-- carbohydrates_PDV: float (nullable = true)\n",
      " |-- total_fat_per_100_cal: double (nullable = true)\n",
      " |-- sugar_per_100_cal: double (nullable = true)\n",
      " |-- sodium_per_100_cal: double (nullable = true)\n",
      " |-- protein_per_100_cal: double (nullable = true)\n",
      " |-- saturated_fat_per_100_cal: double (nullable = true)\n",
      " |-- carbohydrates_per_100_cal: double (nullable = true)\n",
      " |-- days_since_submission_on_review_date: integer (nullable = true)\n",
      " |-- months_since_submission_on_review_date: double (nullable = true)\n",
      " |-- years_since_submission_on_review_date: double (nullable = true)\n",
      " |-- years_since_submission_on_review_date_bucket: double (nullable = true)\n",
      " |-- prep_time_bucket: double (nullable = true)\n",
      " |-- n_steps_bucket: double (nullable = true)\n",
      " |-- n_ingredients_bucket: double (nullable = true)\n",
      " |-- calories_bucket: double (nullable = true)\n",
      " |-- total_fat_PDV_bucket: double (nullable = true)\n",
      " |-- sugar_PDV_bucket: double (nullable = true)\n",
      " |-- sodium_PDV_bucket: double (nullable = true)\n",
      " |-- protein_PDV_bucket: double (nullable = true)\n",
      " |-- saturated_fat_PDV_bucket: double (nullable = true)\n",
      " |-- carbohydrates_PDV_bucket: double (nullable = true)\n",
      " |-- total_fat_per_100_cal_bucket: double (nullable = true)\n",
      " |-- sugar_per_100_cal_bucket: double (nullable = true)\n",
      " |-- sodium_per_100_cal_bucket: double (nullable = true)\n",
      " |-- protein_per_100_cal_bucket: double (nullable = true)\n",
      " |-- saturated_fat_per_100_cal_bucket: double (nullable = true)\n",
      " |-- carbohydrates_per_100_cal_bucket: double (nullable = true)\n",
      " |-- user_avg_rating: double (nullable = true)\n",
      " |-- user_n_ratings: long (nullable = false)\n",
      " |-- user_avg_years_betwn_review_and_submission: double (nullable = true)\n",
      " |-- user_avg_prep_time_recipes_reviewed: double (nullable = true)\n",
      " |-- user_avg_n_steps_recipes_reviewed: double (nullable = true)\n",
      " |-- user_avg_n_ingredients_recipes_reviewed: double (nullable = true)\n",
      " |-- user_avg_calories: double (nullable = true)\n",
      " |-- user_avg_total_fat_per_100_cal_recipes_reviewed: double (nullable = true)\n",
      " |-- user_avg_sugar_per_100_cal_recipes_reviewed: double (nullable = true)\n",
      " |-- user_avg_sodium_per_100_cal_recipes_reviewed: double (nullable = true)\n",
      " |-- user_avg_protein_per_100_cal_recipes_reviewed: double (nullable = true)\n",
      " |-- user_avg_saturated_fat_per_100_cal_recipes_reviewed: double (nullable = true)\n",
      " |-- user_avg_carbohydrates_per_100_cal_recipes_reviewed: double (nullable = true)\n",
      " |-- ind_5_rating: string (nullable = false)\n",
      " |-- user_n_5_ratings: long (nullable = true)\n",
      " |-- user_avg_years_betwn_review_and_submission_5_ratings: double (nullable = true)\n",
      " |-- user_avg_prep_time_recipes_reviewed_5_ratings: double (nullable = true)\n",
      " |-- user_avg_n_steps_recipes_reviewed_5_ratings: double (nullable = true)\n",
      " |-- user_avg_n_ingredients_recipes_reviewed_5_ratings: double (nullable = true)\n",
      " |-- calories_5_ratings: float (nullable = true)\n",
      " |-- user_avg_calories_recipes_reviewed_5_ratings: double (nullable = true)\n",
      " |-- total_fat_per_100_cal_5_ratings: double (nullable = true)\n",
      " |-- user_avg_total_fat_per_100_cal_recipes_reviewed_5_ratings: double (nullable = true)\n",
      " |-- sugar_per_100_cal_5_ratings: double (nullable = true)\n",
      " |-- user_avg_sugar_per_100_cal_recipes_reviewed_5_ratings: double (nullable = true)\n",
      " |-- sodium_per_100_cal_5_ratings: double (nullable = true)\n",
      " |-- user_avg_sodium_per_100_cal_recipes_reviewed_5_ratings: double (nullable = true)\n",
      " |-- protein_per_100_cal_5_ratings: double (nullable = true)\n",
      " |-- user_avg_protein_per_100_cal_recipes_reviewed_5_ratings: double (nullable = true)\n",
      " |-- saturated_fat_per_100_cal_5_ratings: double (nullable = true)\n",
      " |-- user_avg_saturated_fat_per_100_cal_recipes_reviewed_5_ratings: double (nullable = true)\n",
      " |-- carbohydrates_per_100_cal_5_ratings: double (nullable = true)\n",
      " |-- user_avg_carbohydrates_per_100_cal_recipes_reviewed_5_ratings: double (nullable = true)\n",
      " |-- user_avg_5_ratings: double (nullable = true)\n",
      " |-- years_since_submission_on_review_date_5_ratings: double (nullable = true)\n",
      " |-- minutes_5_ratings: integer (nullable = true)\n",
      " |-- n_steps_5_ratings: integer (nullable = true)\n",
      " |-- n_ingredients_5_ratings: integer (nullable = true)"
     ]
    }
   ],
   "source": [
    "interaction_level_df.printSchema()"
   ]
  },
  {
   "cell_type": "markdown",
   "id": "d947f240",
   "metadata": {},
   "source": [
    "## Tags level EDA"
   ]
  },
  {
   "cell_type": "code",
   "execution_count": 81,
   "id": "c0537107",
   "metadata": {},
   "outputs": [
    {
     "data": {
      "application/vnd.jupyter.widget-view+json": {
       "model_id": "ad7f945d36f941a9a6b1507d04bf492c",
       "version_major": 2,
       "version_minor": 0
      },
      "text/plain": [
       "VBox()"
      ]
     },
     "metadata": {},
     "output_type": "display_data"
    },
    {
     "data": {
      "application/vnd.jupyter.widget-view+json": {
       "model_id": "",
       "version_major": 2,
       "version_minor": 0
      },
      "text/plain": [
       "FloatProgress(value=0.0, bar_style='info', description='Progress:', layout=Layout(height='25px', width='50%'),…"
      ]
     },
     "metadata": {},
     "output_type": "display_data"
    }
   ],
   "source": [
    "interaction_tag_level_df = interaction_level_df.withColumn('individual_tag',F.explode('tags'))"
   ]
  },
  {
   "cell_type": "code",
   "execution_count": 82,
   "id": "f82ba22c",
   "metadata": {},
   "outputs": [
    {
     "data": {
      "application/vnd.jupyter.widget-view+json": {
       "model_id": "af23ba0cee6849d3a2089d90656a34af",
       "version_major": 2,
       "version_minor": 0
      },
      "text/plain": [
       "VBox()"
      ]
     },
     "metadata": {},
     "output_type": "display_data"
    },
    {
     "data": {
      "application/vnd.jupyter.widget-view+json": {
       "model_id": "",
       "version_major": 2,
       "version_minor": 0
      },
      "text/plain": [
       "FloatProgress(value=0.0, bar_style='info', description='Progress:', layout=Layout(height='25px', width='50%'),…"
      ]
     },
     "metadata": {},
     "output_type": "display_data"
    },
    {
     "name": "stdout",
     "output_type": "stream",
     "text": [
      "15835883"
     ]
    }
   ],
   "source": [
    "interaction_tag_level_df.count()"
   ]
  },
  {
   "cell_type": "code",
   "execution_count": 83,
   "id": "a15d9938",
   "metadata": {},
   "outputs": [
    {
     "data": {
      "application/vnd.jupyter.widget-view+json": {
       "model_id": "71b530ccc5f54bc6ba30375d77ae1e50",
       "version_major": 2,
       "version_minor": 0
      },
      "text/plain": [
       "VBox()"
      ]
     },
     "metadata": {},
     "output_type": "display_data"
    },
    {
     "data": {
      "application/vnd.jupyter.widget-view+json": {
       "model_id": "",
       "version_major": 2,
       "version_minor": 0
      },
      "text/plain": [
       "FloatProgress(value=0.0, bar_style='info', description='Progress:', layout=Layout(height='25px', width='50%'),…"
      ]
     },
     "metadata": {},
     "output_type": "display_data"
    }
   ],
   "source": [
    "tags_ratings_summary = (interaction_tag_level_df\n",
    "                        .groupBy('individual_tag').agg(F.avg('rating').alias('avg_user_rating'),\n",
    "#                                                      F.max('rating').alias('max_user_rating'),\n",
    "#                                                      F.min('rating').alias('min_user_rating'),\n",
    "                                                       F.count('rating').alias('n_user_ratings'),\n",
    "                                                       F.countDistinct('id').alias('n_recipes')))"
   ]
  },
  {
   "cell_type": "code",
   "execution_count": 84,
   "id": "1aea4dfa",
   "metadata": {
    "scrolled": true
   },
   "outputs": [
    {
     "data": {
      "application/vnd.jupyter.widget-view+json": {
       "model_id": "31e935e31ddd4ed9b2aeecf858428be6",
       "version_major": 2,
       "version_minor": 0
      },
      "text/plain": [
       "VBox()"
      ]
     },
     "metadata": {},
     "output_type": "display_data"
    },
    {
     "data": {
      "application/vnd.jupyter.widget-view+json": {
       "model_id": "",
       "version_major": 2,
       "version_minor": 0
      },
      "text/plain": [
       "FloatProgress(value=0.0, bar_style='info', description='Progress:', layout=Layout(height='25px', width='50%'),…"
      ]
     },
     "metadata": {},
     "output_type": "display_data"
    }
   ],
   "source": [
    "interactions, recipes  =  interaction_level_df.count(), interaction_level_df.agg(F.countDistinct('id')).first()[0]\n",
    "\n",
    "tags_ratings_summary = (tags_ratings_summary.withColumn(\"in_percent_recipies\", F.col (\"n_recipes\")/F.lit(recipes))\n",
    "                                            .withColumn(\"in_percent_interactions\", F.col (\"n_user_ratings\")/F.lit(interactions)))"
   ]
  },
  {
   "cell_type": "markdown",
   "id": "3b73f1b2",
   "metadata": {},
   "source": [
    "#### 1. Top ```n``` most rated tags"
   ]
  },
  {
   "cell_type": "code",
   "execution_count": 85,
   "id": "8969bb9a",
   "metadata": {},
   "outputs": [
    {
     "data": {
      "application/vnd.jupyter.widget-view+json": {
       "model_id": "a8e5171526884621b18976c05237532b",
       "version_major": 2,
       "version_minor": 0
      },
      "text/plain": [
       "VBox()"
      ]
     },
     "metadata": {},
     "output_type": "display_data"
    },
    {
     "data": {
      "application/vnd.jupyter.widget-view+json": {
       "model_id": "",
       "version_major": 2,
       "version_minor": 0
      },
      "text/plain": [
       "FloatProgress(value=0.0, bar_style='info', description='Progress:', layout=Layout(height='25px', width='50%'),…"
      ]
     },
     "metadata": {},
     "output_type": "display_data"
    },
    {
     "name": "stdout",
     "output_type": "stream",
     "text": [
      "+------------------+---------------+--------------+---------+-------------------+-----------------------+\n",
      "|    individual_tag|avg_user_rating|n_user_ratings|n_recipes|in_percent_recipies|in_percent_interactions|\n",
      "+------------------+---------------+--------------+---------+-------------------+-----------------------+\n",
      "|       preparation|            5.0|        810285|   185097| 0.9954020392359318|     0.9970382383485995|\n",
      "|      time-to-make|            5.0|        798141|   181097| 0.9738911116847359|     0.9820953079395393|\n",
      "|            course|            5.0|        773348|   175424| 0.9433832386852521|     0.9515880554995004|\n",
      "|           dietary|            5.0|        649209|   133067| 0.7155986491137498|      0.798837690047398|\n",
      "|   main-ingredient|            5.0|        621532|   137143| 0.7375182842884185|     0.7647817377308993|\n",
      "|              easy|            5.0|        454804|   102007| 0.5485662966787128|     0.5596265251780502|\n",
      "|          occasion|            5.0|        450511|    92937|0.49979026845637586|     0.5543440811525153|\n",
      "|         equipment|            5.0|        357528|    57317| 0.3082354586129754|     0.4399305025766219|\n",
      "|           cuisine|            5.0|        346353|    73936|  0.397607984856307|    0.42617990579456916|\n",
      "|  low-in-something|            5.0|        320970|    69141| 0.3718217604543108|    0.39494667106357634|\n",
      "|         main-dish|            5.0|        268089|    56543|  0.304073094131819|     0.3298777396602895|\n",
      "|number-of-servings|            5.0|        248105|    47769|0.25688887454827053|    0.30528785813075554|\n",
      "|60-minutes-or-less|            5.0|        244509|    55778| 0.2999591292376527|     0.3008630575913138|\n",
      "|              meat|            5.0|        225611|    44645|0.24008884013078644|    0.27760947566851896|\n",
      "|        taste-mood|            5.0|        224446|    42637|0.22929035450008603|     0.2761759682634996|\n",
      "|    north-american|            5.0|        205357|    39541|0.21264089657546034|     0.2526873649549891|\n",
      "|30-minutes-or-less|            5.0|        191882|    44415|0.23885196179659268|    0.23610666771667496|\n",
      "|        vegetables|            5.0|        187035|    43344|0.23309241094475994|    0.23014253862471884|\n",
      "|              oven|            5.0|        180351|    25247| 0.1357715969712614|    0.22191802060313132|\n",
      "|   4-hours-or-less|            5.0|        180217|    39771| 0.2138777749096541|     0.2217531364895926|\n",
      "+------------------+---------------+--------------+---------+-------------------+-----------------------+\n",
      "only showing top 20 rows"
     ]
    }
   ],
   "source": [
    "tags_ratings_summary.sort(tags_ratings_summary.n_user_ratings.desc()).show(20)"
   ]
  },
  {
   "cell_type": "markdown",
   "id": "44d3b60e",
   "metadata": {},
   "source": [
    "Drop tags present in majority of recipes more than 75% rows "
   ]
  },
  {
   "cell_type": "code",
   "execution_count": 86,
   "id": "a8601fb8",
   "metadata": {},
   "outputs": [
    {
     "data": {
      "application/vnd.jupyter.widget-view+json": {
       "model_id": "2d2da9121d314153838c4deede621f83",
       "version_major": 2,
       "version_minor": 0
      },
      "text/plain": [
       "VBox()"
      ]
     },
     "metadata": {},
     "output_type": "display_data"
    },
    {
     "data": {
      "application/vnd.jupyter.widget-view+json": {
       "model_id": "",
       "version_major": 2,
       "version_minor": 0
      },
      "text/plain": [
       "FloatProgress(value=0.0, bar_style='info', description='Progress:', layout=Layout(height='25px', width='50%'),…"
      ]
     },
     "metadata": {},
     "output_type": "display_data"
    }
   ],
   "source": [
    "tags_ratings_summary_1 = tags_ratings_summary.filter('in_percent_interactions <= 0.75')"
   ]
  },
  {
   "cell_type": "code",
   "execution_count": 95,
   "id": "0b93374f",
   "metadata": {},
   "outputs": [
    {
     "data": {
      "application/vnd.jupyter.widget-view+json": {
       "model_id": "bf347a72cd444586be834d89947ca87a",
       "version_major": 2,
       "version_minor": 0
      },
      "text/plain": [
       "VBox()"
      ]
     },
     "metadata": {},
     "output_type": "display_data"
    },
    {
     "data": {
      "application/vnd.jupyter.widget-view+json": {
       "model_id": "",
       "version_major": 2,
       "version_minor": 0
      },
      "text/plain": [
       "FloatProgress(value=0.0, bar_style='info', description='Progress:', layout=Layout(height='25px', width='50%'),…"
      ]
     },
     "metadata": {},
     "output_type": "display_data"
    },
    {
     "name": "stdout",
     "output_type": "stream",
     "text": [
      "527"
     ]
    }
   ],
   "source": [
    "tags_ratings_summary_1.count()"
   ]
  },
  {
   "cell_type": "code",
   "execution_count": 96,
   "id": "770f1338",
   "metadata": {},
   "outputs": [
    {
     "data": {
      "application/vnd.jupyter.widget-view+json": {
       "model_id": "9e2c7e5e0d3444509bc240182937ad7a",
       "version_major": 2,
       "version_minor": 0
      },
      "text/plain": [
       "VBox()"
      ]
     },
     "metadata": {},
     "output_type": "display_data"
    },
    {
     "data": {
      "application/vnd.jupyter.widget-view+json": {
       "model_id": "",
       "version_major": 2,
       "version_minor": 0
      },
      "text/plain": [
       "FloatProgress(value=0.0, bar_style='info', description='Progress:', layout=Layout(height='25px', width='50%'),…"
      ]
     },
     "metadata": {},
     "output_type": "display_data"
    }
   ],
   "source": [
    "Percentlile95th = 527 * 0.95"
   ]
  },
  {
   "cell_type": "code",
   "execution_count": 97,
   "id": "12814858",
   "metadata": {},
   "outputs": [
    {
     "data": {
      "application/vnd.jupyter.widget-view+json": {
       "model_id": "971d08ae053a4305856623536aaa8e3f",
       "version_major": 2,
       "version_minor": 0
      },
      "text/plain": [
       "VBox()"
      ]
     },
     "metadata": {},
     "output_type": "display_data"
    },
    {
     "data": {
      "application/vnd.jupyter.widget-view+json": {
       "model_id": "",
       "version_major": 2,
       "version_minor": 0
      },
      "text/plain": [
       "FloatProgress(value=0.0, bar_style='info', description='Progress:', layout=Layout(height='25px', width='50%'),…"
      ]
     },
     "metadata": {},
     "output_type": "display_data"
    },
    {
     "name": "stdout",
     "output_type": "stream",
     "text": [
      "500.65"
     ]
    }
   ],
   "source": [
    "Percentlile95th"
   ]
  },
  {
   "cell_type": "code",
   "execution_count": 94,
   "id": "882b231b",
   "metadata": {},
   "outputs": [
    {
     "data": {
      "application/vnd.jupyter.widget-view+json": {
       "model_id": "543052233430460988f45a277c85142e",
       "version_major": 2,
       "version_minor": 0
      },
      "text/plain": [
       "VBox()"
      ]
     },
     "metadata": {},
     "output_type": "display_data"
    },
    {
     "data": {
      "application/vnd.jupyter.widget-view+json": {
       "model_id": "",
       "version_major": 2,
       "version_minor": 0
      },
      "text/plain": [
       "FloatProgress(value=0.0, bar_style='info', description='Progress:', layout=Layout(height='25px', width='50%'),…"
      ]
     },
     "metadata": {},
     "output_type": "display_data"
    },
    {
     "name": "stdout",
     "output_type": "stream",
     "text": [
      "+------------------+---------------+--------------+---------+-------------------+-----------------------+\n",
      "|    individual_tag|avg_user_rating|n_user_ratings|n_recipes|in_percent_recipies|in_percent_interactions|\n",
      "+------------------+---------------+--------------+---------+-------------------+-----------------------+\n",
      "|              easy|            5.0|        454804|   102007| 0.5485662966787128|     0.5596265251780502|\n",
      "|          occasion|            5.0|        450511|    92937|0.49979026845637586|     0.5543440811525153|\n",
      "|         equipment|            5.0|        357528|    57317| 0.3082354586129754|     0.4399305025766219|\n",
      "|           cuisine|            5.0|        346353|    73936|  0.397607984856307|    0.42617990579456916|\n",
      "|  low-in-something|            5.0|        320970|    69141| 0.3718217604543108|    0.39494667106357634|\n",
      "|         main-dish|            5.0|        268089|    56543|  0.304073094131819|     0.3298777396602895|\n",
      "|number-of-servings|            5.0|        248105|    47769|0.25688887454827053|    0.30528785813075554|\n",
      "|60-minutes-or-less|            5.0|        244509|    55778| 0.2999591292376527|     0.3008630575913138|\n",
      "|              meat|            5.0|        225611|    44645|0.24008884013078644|    0.27760947566851896|\n",
      "|        taste-mood|            5.0|        224446|    42637|0.22929035450008603|     0.2761759682634996|\n",
      "|    north-american|            5.0|        205357|    39541|0.21264089657546034|     0.2526873649549891|\n",
      "|30-minutes-or-less|            5.0|        191882|    44415|0.23885196179659268|    0.23610666771667496|\n",
      "|        vegetables|            5.0|        187035|    43344|0.23309241094475994|    0.23014253862471884|\n",
      "|              oven|            5.0|        180351|    25247| 0.1357715969712614|    0.22191802060313132|\n",
      "|   4-hours-or-less|            5.0|        180217|    39771| 0.2138777749096541|     0.2217531364895926|\n",
      "|          low-carb|            5.0|        165846|    34156|0.18368181035966272|    0.20406993055179576|\n",
      "|     holiday-event|            5.0|        152044|    29059| 0.1562715109275512|     0.1870868668573088|\n",
      "|      dinner-party|            5.0|        147071|    31026|0.16684950955085184|    0.18096769747948793|\n",
      "|          desserts|            5.0|        146378|    34569| 0.1859028136293237|    0.18011497590723177|\n",
      "|15-minutes-or-less|            5.0|        146079|    35520|0.19101703665462055|    0.17974706284791778|\n",
      "|           healthy|            5.0|        142222|    31844| 0.1712484942350714|     0.1750011074306133|\n",
      "|          american|            5.0|        140404|    25449| 0.1368578988125968|    0.17276409759170755|\n",
      "|        low-sodium|            5.0|        139823|    34698|0.18659654104284976|    0.17204918960688675|\n",
      "|     beginner-cook|            5.0|        137816|    29008|0.15599724660127345|    0.16957961933918383|\n",
      "|   low-cholesterol|            5.0|        134665|    29428|0.15825589399414902|     0.1657023817141057|\n",
      "|       low-calorie|            5.0|        133168|    29231|0.15719648081225263|     0.1638603554606173|\n",
      "|      comfort-food|            5.0|        132171|    21301|0.11455106694200654|    0.16263356843675095|\n",
      "|      kid-friendly|            5.0|        131473|    22314|0.11999870934434693|    0.16177469447219858|\n",
      "|       inexpensive|            5.0|        130206|    26029|0.13997698330752023|     0.1602156782643363|\n",
      "+------------------+---------------+--------------+---------+-------------------+-----------------------+\n",
      "only showing top 29 rows"
     ]
    }
   ],
   "source": [
    "tags_ratings_summary_1.sort(tags_ratings_summary_1.in_percent_interactions.desc()).show(29)"
   ]
  },
  {
   "cell_type": "code",
   "execution_count": 103,
   "id": "8e400b5e",
   "metadata": {},
   "outputs": [
    {
     "data": {
      "application/vnd.jupyter.widget-view+json": {
       "model_id": "7079fb7efd4047e4a0e20f927f0f2686",
       "version_major": 2,
       "version_minor": 0
      },
      "text/plain": [
       "VBox()"
      ]
     },
     "metadata": {},
     "output_type": "display_data"
    },
    {
     "data": {
      "application/vnd.jupyter.widget-view+json": {
       "model_id": "",
       "version_major": 2,
       "version_minor": 0
      },
      "text/plain": [
       "FloatProgress(value=0.0, bar_style='info', description='Progress:', layout=Layout(height='25px', width='50%'),…"
      ]
     },
     "metadata": {},
     "output_type": "display_data"
    }
   ],
   "source": [
    "tags_ratings_summary_1.createOrReplaceTempView(\"S_tag_sql\")"
   ]
  },
  {
   "cell_type": "code",
   "execution_count": 104,
   "id": "66e9ff48",
   "metadata": {},
   "outputs": [
    {
     "data": {
      "application/vnd.jupyter.widget-view+json": {
       "model_id": "3a4ee4c0689d44b4bb4dd0f2ef77853a",
       "version_major": 2,
       "version_minor": 0
      },
      "text/plain": [
       "VBox()"
      ]
     },
     "metadata": {},
     "output_type": "display_data"
    },
    {
     "data": {
      "application/vnd.jupyter.widget-view+json": {
       "model_id": "",
       "version_major": 2,
       "version_minor": 0
      },
      "text/plain": [
       "FloatProgress(value=0.0, bar_style='info', description='Progress:', layout=Layout(height='25px', width='50%'),…"
      ]
     },
     "metadata": {},
     "output_type": "display_data"
    }
   ],
   "source": [
    "tags_ratings_summary_temp = spark.sql(\"\"\"SELECT *\n",
    "FROM S_tag_sql  \n",
    "order by S_tag_sql.in_percent_interactions  desc limit 29\"\"\")"
   ]
  },
  {
   "cell_type": "code",
   "execution_count": 105,
   "id": "ed589a03",
   "metadata": {},
   "outputs": [
    {
     "data": {
      "application/vnd.jupyter.widget-view+json": {
       "model_id": "dafc2a4be8714f3b8eb644fabc276c17",
       "version_major": 2,
       "version_minor": 0
      },
      "text/plain": [
       "VBox()"
      ]
     },
     "metadata": {},
     "output_type": "display_data"
    },
    {
     "data": {
      "application/vnd.jupyter.widget-view+json": {
       "model_id": "",
       "version_major": 2,
       "version_minor": 0
      },
      "text/plain": [
       "FloatProgress(value=0.0, bar_style='info', description='Progress:', layout=Layout(height='25px', width='50%'),…"
      ]
     },
     "metadata": {},
     "output_type": "display_data"
    },
    {
     "name": "stdout",
     "output_type": "stream",
     "text": [
      "+------------------+---------------+--------------+---------+-------------------+-----------------------+\n",
      "|    individual_tag|avg_user_rating|n_user_ratings|n_recipes|in_percent_recipies|in_percent_interactions|\n",
      "+------------------+---------------+--------------+---------+-------------------+-----------------------+\n",
      "|              easy|            5.0|        454804|   102007| 0.5485662966787128|     0.5596265251780502|\n",
      "|          occasion|            5.0|        450511|    92937|0.49979026845637586|     0.5543440811525153|\n",
      "|         equipment|            5.0|        357528|    57317| 0.3082354586129754|     0.4399305025766219|\n",
      "|           cuisine|            5.0|        346353|    73936|  0.397607984856307|    0.42617990579456916|\n",
      "|  low-in-something|            5.0|        320970|    69141| 0.3718217604543108|    0.39494667106357634|\n",
      "|         main-dish|            5.0|        268089|    56543|  0.304073094131819|     0.3298777396602895|\n",
      "|number-of-servings|            5.0|        248105|    47769|0.25688887454827053|    0.30528785813075554|\n",
      "|60-minutes-or-less|            5.0|        244509|    55778| 0.2999591292376527|     0.3008630575913138|\n",
      "|              meat|            5.0|        225611|    44645|0.24008884013078644|    0.27760947566851896|\n",
      "|        taste-mood|            5.0|        224446|    42637|0.22929035450008603|     0.2761759682634996|\n",
      "|    north-american|            5.0|        205357|    39541|0.21264089657546034|     0.2526873649549891|\n",
      "|30-minutes-or-less|            5.0|        191882|    44415|0.23885196179659268|    0.23610666771667496|\n",
      "|        vegetables|            5.0|        187035|    43344|0.23309241094475994|    0.23014253862471884|\n",
      "|              oven|            5.0|        180351|    25247| 0.1357715969712614|    0.22191802060313132|\n",
      "|   4-hours-or-less|            5.0|        180217|    39771| 0.2138777749096541|     0.2217531364895926|\n",
      "|          low-carb|            5.0|        165846|    34156|0.18368181035966272|    0.20406993055179576|\n",
      "|     holiday-event|            5.0|        152044|    29059| 0.1562715109275512|     0.1870868668573088|\n",
      "|      dinner-party|            5.0|        147071|    31026|0.16684950955085184|    0.18096769747948793|\n",
      "|          desserts|            5.0|        146378|    34569| 0.1859028136293237|    0.18011497590723177|\n",
      "|15-minutes-or-less|            5.0|        146079|    35520|0.19101703665462055|    0.17974706284791778|\n",
      "|           healthy|            5.0|        142222|    31844| 0.1712484942350714|     0.1750011074306133|\n",
      "|          american|            5.0|        140404|    25449| 0.1368578988125968|    0.17276409759170755|\n",
      "|        low-sodium|            5.0|        139823|    34698|0.18659654104284976|    0.17204918960688675|\n",
      "|     beginner-cook|            5.0|        137816|    29008|0.15599724660127345|    0.16957961933918383|\n",
      "|   low-cholesterol|            5.0|        134665|    29428|0.15825589399414902|     0.1657023817141057|\n",
      "|       low-calorie|            5.0|        133168|    29231|0.15719648081225263|     0.1638603554606173|\n",
      "|      comfort-food|            5.0|        132171|    21301|0.11455106694200654|    0.16263356843675095|\n",
      "|      kid-friendly|            5.0|        131473|    22314|0.11999870934434693|    0.16177469447219858|\n",
      "|       inexpensive|            5.0|        130206|    26029|0.13997698330752023|     0.1602156782643363|\n",
      "+------------------+---------------+--------------+---------+-------------------+-----------------------+"
     ]
    }
   ],
   "source": [
    "tags_ratings_summary_temp.show(30)"
   ]
  },
  {
   "cell_type": "code",
   "execution_count": 65,
   "id": "a68f45de",
   "metadata": {
    "scrolled": true
   },
   "outputs": [
    {
     "data": {
      "application/vnd.jupyter.widget-view+json": {
       "model_id": "f5b3795626c4477bbf90a68e75a5cffb",
       "version_major": 2,
       "version_minor": 0
      },
      "text/plain": [
       "VBox()"
      ]
     },
     "metadata": {},
     "output_type": "display_data"
    },
    {
     "data": {
      "application/vnd.jupyter.widget-view+json": {
       "model_id": "",
       "version_major": 2,
       "version_minor": 0
      },
      "text/plain": [
       "FloatProgress(value=0.0, bar_style='info', description='Progress:', layout=Layout(height='25px', width='50%'),…"
      ]
     },
     "metadata": {},
     "output_type": "display_data"
    },
    {
     "name": "stdout",
     "output_type": "stream",
     "text": [
      "{0.0: 0, 0.01: 1.2304784592440925e-06, 0.25: 9.105540598406284e-05, 0.5: 0.0018014204643333515, 0.75: 0.008183912232432458, 0.8: 0.5596265251780502, 0.85: 0.5596265251780502, 0.9: 0.5596265251780502, 0.95: 0.5596265251780502, 0.99: 0.5596265251780502, 1.0: 0}"
     ]
    }
   ],
   "source": [
    "# print the quantiles of in_percent_interactions  \n",
    "get_quantiles(df = tags_ratings_summary_1, # add code here , \n",
    "              col_name = \"in_percent_interactions\", # add code here , \n",
    "              quantiles_list = [0.01,0.25,0.5, 0.75,0.8,0.85,0.9,0.95, 0.99])\n",
    "\n",
    "# Actual output and expected output is not matching -- pending validation -- Jagadish 9/18/2022"
   ]
  },
  {
   "cell_type": "code",
   "execution_count": 106,
   "id": "4bc86bfb",
   "metadata": {},
   "outputs": [
    {
     "data": {
      "application/vnd.jupyter.widget-view+json": {
       "model_id": "d820daeefe4c4dc1b6ee98e92f9c389e",
       "version_major": 2,
       "version_minor": 0
      },
      "text/plain": [
       "VBox()"
      ]
     },
     "metadata": {},
     "output_type": "display_data"
    },
    {
     "data": {
      "application/vnd.jupyter.widget-view+json": {
       "model_id": "",
       "version_major": 2,
       "version_minor": 0
      },
      "text/plain": [
       "FloatProgress(value=0.0, bar_style='info', description='Progress:', layout=Layout(height='25px', width='50%'),…"
      ]
     },
     "metadata": {},
     "output_type": "display_data"
    },
    {
     "name": "stdout",
     "output_type": "stream",
     "text": [
      "29"
     ]
    }
   ],
   "source": [
    "# keep tags appearing in the top 5 percentile \n",
    "top_most_frequent_tags = tags_ratings_summary_temp\n",
    "\n",
    "top_most_frequent_tags.count()"
   ]
  },
  {
   "cell_type": "code",
   "execution_count": 110,
   "id": "a80d5598",
   "metadata": {},
   "outputs": [
    {
     "data": {
      "application/vnd.jupyter.widget-view+json": {
       "model_id": "b637c5afad0b4ba79ed8dfa1e6dd6438",
       "version_major": 2,
       "version_minor": 0
      },
      "text/plain": [
       "VBox()"
      ]
     },
     "metadata": {},
     "output_type": "display_data"
    },
    {
     "data": {
      "application/vnd.jupyter.widget-view+json": {
       "model_id": "",
       "version_major": 2,
       "version_minor": 0
      },
      "text/plain": [
       "FloatProgress(value=0.0, bar_style='info', description='Progress:', layout=Layout(height='25px', width='50%'),…"
      ]
     },
     "metadata": {},
     "output_type": "display_data"
    }
   ],
   "source": [
    "# extract the list of top frequent tags\n",
    "top_frequent_tags_list =top_most_frequent_tags.select('individual_tag').rdd.flatMap(lambda x: x).collect()"
   ]
  },
  {
   "cell_type": "code",
   "execution_count": 111,
   "id": "bd1456d0",
   "metadata": {},
   "outputs": [
    {
     "data": {
      "application/vnd.jupyter.widget-view+json": {
       "model_id": "e7fbf45e18344a94932102fd5baf5f3c",
       "version_major": 2,
       "version_minor": 0
      },
      "text/plain": [
       "VBox()"
      ]
     },
     "metadata": {},
     "output_type": "display_data"
    },
    {
     "data": {
      "application/vnd.jupyter.widget-view+json": {
       "model_id": "",
       "version_major": 2,
       "version_minor": 0
      },
      "text/plain": [
       "FloatProgress(value=0.0, bar_style='info', description='Progress:', layout=Layout(height='25px', width='50%'),…"
      ]
     },
     "metadata": {},
     "output_type": "display_data"
    },
    {
     "name": "stdout",
     "output_type": "stream",
     "text": [
      "['easy', 'occasion', 'equipment', 'cuisine', 'low-in-something', 'main-dish', 'number-of-servings', '60-minutes-or-less', 'meat', 'taste-mood', 'north-american', '30-minutes-or-less', 'vegetables', 'oven', '4-hours-or-less', 'low-carb', 'holiday-event', 'dinner-party', 'desserts', '15-minutes-or-less', 'healthy', 'american', 'low-sodium', 'beginner-cook', 'low-cholesterol', 'low-calorie', 'comfort-food', 'kid-friendly', 'inexpensive']"
     ]
    }
   ],
   "source": [
    "top_frequent_tags_list"
   ]
  },
  {
   "cell_type": "code",
   "execution_count": 123,
   "id": "0323df86",
   "metadata": {},
   "outputs": [
    {
     "data": {
      "application/vnd.jupyter.widget-view+json": {
       "model_id": "3debcae1db1d4005b212a36682fad004",
       "version_major": 2,
       "version_minor": 0
      },
      "text/plain": [
       "VBox()"
      ]
     },
     "metadata": {},
     "output_type": "display_data"
    },
    {
     "data": {
      "application/vnd.jupyter.widget-view+json": {
       "model_id": "",
       "version_major": 2,
       "version_minor": 0
      },
      "text/plain": [
       "FloatProgress(value=0.0, bar_style='info', description='Progress:', layout=Layout(height='25px', width='50%'),…"
      ]
     },
     "metadata": {},
     "output_type": "display_data"
    },
    {
     "name": "stderr",
     "output_type": "stream",
     "text": [
      "An error was encountered:\n",
      "An error occurred while calling o1266.fit.\n",
      ": org.apache.spark.SparkException: Input column easy does not exist.\n",
      "\tat org.apache.spark.ml.feature.StringIndexerBase.$anonfun$validateAndTransformSchema$2(StringIndexer.scala:128)\n",
      "\tat scala.collection.TraversableLike.$anonfun$flatMap$1(TraversableLike.scala:245)\n",
      "\tat scala.collection.IndexedSeqOptimized.foreach(IndexedSeqOptimized.scala:36)\n",
      "\tat scala.collection.IndexedSeqOptimized.foreach$(IndexedSeqOptimized.scala:33)\n",
      "\tat scala.collection.mutable.ArrayOps$ofRef.foreach(ArrayOps.scala:198)\n",
      "\tat scala.collection.TraversableLike.flatMap(TraversableLike.scala:245)\n",
      "\tat scala.collection.TraversableLike.flatMap$(TraversableLike.scala:242)\n",
      "\tat scala.collection.mutable.ArrayOps$ofRef.flatMap(ArrayOps.scala:198)\n",
      "\tat org.apache.spark.ml.feature.StringIndexerBase.validateAndTransformSchema(StringIndexer.scala:123)\n",
      "\tat org.apache.spark.ml.feature.StringIndexerBase.validateAndTransformSchema$(StringIndexer.scala:115)\n",
      "\tat org.apache.spark.ml.feature.StringIndexer.validateAndTransformSchema(StringIndexer.scala:145)\n",
      "\tat org.apache.spark.ml.feature.StringIndexer.transformSchema(StringIndexer.scala:252)\n",
      "\tat org.apache.spark.ml.PipelineStage.transformSchema(Pipeline.scala:71)\n",
      "\tat org.apache.spark.ml.feature.StringIndexer.fit(StringIndexer.scala:237)\n",
      "\tat sun.reflect.NativeMethodAccessorImpl.invoke0(Native Method)\n",
      "\tat sun.reflect.NativeMethodAccessorImpl.invoke(NativeMethodAccessorImpl.java:62)\n",
      "\tat sun.reflect.DelegatingMethodAccessorImpl.invoke(DelegatingMethodAccessorImpl.java:43)\n",
      "\tat java.lang.reflect.Method.invoke(Method.java:498)\n",
      "\tat py4j.reflection.MethodInvoker.invoke(MethodInvoker.java:244)\n",
      "\tat py4j.reflection.ReflectionEngine.invoke(ReflectionEngine.java:357)\n",
      "\tat py4j.Gateway.invoke(Gateway.java:282)\n",
      "\tat py4j.commands.AbstractCommand.invokeMethod(AbstractCommand.java:132)\n",
      "\tat py4j.commands.CallCommand.execute(CallCommand.java:79)\n",
      "\tat py4j.GatewayConnection.run(GatewayConnection.java:238)\n",
      "\tat java.lang.Thread.run(Thread.java:750)\n",
      "\n",
      "Traceback (most recent call last):\n",
      "  File \"<stdin>\", line 17, in add_OHE_columns\n",
      "  File \"/usr/lib/spark/python/lib/pyspark.zip/pyspark/ml/base.py\", line 161, in fit\n",
      "    return self._fit(dataset)\n",
      "  File \"/usr/lib/spark/python/lib/pyspark.zip/pyspark/ml/wrapper.py\", line 335, in _fit\n",
      "    java_model = self._fit_java(dataset)\n",
      "  File \"/usr/lib/spark/python/lib/pyspark.zip/pyspark/ml/wrapper.py\", line 332, in _fit_java\n",
      "    return self._java_obj.fit(dataset._jdf)\n",
      "  File \"/usr/lib/spark/python/lib/py4j-0.10.9-src.zip/py4j/java_gateway.py\", line 1305, in __call__\n",
      "    answer, self.gateway_client, self.target_id, self.name)\n",
      "  File \"/usr/lib/spark/python/lib/pyspark.zip/pyspark/sql/utils.py\", line 111, in deco\n",
      "    return f(*a, **kw)\n",
      "  File \"/usr/lib/spark/python/lib/py4j-0.10.9-src.zip/py4j/protocol.py\", line 328, in get_return_value\n",
      "    format(target_id, \".\", name), value)\n",
      "py4j.protocol.Py4JJavaError: An error occurred while calling o1266.fit.\n",
      ": org.apache.spark.SparkException: Input column easy does not exist.\n",
      "\tat org.apache.spark.ml.feature.StringIndexerBase.$anonfun$validateAndTransformSchema$2(StringIndexer.scala:128)\n",
      "\tat scala.collection.TraversableLike.$anonfun$flatMap$1(TraversableLike.scala:245)\n",
      "\tat scala.collection.IndexedSeqOptimized.foreach(IndexedSeqOptimized.scala:36)\n",
      "\tat scala.collection.IndexedSeqOptimized.foreach$(IndexedSeqOptimized.scala:33)\n",
      "\tat scala.collection.mutable.ArrayOps$ofRef.foreach(ArrayOps.scala:198)\n",
      "\tat scala.collection.TraversableLike.flatMap(TraversableLike.scala:245)\n",
      "\tat scala.collection.TraversableLike.flatMap$(TraversableLike.scala:242)\n",
      "\tat scala.collection.mutable.ArrayOps$ofRef.flatMap(ArrayOps.scala:198)\n",
      "\tat org.apache.spark.ml.feature.StringIndexerBase.validateAndTransformSchema(StringIndexer.scala:123)\n",
      "\tat org.apache.spark.ml.feature.StringIndexerBase.validateAndTransformSchema$(StringIndexer.scala:115)\n",
      "\tat org.apache.spark.ml.feature.StringIndexer.validateAndTransformSchema(StringIndexer.scala:145)\n",
      "\tat org.apache.spark.ml.feature.StringIndexer.transformSchema(StringIndexer.scala:252)\n",
      "\tat org.apache.spark.ml.PipelineStage.transformSchema(Pipeline.scala:71)\n",
      "\tat org.apache.spark.ml.feature.StringIndexer.fit(StringIndexer.scala:237)\n",
      "\tat sun.reflect.NativeMethodAccessorImpl.invoke0(Native Method)\n",
      "\tat sun.reflect.NativeMethodAccessorImpl.invoke(NativeMethodAccessorImpl.java:62)\n",
      "\tat sun.reflect.DelegatingMethodAccessorImpl.invoke(DelegatingMethodAccessorImpl.java:43)\n",
      "\tat java.lang.reflect.Method.invoke(Method.java:498)\n",
      "\tat py4j.reflection.MethodInvoker.invoke(MethodInvoker.java:244)\n",
      "\tat py4j.reflection.ReflectionEngine.invoke(ReflectionEngine.java:357)\n",
      "\tat py4j.Gateway.invoke(Gateway.java:282)\n",
      "\tat py4j.commands.AbstractCommand.invokeMethod(AbstractCommand.java:132)\n",
      "\tat py4j.commands.CallCommand.execute(CallCommand.java:79)\n",
      "\tat py4j.GatewayConnection.run(GatewayConnection.java:238)\n",
      "\tat java.lang.Thread.run(Thread.java:750)\n",
      "\n",
      "\n"
     ]
    }
   ],
   "source": [
    "interaction_level_df = add_OHE_columns (\n",
    " # add code here \n",
    "    interaction_level_df, top_frequent_tags_list\n",
    ")"
   ]
  },
  {
   "cell_type": "markdown",
   "id": "33744553",
   "metadata": {},
   "source": [
    "#### 2.  Bottom ```n``` least rated tags"
   ]
  },
  {
   "cell_type": "code",
   "execution_count": 40,
   "id": "8b02c0de",
   "metadata": {},
   "outputs": [
    {
     "data": {
      "application/vnd.jupyter.widget-view+json": {
       "model_id": "efe7956aa3b34b1bb424e42f3adcd02b",
       "version_major": 2,
       "version_minor": 0
      },
      "text/plain": [
       "VBox()"
      ]
     },
     "metadata": {},
     "output_type": "display_data"
    },
    {
     "data": {
      "application/vnd.jupyter.widget-view+json": {
       "model_id": "",
       "version_major": 2,
       "version_minor": 0
      },
      "text/plain": [
       "FloatProgress(value=0.0, bar_style='info', description='Progress:', layout=Layout(height='25px', width='50%'),…"
      ]
     },
     "metadata": {},
     "output_type": "display_data"
    },
    {
     "name": "stdout",
     "output_type": "stream",
     "text": [
      "+--------------------+---------------+--------------+---------+--------------------+-----------------------+\n",
      "|      individual_tag|avg_user_rating|n_user_ratings|n_recipes| in_percent_recipies|in_percent_interactions|\n",
      "+--------------------+---------------+--------------+---------+--------------------+-----------------------+\n",
      "|lamb-sheep-main-dish|            0.0|             1|        1|4.340164752654011E-6|   8.876193959039915E-7|\n",
      "|     black-bean-soup|            3.0|             1|        1|4.340164752654011E-6|   8.876193959039915E-7|\n",
      "|Throw the ultimat...|            5.0|             1|        1|4.340164752654011E-6|   8.876193959039915E-7|\n",
      "|       chicken-stews|            4.0|             1|        1|4.340164752654011E-6|   8.876193959039915E-7|\n",
      "|       desserts-easy|            5.0|             1|        1|4.340164752654011E-6|   8.876193959039915E-7|\n",
      "+--------------------+---------------+--------------+---------+--------------------+-----------------------+\n",
      "only showing top 5 rows"
     ]
    }
   ],
   "source": []
  },
  {
   "cell_type": "markdown",
   "id": "28edd839",
   "metadata": {},
   "source": [
    "The above tags are present in 1 recipe in over two hundred thousand. The features we create based on these tags will not teach the model new information. If these tags were one hot encoded, the entire column would be filled with zeros, and only a few rows will have 1s. One hot encoding of these tags is not a good idea. If you come up with an encoding that captures the rarity of these tags, only then can you add these tags to the analysis."
   ]
  },
  {
   "cell_type": "markdown",
   "id": "b3bacac2",
   "metadata": {},
   "source": [
    "#### 3. Top ```n``` rated tags "
   ]
  },
  {
   "cell_type": "code",
   "execution_count": 41,
   "id": "7f4391c0",
   "metadata": {},
   "outputs": [
    {
     "data": {
      "application/vnd.jupyter.widget-view+json": {
       "model_id": "66f895db486a458aa1397980ead92b8a",
       "version_major": 2,
       "version_minor": 0
      },
      "text/plain": [
       "VBox()"
      ]
     },
     "metadata": {},
     "output_type": "display_data"
    },
    {
     "data": {
      "application/vnd.jupyter.widget-view+json": {
       "model_id": "",
       "version_major": 2,
       "version_minor": 0
      },
      "text/plain": [
       "FloatProgress(value=0.0, bar_style='info', description='Progress:', layout=Layout(height='25px', width='50%'),…"
      ]
     },
     "metadata": {},
     "output_type": "display_data"
    },
    {
     "name": "stdout",
     "output_type": "stream",
     "text": [
      "+--------------------+---------------+--------------+---------+--------------------+-----------------------+\n",
      "|      individual_tag|avg_user_rating|n_user_ratings|n_recipes| in_percent_recipies|in_percent_interactions|\n",
      "+--------------------+---------------+--------------+---------+--------------------+-----------------------+\n",
      "|  breakfast-potatoes|            5.0|             1|        1|4.340164752654011E-6|   8.876193959039915E-7|\n",
      "|           pork-loin|            5.0|             1|        1|4.340164752654011E-6|   8.876193959039915E-7|\n",
      "|middle-eastern-ma...|            5.0|             2|        1|4.340164752654011E-6|   1.775238791807983E-6|\n",
      "|Throw the ultimat...|            5.0|             1|        1|4.340164752654011E-6|   8.876193959039915E-7|\n",
      "|       desserts-easy|            5.0|             1|        1|4.340164752654011E-6|   8.876193959039915E-7|\n",
      "+--------------------+---------------+--------------+---------+--------------------+-----------------------+\n",
      "only showing top 5 rows"
     ]
    }
   ],
   "source": []
  },
  {
   "cell_type": "markdown",
   "id": "1ba743fa",
   "metadata": {},
   "source": [
    "Top rated tags have low number of ratings."
   ]
  },
  {
   "cell_type": "code",
   "execution_count": 48,
   "id": "50c62424",
   "metadata": {},
   "outputs": [
    {
     "data": {
      "application/vnd.jupyter.widget-view+json": {
       "model_id": "e3168923c7a74e858cab5ddd0d82e3e5",
       "version_major": 2,
       "version_minor": 0
      },
      "text/plain": [
       "VBox()"
      ]
     },
     "metadata": {},
     "output_type": "display_data"
    },
    {
     "data": {
      "application/vnd.jupyter.widget-view+json": {
       "model_id": "",
       "version_major": 2,
       "version_minor": 0
      },
      "text/plain": [
       "FloatProgress(value=0.0, bar_style='info', description='Progress:', layout=Layout(height='25px', width='50%'),…"
      ]
     },
     "metadata": {},
     "output_type": "display_data"
    },
    {
     "name": "stdout",
     "output_type": "stream",
     "text": [
      "{0.0: 104, 0.01: 114.0, 0.05: 180.0, 0.1: 330.0, 0.15: 522.0, 0.2: 806.0, 0.25: 1143.0, 0.5: 6312.0, 0.75: 27839.0, 0.99: 445959.0, 1.0: 630786}"
     ]
    }
   ],
   "source": [
    "get_quantiles (df = # add code here, \n",
    "               col_name = # add code here, \n",
    "               quantiles_list = [0.01, 0.05, 0.1, 0.15, 0.2, 0.25, 0.5, 0.75, 0.99])"
   ]
  },
  {
   "cell_type": "code",
   "execution_count": 49,
   "id": "eec928b9",
   "metadata": {},
   "outputs": [
    {
     "data": {
      "application/vnd.jupyter.widget-view+json": {
       "model_id": "78588aa0260a41198bf7c8870f671e25",
       "version_major": 2,
       "version_minor": 0
      },
      "text/plain": [
       "VBox()"
      ]
     },
     "metadata": {},
     "output_type": "display_data"
    },
    {
     "data": {
      "application/vnd.jupyter.widget-view+json": {
       "model_id": "",
       "version_major": 2,
       "version_minor": 0
      },
      "text/plain": [
       "FloatProgress(value=0.0, bar_style='info', description='Progress:', layout=Layout(height='25px', width='50%'),…"
      ]
     },
     "metadata": {},
     "output_type": "display_data"
    }
   ],
   "source": [
    "# Drop the tags with less than 100 ratings \n",
    "tags_ratings_summary ="
   ]
  },
  {
   "cell_type": "code",
   "execution_count": 51,
   "id": "558d9eae",
   "metadata": {},
   "outputs": [
    {
     "data": {
      "application/vnd.jupyter.widget-view+json": {
       "model_id": "a21771f18cec4e0d9c08d1778d20be93",
       "version_major": 2,
       "version_minor": 0
      },
      "text/plain": [
       "VBox()"
      ]
     },
     "metadata": {},
     "output_type": "display_data"
    },
    {
     "data": {
      "application/vnd.jupyter.widget-view+json": {
       "model_id": "",
       "version_major": 2,
       "version_minor": 0
      },
      "text/plain": [
       "FloatProgress(value=0.0, bar_style='info', description='Progress:', layout=Layout(height='25px', width='50%'),…"
      ]
     },
     "metadata": {},
     "output_type": "display_data"
    },
    {
     "name": "stdout",
     "output_type": "stream",
     "text": [
      "{0.0: 3.6742424242424243, 0.01: 3.962536023054755, 0.25: 4.344224006718102, 0.5: 4.403587357364895, 0.75: 4.451890903550206, 0.8: 4.461777662606893, 0.85: 4.48284199758207, 0.9: 4.503597122302159, 0.95: 4.536699941280094, 0.99: 4.609756097560975, 1.0: 4.822727272727272}"
     ]
    }
   ],
   "source": [
    "get_quantiles(df = # add code here, \n",
    "              col_name = # add code here,\n",
    "              quantiles_list = [0.01,0.25,0.5, 0.75,0.8,0.85,0.9,0.95, 0.99])"
   ]
  },
  {
   "cell_type": "code",
   "execution_count": 52,
   "id": "62a0ca52",
   "metadata": {},
   "outputs": [
    {
     "data": {
      "application/vnd.jupyter.widget-view+json": {
       "model_id": "d72873e970f341079af4fce347ed54ff",
       "version_major": 2,
       "version_minor": 0
      },
      "text/plain": [
       "VBox()"
      ]
     },
     "metadata": {},
     "output_type": "display_data"
    },
    {
     "data": {
      "application/vnd.jupyter.widget-view+json": {
       "model_id": "",
       "version_major": 2,
       "version_minor": 0
      },
      "text/plain": [
       "FloatProgress(value=0.0, bar_style='info', description='Progress:', layout=Layout(height='25px', width='50%'),…"
      ]
     },
     "metadata": {},
     "output_type": "display_data"
    },
    {
     "name": "stdout",
     "output_type": "stream",
     "text": [
      "26"
     ]
    }
   ],
   "source": [
    "# keep tags above 95 percentile\n",
    "top_rated_tags_df = \n",
    "\n",
    "top_rated_tags_df.count()"
   ]
  },
  {
   "cell_type": "code",
   "execution_count": 53,
   "id": "06ccccb4",
   "metadata": {},
   "outputs": [
    {
     "data": {
      "application/vnd.jupyter.widget-view+json": {
       "model_id": "781dee35ad9b4b9e928cfe2e887f73eb",
       "version_major": 2,
       "version_minor": 0
      },
      "text/plain": [
       "VBox()"
      ]
     },
     "metadata": {},
     "output_type": "display_data"
    },
    {
     "data": {
      "application/vnd.jupyter.widget-view+json": {
       "model_id": "",
       "version_major": 2,
       "version_minor": 0
      },
      "text/plain": [
       "FloatProgress(value=0.0, bar_style='info', description='Progress:', layout=Layout(height='25px', width='50%'),…"
      ]
     },
     "metadata": {},
     "output_type": "display_data"
    }
   ],
   "source": [
    "top_rated_tags_list = # collect the list of top rated tags "
   ]
  },
  {
   "cell_type": "markdown",
   "id": "5cfe9edf",
   "metadata": {},
   "source": [
    "Check if any of the current tags have been added earlier"
   ]
  },
  {
   "cell_type": "code",
   "execution_count": 54,
   "id": "aaafc25c",
   "metadata": {},
   "outputs": [
    {
     "data": {
      "application/vnd.jupyter.widget-view+json": {
       "model_id": "c2e6b2a863524db290751de1926f0c8d",
       "version_major": 2,
       "version_minor": 0
      },
      "text/plain": [
       "VBox()"
      ]
     },
     "metadata": {},
     "output_type": "display_data"
    },
    {
     "data": {
      "application/vnd.jupyter.widget-view+json": {
       "model_id": "",
       "version_major": 2,
       "version_minor": 0
      },
      "text/plain": [
       "FloatProgress(value=0.0, bar_style='info', description='Progress:', layout=Layout(height='25px', width='50%'),…"
      ]
     },
     "metadata": {},
     "output_type": "display_data"
    },
    {
     "name": "stdout",
     "output_type": "stream",
     "text": [
      "set()"
     ]
    }
   ],
   "source": [
    "set(top_frequent_tags_list) & set(top_rated_tags_list)"
   ]
  },
  {
   "cell_type": "code",
   "execution_count": 55,
   "id": "31c5a490",
   "metadata": {},
   "outputs": [
    {
     "data": {
      "application/vnd.jupyter.widget-view+json": {
       "model_id": "bc4e414485364d44be207520480311b3",
       "version_major": 2,
       "version_minor": 0
      },
      "text/plain": [
       "VBox()"
      ]
     },
     "metadata": {},
     "output_type": "display_data"
    },
    {
     "data": {
      "application/vnd.jupyter.widget-view+json": {
       "model_id": "",
       "version_major": 2,
       "version_minor": 0
      },
      "text/plain": [
       "FloatProgress(value=0.0, bar_style='info', description='Progress:', layout=Layout(height='25px', width='50%'),…"
      ]
     },
     "metadata": {},
     "output_type": "display_data"
    }
   ],
   "source": [
    "all_added_columns_set = set(top_frequent_tags_list).union(set(top_rated_tags_list))"
   ]
  },
  {
   "cell_type": "code",
   "execution_count": 56,
   "id": "f5693caa",
   "metadata": {},
   "outputs": [
    {
     "data": {
      "application/vnd.jupyter.widget-view+json": {
       "model_id": "a6c2dde53a3242d48859f147b2c0efe6",
       "version_major": 2,
       "version_minor": 0
      },
      "text/plain": [
       "VBox()"
      ]
     },
     "metadata": {},
     "output_type": "display_data"
    },
    {
     "data": {
      "application/vnd.jupyter.widget-view+json": {
       "model_id": "",
       "version_major": 2,
       "version_minor": 0
      },
      "text/plain": [
       "FloatProgress(value=0.0, bar_style='info', description='Progress:', layout=Layout(height='25px', width='50%'),…"
      ]
     },
     "metadata": {},
     "output_type": "display_data"
    },
    {
     "name": "stdout",
     "output_type": "stream",
     "text": [
      "added column: has_tag_ragu-recipe-contest\n",
      "added column: has_tag_simply-potatoes2\n",
      "added column: has_tag_non-alcoholic\n",
      "added column: has_tag_a1-sauce\n",
      "added column: has_tag_labor-day\n",
      "added column: has_tag_punch\n",
      "added column: has_tag_lettuces\n",
      "added column: has_tag_cocktails\n",
      "added column: has_tag_mashed-potatoes\n",
      "added column: has_tag_smoothies\n",
      "added column: has_tag_turkey-burgers\n",
      "added column: has_tag_avocado\n",
      "added column: has_tag_beverages\n",
      "added column: has_tag_mango\n",
      "added column: has_tag_asparagus\n",
      "added column: has_tag_memorial-day\n",
      "added column: has_tag_shakes\n",
      "added column: has_tag_strawberries\n",
      "added column: has_tag_omelets-and-frittatas\n",
      "added column: has_tag_salsas\n",
      "added column: has_tag_greek\n",
      "added column: has_tag_salads\n",
      "added column: has_tag_barbecue\n",
      "added column: has_tag_australian\n",
      "added column: has_tag_grilling\n",
      "added column: has_tag_polynesian"
     ]
    }
   ],
   "source": [
    "interaction_level_df = add_OHE_columns ( # add code here )"
   ]
  },
  {
   "cell_type": "markdown",
   "id": "de06488a",
   "metadata": {},
   "source": [
    "#### 3. Bottom ```n``` rated tags "
   ]
  },
  {
   "cell_type": "code",
   "execution_count": 57,
   "id": "d5f3abff",
   "metadata": {},
   "outputs": [
    {
     "data": {
      "application/vnd.jupyter.widget-view+json": {
       "model_id": "87095bfb3da64b4da88912f4b6f93a91",
       "version_major": 2,
       "version_minor": 0
      },
      "text/plain": [
       "VBox()"
      ]
     },
     "metadata": {},
     "output_type": "display_data"
    },
    {
     "data": {
      "application/vnd.jupyter.widget-view+json": {
       "model_id": "",
       "version_major": 2,
       "version_minor": 0
      },
      "text/plain": [
       "FloatProgress(value=0.0, bar_style='info', description='Progress:', layout=Layout(height='25px', width='50%'),…"
      ]
     },
     "metadata": {},
     "output_type": "display_data"
    }
   ],
   "source": []
  },
  {
   "cell_type": "code",
   "execution_count": 58,
   "id": "d21ffd36",
   "metadata": {},
   "outputs": [
    {
     "data": {
      "application/vnd.jupyter.widget-view+json": {
       "model_id": "ceb852a243244d828fb9d5b7a8486f0a",
       "version_major": 2,
       "version_minor": 0
      },
      "text/plain": [
       "VBox()"
      ]
     },
     "metadata": {},
     "output_type": "display_data"
    },
    {
     "data": {
      "application/vnd.jupyter.widget-view+json": {
       "model_id": "",
       "version_major": 2,
       "version_minor": 0
      },
      "text/plain": [
       "FloatProgress(value=0.0, bar_style='info', description='Progress:', layout=Layout(height='25px', width='50%'),…"
      ]
     },
     "metadata": {},
     "output_type": "display_data"
    },
    {
     "name": "stdout",
     "output_type": "stream",
     "text": [
      "{0.0: 3.6742424242424243, 0.01: 3.962536023054755, 0.02: 4.054406964091403, 0.03: 4.096385542168675, 0.04: 4.126760563380282, 0.05: 4.171974522292993, 0.1: 4.238095238095238, 0.15: 4.303225806451613, 0.2: 4.325726141078838, 0.25: 4.344224006718102, 0.5: 4.403587357364895, 0.75: 4.451890903550206, 0.99: 4.609756097560975, 1.0: 4.822727272727272}"
     ]
    }
   ],
   "source": []
  },
  {
   "cell_type": "code",
   "execution_count": 59,
   "id": "2166012b",
   "metadata": {},
   "outputs": [
    {
     "data": {
      "application/vnd.jupyter.widget-view+json": {
       "model_id": "3ab6a06d456e423791438b402e6ae2b1",
       "version_major": 2,
       "version_minor": 0
      },
      "text/plain": [
       "VBox()"
      ]
     },
     "metadata": {},
     "output_type": "display_data"
    },
    {
     "data": {
      "application/vnd.jupyter.widget-view+json": {
       "model_id": "",
       "version_major": 2,
       "version_minor": 0
      },
      "text/plain": [
       "FloatProgress(value=0.0, bar_style='info', description='Progress:', layout=Layout(height='25px', width='50%'),…"
      ]
     },
     "metadata": {},
     "output_type": "display_data"
    },
    {
     "name": "stdout",
     "output_type": "stream",
     "text": [
      "6"
     ]
    }
   ],
   "source": []
  },
  {
   "cell_type": "code",
   "execution_count": 60,
   "id": "ad52943b",
   "metadata": {},
   "outputs": [
    {
     "data": {
      "application/vnd.jupyter.widget-view+json": {
       "model_id": "77ea0908bce0418887b8f8e25321189f",
       "version_major": 2,
       "version_minor": 0
      },
      "text/plain": [
       "VBox()"
      ]
     },
     "metadata": {},
     "output_type": "display_data"
    },
    {
     "data": {
      "application/vnd.jupyter.widget-view+json": {
       "model_id": "",
       "version_major": 2,
       "version_minor": 0
      },
      "text/plain": [
       "FloatProgress(value=0.0, bar_style='info', description='Progress:', layout=Layout(height='25px', width='50%'),…"
      ]
     },
     "metadata": {},
     "output_type": "display_data"
    }
   ],
   "source": []
  },
  {
   "cell_type": "markdown",
   "id": "9762c74a",
   "metadata": {},
   "source": [
    "Check if any of the current tags have been added earlier"
   ]
  },
  {
   "cell_type": "code",
   "execution_count": 61,
   "id": "06b5caf9",
   "metadata": {},
   "outputs": [
    {
     "data": {
      "application/vnd.jupyter.widget-view+json": {
       "model_id": "b69159d03fa64144954153d3a508c183",
       "version_major": 2,
       "version_minor": 0
      },
      "text/plain": [
       "VBox()"
      ]
     },
     "metadata": {},
     "output_type": "display_data"
    },
    {
     "data": {
      "application/vnd.jupyter.widget-view+json": {
       "model_id": "",
       "version_major": 2,
       "version_minor": 0
      },
      "text/plain": [
       "FloatProgress(value=0.0, bar_style='info', description='Progress:', layout=Layout(height='25px', width='50%'),…"
      ]
     },
     "metadata": {},
     "output_type": "display_data"
    },
    {
     "name": "stdout",
     "output_type": "stream",
     "text": [
      "set()"
     ]
    }
   ],
   "source": [
    "all_added_columns_set & set(bottom_rated_tags_list)"
   ]
  },
  {
   "cell_type": "code",
   "execution_count": 62,
   "id": "b044ac62",
   "metadata": {},
   "outputs": [
    {
     "data": {
      "application/vnd.jupyter.widget-view+json": {
       "model_id": "78fc8bf814a144e5a2fd0ba6b0cafed8",
       "version_major": 2,
       "version_minor": 0
      },
      "text/plain": [
       "VBox()"
      ]
     },
     "metadata": {},
     "output_type": "display_data"
    },
    {
     "data": {
      "application/vnd.jupyter.widget-view+json": {
       "model_id": "",
       "version_major": 2,
       "version_minor": 0
      },
      "text/plain": [
       "FloatProgress(value=0.0, bar_style='info', description='Progress:', layout=Layout(height='25px', width='50%'),…"
      ]
     },
     "metadata": {},
     "output_type": "display_data"
    },
    {
     "name": "stdout",
     "output_type": "stream",
     "text": [
      "added column: has_tag_pressure-canning\n",
      "added column: has_tag_honduran\n",
      "added column: has_tag_unprocessed-freezer\n",
      "added column: has_tag_birthday\n",
      "added column: has_tag_jellies\n",
      "added column: has_tag_water-bath"
     ]
    }
   ],
   "source": []
  },
  {
   "cell_type": "markdown",
   "id": "fedadf63",
   "metadata": {},
   "source": [
    "## Final DataFrame"
   ]
  },
  {
   "cell_type": "code",
   "execution_count": 63,
   "id": "5dffa017",
   "metadata": {},
   "outputs": [
    {
     "data": {
      "application/vnd.jupyter.widget-view+json": {
       "model_id": "cb809497568449838746a463fc41fbd1",
       "version_major": 2,
       "version_minor": 0
      },
      "text/plain": [
       "VBox()"
      ]
     },
     "metadata": {},
     "output_type": "display_data"
    },
    {
     "data": {
      "application/vnd.jupyter.widget-view+json": {
       "model_id": "",
       "version_major": 2,
       "version_minor": 0
      },
      "text/plain": [
       "FloatProgress(value=0.0, bar_style='info', description='Progress:', layout=Layout(height='25px', width='50%'),…"
      ]
     },
     "metadata": {},
     "output_type": "display_data"
    },
    {
     "name": "stdout",
     "output_type": "stream",
     "text": [
      "148"
     ]
    }
   ],
   "source": [
    "len(interaction_level_df.columns)"
   ]
  },
  {
   "cell_type": "code",
   "execution_count": null,
   "id": "c878b1df",
   "metadata": {},
   "outputs": [
    {
     "data": {
      "application/vnd.jupyter.widget-view+json": {
       "model_id": "841c9922765d4450aa5e86d49fd9eb0f",
       "version_major": 2,
       "version_minor": 0
      },
      "text/plain": [
       "VBox()"
      ]
     },
     "metadata": {},
     "output_type": "display_data"
    },
    {
     "data": {
      "application/vnd.jupyter.widget-view+json": {
       "model_id": "b9c932de8ade48b2b783f039a7dee8db",
       "version_major": 2,
       "version_minor": 0
      },
      "text/plain": [
       "FloatProgress(value=0.0, bar_style='info', description='Progress:', layout=Layout(height='25px', width='50%'),…"
      ]
     },
     "metadata": {},
     "output_type": "display_data"
    }
   ],
   "source": [
    "interaction_level_df.write.mode('overwrite').parquet(# add code here)"
   ]
  }
 ],
 "metadata": {
  "kernelspec": {
   "display_name": "PySpark",
   "language": "",
   "name": "pysparkkernel"
  },
  "language_info": {
   "codemirror_mode": {
    "name": "python",
    "version": 3
   },
   "mimetype": "text/x-python",
   "name": "pyspark",
   "pygments_lexer": "python3"
  }
 },
 "nbformat": 4,
 "nbformat_minor": 5
}
